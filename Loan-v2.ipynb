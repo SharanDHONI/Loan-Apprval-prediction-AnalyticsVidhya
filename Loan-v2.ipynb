{
 "cells": [
  {
   "cell_type": "markdown",
   "id": "1cef09b2",
   "metadata": {},
   "source": [
    "## Importing libraries"
   ]
  },
  {
   "cell_type": "code",
   "execution_count": 334,
   "id": "6107fa2c",
   "metadata": {},
   "outputs": [],
   "source": [
    "import pandas as pd\n",
    "import numpy as np\n",
    "import seaborn as sns\n",
    "import matplotlib.pyplot as plt\n",
    "import warnings\n",
    "warnings.filterwarnings('ignore')\n",
    "pd.set_option('display.max_rows',None)\n",
    "pd.set_option('display.max_columns',None)"
   ]
  },
  {
   "cell_type": "code",
   "execution_count": null,
   "id": "b82db0cf",
   "metadata": {},
   "outputs": [],
   "source": []
  },
  {
   "cell_type": "markdown",
   "id": "8940c5f6",
   "metadata": {},
   "source": [
    "## Importing Data"
   ]
  },
  {
   "cell_type": "code",
   "execution_count": 175,
   "id": "522f911c",
   "metadata": {},
   "outputs": [],
   "source": [
    "df1 = pd.read_csv('train_ctrUa4K.csv')\n",
    "df2 = pd.read_csv('test_lAUu6dG.csv')"
   ]
  },
  {
   "cell_type": "code",
   "execution_count": 176,
   "id": "41b13f21",
   "metadata": {},
   "outputs": [
    {
     "data": {
      "text/plain": [
       "981"
      ]
     },
     "execution_count": 176,
     "metadata": {},
     "output_type": "execute_result"
    }
   ],
   "source": [
    "len(df1) + len(df2)"
   ]
  },
  {
   "cell_type": "markdown",
   "id": "c8d74815",
   "metadata": {},
   "source": [
    "### Lets now concat the 2 dataframes and check for null values! Imputing the values after concating will eleminate the \"DATA LEAKAGE\""
   ]
  },
  {
   "cell_type": "code",
   "execution_count": 177,
   "id": "8c491316",
   "metadata": {},
   "outputs": [],
   "source": [
    "temp_df = pd.concat([df1,df2])"
   ]
  },
  {
   "cell_type": "code",
   "execution_count": 178,
   "id": "e7f36773",
   "metadata": {
    "scrolled": true
   },
   "outputs": [
    {
     "data": {
      "text/html": [
       "<div>\n",
       "<style scoped>\n",
       "    .dataframe tbody tr th:only-of-type {\n",
       "        vertical-align: middle;\n",
       "    }\n",
       "\n",
       "    .dataframe tbody tr th {\n",
       "        vertical-align: top;\n",
       "    }\n",
       "\n",
       "    .dataframe thead th {\n",
       "        text-align: right;\n",
       "    }\n",
       "</style>\n",
       "<table border=\"1\" class=\"dataframe\">\n",
       "  <thead>\n",
       "    <tr style=\"text-align: right;\">\n",
       "      <th></th>\n",
       "      <th>Loan_ID</th>\n",
       "      <th>Gender</th>\n",
       "      <th>Married</th>\n",
       "      <th>Dependents</th>\n",
       "      <th>Education</th>\n",
       "      <th>Self_Employed</th>\n",
       "      <th>ApplicantIncome</th>\n",
       "      <th>CoapplicantIncome</th>\n",
       "      <th>LoanAmount</th>\n",
       "      <th>Loan_Amount_Term</th>\n",
       "      <th>Credit_History</th>\n",
       "      <th>Property_Area</th>\n",
       "      <th>Loan_Status</th>\n",
       "    </tr>\n",
       "  </thead>\n",
       "  <tbody>\n",
       "    <tr>\n",
       "      <th>0</th>\n",
       "      <td>LP001002</td>\n",
       "      <td>Male</td>\n",
       "      <td>No</td>\n",
       "      <td>0</td>\n",
       "      <td>Graduate</td>\n",
       "      <td>No</td>\n",
       "      <td>5849</td>\n",
       "      <td>0.0</td>\n",
       "      <td>NaN</td>\n",
       "      <td>360.0</td>\n",
       "      <td>1.0</td>\n",
       "      <td>Urban</td>\n",
       "      <td>Y</td>\n",
       "    </tr>\n",
       "    <tr>\n",
       "      <th>1</th>\n",
       "      <td>LP001003</td>\n",
       "      <td>Male</td>\n",
       "      <td>Yes</td>\n",
       "      <td>1</td>\n",
       "      <td>Graduate</td>\n",
       "      <td>No</td>\n",
       "      <td>4583</td>\n",
       "      <td>1508.0</td>\n",
       "      <td>128.0</td>\n",
       "      <td>360.0</td>\n",
       "      <td>1.0</td>\n",
       "      <td>Rural</td>\n",
       "      <td>N</td>\n",
       "    </tr>\n",
       "    <tr>\n",
       "      <th>2</th>\n",
       "      <td>LP001005</td>\n",
       "      <td>Male</td>\n",
       "      <td>Yes</td>\n",
       "      <td>0</td>\n",
       "      <td>Graduate</td>\n",
       "      <td>Yes</td>\n",
       "      <td>3000</td>\n",
       "      <td>0.0</td>\n",
       "      <td>66.0</td>\n",
       "      <td>360.0</td>\n",
       "      <td>1.0</td>\n",
       "      <td>Urban</td>\n",
       "      <td>Y</td>\n",
       "    </tr>\n",
       "    <tr>\n",
       "      <th>3</th>\n",
       "      <td>LP001006</td>\n",
       "      <td>Male</td>\n",
       "      <td>Yes</td>\n",
       "      <td>0</td>\n",
       "      <td>Not Graduate</td>\n",
       "      <td>No</td>\n",
       "      <td>2583</td>\n",
       "      <td>2358.0</td>\n",
       "      <td>120.0</td>\n",
       "      <td>360.0</td>\n",
       "      <td>1.0</td>\n",
       "      <td>Urban</td>\n",
       "      <td>Y</td>\n",
       "    </tr>\n",
       "    <tr>\n",
       "      <th>4</th>\n",
       "      <td>LP001008</td>\n",
       "      <td>Male</td>\n",
       "      <td>No</td>\n",
       "      <td>0</td>\n",
       "      <td>Graduate</td>\n",
       "      <td>No</td>\n",
       "      <td>6000</td>\n",
       "      <td>0.0</td>\n",
       "      <td>141.0</td>\n",
       "      <td>360.0</td>\n",
       "      <td>1.0</td>\n",
       "      <td>Urban</td>\n",
       "      <td>Y</td>\n",
       "    </tr>\n",
       "  </tbody>\n",
       "</table>\n",
       "</div>"
      ],
      "text/plain": [
       "    Loan_ID Gender Married Dependents     Education Self_Employed  \\\n",
       "0  LP001002   Male      No          0      Graduate            No   \n",
       "1  LP001003   Male     Yes          1      Graduate            No   \n",
       "2  LP001005   Male     Yes          0      Graduate           Yes   \n",
       "3  LP001006   Male     Yes          0  Not Graduate            No   \n",
       "4  LP001008   Male      No          0      Graduate            No   \n",
       "\n",
       "   ApplicantIncome  CoapplicantIncome  LoanAmount  Loan_Amount_Term  \\\n",
       "0             5849                0.0         NaN             360.0   \n",
       "1             4583             1508.0       128.0             360.0   \n",
       "2             3000                0.0        66.0             360.0   \n",
       "3             2583             2358.0       120.0             360.0   \n",
       "4             6000                0.0       141.0             360.0   \n",
       "\n",
       "   Credit_History Property_Area Loan_Status  \n",
       "0             1.0         Urban           Y  \n",
       "1             1.0         Rural           N  \n",
       "2             1.0         Urban           Y  \n",
       "3             1.0         Urban           Y  \n",
       "4             1.0         Urban           Y  "
      ]
     },
     "execution_count": 178,
     "metadata": {},
     "output_type": "execute_result"
    }
   ],
   "source": [
    "temp_df.head()"
   ]
  },
  {
   "cell_type": "code",
   "execution_count": null,
   "id": "cc9aafd5",
   "metadata": {},
   "outputs": [],
   "source": []
  },
  {
   "cell_type": "markdown",
   "id": "6c2bba44",
   "metadata": {},
   "source": [
    "## Info on the data"
   ]
  },
  {
   "cell_type": "code",
   "execution_count": 179,
   "id": "722e777c",
   "metadata": {},
   "outputs": [
    {
     "name": "stdout",
     "output_type": "stream",
     "text": [
      "<class 'pandas.core.frame.DataFrame'>\n",
      "Int64Index: 981 entries, 0 to 366\n",
      "Data columns (total 13 columns):\n",
      " #   Column             Non-Null Count  Dtype  \n",
      "---  ------             --------------  -----  \n",
      " 0   Loan_ID            981 non-null    object \n",
      " 1   Gender             957 non-null    object \n",
      " 2   Married            978 non-null    object \n",
      " 3   Dependents         956 non-null    object \n",
      " 4   Education          981 non-null    object \n",
      " 5   Self_Employed      926 non-null    object \n",
      " 6   ApplicantIncome    981 non-null    int64  \n",
      " 7   CoapplicantIncome  981 non-null    float64\n",
      " 8   LoanAmount         954 non-null    float64\n",
      " 9   Loan_Amount_Term   961 non-null    float64\n",
      " 10  Credit_History     902 non-null    float64\n",
      " 11  Property_Area      981 non-null    object \n",
      " 12  Loan_Status        614 non-null    object \n",
      "dtypes: float64(4), int64(1), object(8)\n",
      "memory usage: 107.3+ KB\n"
     ]
    }
   ],
   "source": [
    "temp_df.info()"
   ]
  },
  {
   "cell_type": "code",
   "execution_count": 180,
   "id": "89ce78cd",
   "metadata": {},
   "outputs": [
    {
     "data": {
      "text/html": [
       "<div>\n",
       "<style scoped>\n",
       "    .dataframe tbody tr th:only-of-type {\n",
       "        vertical-align: middle;\n",
       "    }\n",
       "\n",
       "    .dataframe tbody tr th {\n",
       "        vertical-align: top;\n",
       "    }\n",
       "\n",
       "    .dataframe thead th {\n",
       "        text-align: right;\n",
       "    }\n",
       "</style>\n",
       "<table border=\"1\" class=\"dataframe\">\n",
       "  <thead>\n",
       "    <tr style=\"text-align: right;\">\n",
       "      <th></th>\n",
       "      <th>count</th>\n",
       "      <th>mean</th>\n",
       "      <th>std</th>\n",
       "      <th>min</th>\n",
       "      <th>25%</th>\n",
       "      <th>50%</th>\n",
       "      <th>75%</th>\n",
       "      <th>max</th>\n",
       "    </tr>\n",
       "  </thead>\n",
       "  <tbody>\n",
       "    <tr>\n",
       "      <th>ApplicantIncome</th>\n",
       "      <td>981.0</td>\n",
       "      <td>5179.795107</td>\n",
       "      <td>5695.104533</td>\n",
       "      <td>0.0</td>\n",
       "      <td>2875.0</td>\n",
       "      <td>3800.0</td>\n",
       "      <td>5516.0</td>\n",
       "      <td>81000.0</td>\n",
       "    </tr>\n",
       "    <tr>\n",
       "      <th>CoapplicantIncome</th>\n",
       "      <td>981.0</td>\n",
       "      <td>1601.916330</td>\n",
       "      <td>2718.772806</td>\n",
       "      <td>0.0</td>\n",
       "      <td>0.0</td>\n",
       "      <td>1110.0</td>\n",
       "      <td>2365.0</td>\n",
       "      <td>41667.0</td>\n",
       "    </tr>\n",
       "    <tr>\n",
       "      <th>LoanAmount</th>\n",
       "      <td>954.0</td>\n",
       "      <td>142.511530</td>\n",
       "      <td>77.421743</td>\n",
       "      <td>9.0</td>\n",
       "      <td>100.0</td>\n",
       "      <td>126.0</td>\n",
       "      <td>162.0</td>\n",
       "      <td>700.0</td>\n",
       "    </tr>\n",
       "    <tr>\n",
       "      <th>Loan_Amount_Term</th>\n",
       "      <td>961.0</td>\n",
       "      <td>342.201873</td>\n",
       "      <td>65.100602</td>\n",
       "      <td>6.0</td>\n",
       "      <td>360.0</td>\n",
       "      <td>360.0</td>\n",
       "      <td>360.0</td>\n",
       "      <td>480.0</td>\n",
       "    </tr>\n",
       "    <tr>\n",
       "      <th>Credit_History</th>\n",
       "      <td>902.0</td>\n",
       "      <td>0.835920</td>\n",
       "      <td>0.370553</td>\n",
       "      <td>0.0</td>\n",
       "      <td>1.0</td>\n",
       "      <td>1.0</td>\n",
       "      <td>1.0</td>\n",
       "      <td>1.0</td>\n",
       "    </tr>\n",
       "  </tbody>\n",
       "</table>\n",
       "</div>"
      ],
      "text/plain": [
       "                   count         mean          std  min     25%     50%  \\\n",
       "ApplicantIncome    981.0  5179.795107  5695.104533  0.0  2875.0  3800.0   \n",
       "CoapplicantIncome  981.0  1601.916330  2718.772806  0.0     0.0  1110.0   \n",
       "LoanAmount         954.0   142.511530    77.421743  9.0   100.0   126.0   \n",
       "Loan_Amount_Term   961.0   342.201873    65.100602  6.0   360.0   360.0   \n",
       "Credit_History     902.0     0.835920     0.370553  0.0     1.0     1.0   \n",
       "\n",
       "                      75%      max  \n",
       "ApplicantIncome    5516.0  81000.0  \n",
       "CoapplicantIncome  2365.0  41667.0  \n",
       "LoanAmount          162.0    700.0  \n",
       "Loan_Amount_Term    360.0    480.0  \n",
       "Credit_History        1.0      1.0  "
      ]
     },
     "execution_count": 180,
     "metadata": {},
     "output_type": "execute_result"
    }
   ],
   "source": [
    "temp_df.describe().transpose()"
   ]
  },
  {
   "cell_type": "markdown",
   "id": "8bb34573",
   "metadata": {},
   "source": [
    "### Imputing Null values"
   ]
  },
  {
   "cell_type": "code",
   "execution_count": 181,
   "id": "866cfc6c",
   "metadata": {},
   "outputs": [
    {
     "data": {
      "text/plain": [
       "Loan_ID                0\n",
       "Gender                24\n",
       "Married                3\n",
       "Dependents            25\n",
       "Education              0\n",
       "Self_Employed         55\n",
       "ApplicantIncome        0\n",
       "CoapplicantIncome      0\n",
       "LoanAmount            27\n",
       "Loan_Amount_Term      20\n",
       "Credit_History        79\n",
       "Property_Area          0\n",
       "Loan_Status          367\n",
       "dtype: int64"
      ]
     },
     "execution_count": 181,
     "metadata": {},
     "output_type": "execute_result"
    }
   ],
   "source": [
    "temp_df.isnull().sum()"
   ]
  },
  {
   "cell_type": "code",
   "execution_count": null,
   "id": "1fa9bf03",
   "metadata": {},
   "outputs": [],
   "source": []
  },
  {
   "cell_type": "code",
   "execution_count": 182,
   "id": "80ad6afa",
   "metadata": {},
   "outputs": [],
   "source": [
    "temp_df['Gender'].fillna('Male',inplace=True) ## imputing Gender based on mode()"
   ]
  },
  {
   "cell_type": "code",
   "execution_count": 183,
   "id": "4e2b1aaf",
   "metadata": {},
   "outputs": [
    {
     "data": {
      "text/plain": [
       "Married\n",
       "No     4778.731988\n",
       "Yes    5395.464342\n",
       "Name: ApplicantIncome, dtype: float64"
      ]
     },
     "execution_count": 183,
     "metadata": {},
     "output_type": "execute_result"
    }
   ],
   "source": [
    "temp_df.ApplicantIncome.groupby(temp_df.Married).mean()"
   ]
  },
  {
   "cell_type": "code",
   "execution_count": 184,
   "id": "a0a07776",
   "metadata": {},
   "outputs": [],
   "source": [
    "mar = []\n",
    "for i,j in zip(temp_df.Married,temp_df.ApplicantIncome):\n",
    "    if (i is np.nan) and (j>4778):\n",
    "        mar.append('Yes')\n",
    "    elif (i is np.nan) and (j <= 4778):\n",
    "        mar.append('No')\n",
    "    else:\n",
    "        mar.append(i)"
   ]
  },
  {
   "cell_type": "code",
   "execution_count": 185,
   "id": "d7ba3b72",
   "metadata": {},
   "outputs": [],
   "source": [
    "temp_df['Married'] = mar ## imputing Married based on income of applicant"
   ]
  },
  {
   "cell_type": "code",
   "execution_count": 187,
   "id": "819b034c",
   "metadata": {},
   "outputs": [],
   "source": [
    "# temp_df.loc[(temp_df.Dependents.isnull())&(temp_df.Married == 'No')]"
   ]
  },
  {
   "cell_type": "code",
   "execution_count": 198,
   "id": "9e98e261",
   "metadata": {},
   "outputs": [],
   "source": [
    "### Imputing dependants value as 1 if married, else with the value of i\n",
    "dep = []\n",
    "for i,j in zip(temp_df.Dependents,temp_df.Married):\n",
    "    if (i is np.nan) and (j == 'Yes'):\n",
    "        dep.append('1')\n",
    "    elif (i is np.nan) and (j == 'No'):\n",
    "        dep.append('0')\n",
    "    else:\n",
    "        dep.append(i)"
   ]
  },
  {
   "cell_type": "code",
   "execution_count": 199,
   "id": "b658493d",
   "metadata": {},
   "outputs": [],
   "source": [
    "temp_df['Dependents'] = dep"
   ]
  },
  {
   "cell_type": "code",
   "execution_count": 200,
   "id": "b9dc32de",
   "metadata": {},
   "outputs": [
    {
     "data": {
      "text/plain": [
       "Self_Employed\n",
       "No     4892.030979\n",
       "Yes    6912.579832\n",
       "Name: ApplicantIncome, dtype: float64"
      ]
     },
     "execution_count": 200,
     "metadata": {},
     "output_type": "execute_result"
    }
   ],
   "source": [
    "temp_df.ApplicantIncome.groupby(temp_df.Self_Employed).mean()"
   ]
  },
  {
   "cell_type": "code",
   "execution_count": null,
   "id": "90ae6284",
   "metadata": {},
   "outputs": [],
   "source": []
  },
  {
   "cell_type": "code",
   "execution_count": 202,
   "id": "2752c23d",
   "metadata": {},
   "outputs": [],
   "source": [
    "se = []\n",
    "for i,j in zip(temp_df.Self_Employed,temp_df.ApplicantIncome):\n",
    "    if (i is np.nan) and (j > 4892):\n",
    "        se.append('Yes')\n",
    "    elif (i is np.nan) and (j <= 4892):\n",
    "        se.append('No')\n",
    "    else:\n",
    "        se.append(i)"
   ]
  },
  {
   "cell_type": "code",
   "execution_count": 203,
   "id": "a0fd2615",
   "metadata": {},
   "outputs": [],
   "source": [
    "temp_df['Self_Employed'] = se ## imputing SE with Applicant income"
   ]
  },
  {
   "cell_type": "code",
   "execution_count": 204,
   "id": "6a25e2cf",
   "metadata": {},
   "outputs": [
    {
     "data": {
      "text/plain": [
       "126.0"
      ]
     },
     "execution_count": 204,
     "metadata": {},
     "output_type": "execute_result"
    }
   ],
   "source": [
    "temp_df.LoanAmount.median()"
   ]
  },
  {
   "cell_type": "code",
   "execution_count": 205,
   "id": "5c505e91",
   "metadata": {},
   "outputs": [],
   "source": [
    "temp_df['LoanAmount'].fillna(126,axis=0,inplace=True) ## imputing with median()"
   ]
  },
  {
   "cell_type": "code",
   "execution_count": 206,
   "id": "8fa95355",
   "metadata": {},
   "outputs": [
    {
     "data": {
      "text/plain": [
       "360.0"
      ]
     },
     "execution_count": 206,
     "metadata": {},
     "output_type": "execute_result"
    }
   ],
   "source": [
    "temp_df.Loan_Amount_Term.median()"
   ]
  },
  {
   "cell_type": "code",
   "execution_count": 207,
   "id": "c50b3276",
   "metadata": {},
   "outputs": [],
   "source": [
    "temp_df['Loan_Amount_Term'].fillna(360,axis=0,inplace=True) ## imputing with median()"
   ]
  },
  {
   "cell_type": "code",
   "execution_count": 208,
   "id": "2a63d609",
   "metadata": {},
   "outputs": [
    {
     "data": {
      "text/plain": [
       "1.0    754\n",
       "0.0    148\n",
       "Name: Credit_History, dtype: int64"
      ]
     },
     "execution_count": 208,
     "metadata": {},
     "output_type": "execute_result"
    }
   ],
   "source": [
    "temp_df.Credit_History.value_counts()"
   ]
  },
  {
   "cell_type": "code",
   "execution_count": 209,
   "id": "83788ef2",
   "metadata": {},
   "outputs": [],
   "source": [
    "temp_df['Credit_History'].fillna(1,axis=0,inplace=True)"
   ]
  },
  {
   "cell_type": "markdown",
   "id": "ff84832c",
   "metadata": {},
   "source": [
    "### We now split the data into train and test again after imputing null values! "
   ]
  },
  {
   "cell_type": "code",
   "execution_count": 210,
   "id": "6cbe8f1c",
   "metadata": {},
   "outputs": [],
   "source": [
    "df = temp_df[:len(df1)]"
   ]
  },
  {
   "cell_type": "code",
   "execution_count": 444,
   "id": "3ea04859",
   "metadata": {},
   "outputs": [],
   "source": [
    "test = temp_df[len(df2):]"
   ]
  },
  {
   "cell_type": "code",
   "execution_count": 445,
   "id": "64c448e7",
   "metadata": {},
   "outputs": [],
   "source": [
    "test.drop('Loan_Status',axis=1,inplace=True) ## since we concatenated the 2 dfs, an extra column will be created ! "
   ]
  },
  {
   "cell_type": "code",
   "execution_count": 446,
   "id": "89e43a42",
   "metadata": {},
   "outputs": [
    {
     "data": {
      "text/html": [
       "<div>\n",
       "<style scoped>\n",
       "    .dataframe tbody tr th:only-of-type {\n",
       "        vertical-align: middle;\n",
       "    }\n",
       "\n",
       "    .dataframe tbody tr th {\n",
       "        vertical-align: top;\n",
       "    }\n",
       "\n",
       "    .dataframe thead th {\n",
       "        text-align: right;\n",
       "    }\n",
       "</style>\n",
       "<table border=\"1\" class=\"dataframe\">\n",
       "  <thead>\n",
       "    <tr style=\"text-align: right;\">\n",
       "      <th></th>\n",
       "      <th>Loan_ID</th>\n",
       "      <th>Gender</th>\n",
       "      <th>Married</th>\n",
       "      <th>Dependents</th>\n",
       "      <th>Education</th>\n",
       "      <th>Self_Employed</th>\n",
       "      <th>ApplicantIncome</th>\n",
       "      <th>CoapplicantIncome</th>\n",
       "      <th>LoanAmount</th>\n",
       "      <th>Loan_Amount_Term</th>\n",
       "      <th>Credit_History</th>\n",
       "      <th>Property_Area</th>\n",
       "    </tr>\n",
       "  </thead>\n",
       "  <tbody>\n",
       "    <tr>\n",
       "      <th>367</th>\n",
       "      <td>LP002188</td>\n",
       "      <td>Male</td>\n",
       "      <td>No</td>\n",
       "      <td>0</td>\n",
       "      <td>Graduate</td>\n",
       "      <td>No</td>\n",
       "      <td>5124</td>\n",
       "      <td>0.0</td>\n",
       "      <td>124.0</td>\n",
       "      <td>360.0</td>\n",
       "      <td>0.0</td>\n",
       "      <td>Rural</td>\n",
       "    </tr>\n",
       "    <tr>\n",
       "      <th>368</th>\n",
       "      <td>LP002190</td>\n",
       "      <td>Male</td>\n",
       "      <td>Yes</td>\n",
       "      <td>1</td>\n",
       "      <td>Graduate</td>\n",
       "      <td>No</td>\n",
       "      <td>6325</td>\n",
       "      <td>0.0</td>\n",
       "      <td>175.0</td>\n",
       "      <td>360.0</td>\n",
       "      <td>1.0</td>\n",
       "      <td>Semiurban</td>\n",
       "    </tr>\n",
       "    <tr>\n",
       "      <th>369</th>\n",
       "      <td>LP002191</td>\n",
       "      <td>Male</td>\n",
       "      <td>Yes</td>\n",
       "      <td>0</td>\n",
       "      <td>Graduate</td>\n",
       "      <td>No</td>\n",
       "      <td>19730</td>\n",
       "      <td>5266.0</td>\n",
       "      <td>570.0</td>\n",
       "      <td>360.0</td>\n",
       "      <td>1.0</td>\n",
       "      <td>Rural</td>\n",
       "    </tr>\n",
       "    <tr>\n",
       "      <th>370</th>\n",
       "      <td>LP002194</td>\n",
       "      <td>Female</td>\n",
       "      <td>No</td>\n",
       "      <td>0</td>\n",
       "      <td>Graduate</td>\n",
       "      <td>Yes</td>\n",
       "      <td>15759</td>\n",
       "      <td>0.0</td>\n",
       "      <td>55.0</td>\n",
       "      <td>360.0</td>\n",
       "      <td>1.0</td>\n",
       "      <td>Semiurban</td>\n",
       "    </tr>\n",
       "    <tr>\n",
       "      <th>371</th>\n",
       "      <td>LP002197</td>\n",
       "      <td>Male</td>\n",
       "      <td>Yes</td>\n",
       "      <td>2</td>\n",
       "      <td>Graduate</td>\n",
       "      <td>No</td>\n",
       "      <td>5185</td>\n",
       "      <td>0.0</td>\n",
       "      <td>155.0</td>\n",
       "      <td>360.0</td>\n",
       "      <td>1.0</td>\n",
       "      <td>Semiurban</td>\n",
       "    </tr>\n",
       "  </tbody>\n",
       "</table>\n",
       "</div>"
      ],
      "text/plain": [
       "      Loan_ID  Gender Married Dependents Education Self_Employed  \\\n",
       "367  LP002188    Male      No          0  Graduate            No   \n",
       "368  LP002190    Male     Yes          1  Graduate            No   \n",
       "369  LP002191    Male     Yes          0  Graduate            No   \n",
       "370  LP002194  Female      No          0  Graduate           Yes   \n",
       "371  LP002197    Male     Yes          2  Graduate            No   \n",
       "\n",
       "     ApplicantIncome  CoapplicantIncome  LoanAmount  Loan_Amount_Term  \\\n",
       "367             5124                0.0       124.0             360.0   \n",
       "368             6325                0.0       175.0             360.0   \n",
       "369            19730             5266.0       570.0             360.0   \n",
       "370            15759                0.0        55.0             360.0   \n",
       "371             5185                0.0       155.0             360.0   \n",
       "\n",
       "     Credit_History Property_Area  \n",
       "367             0.0         Rural  \n",
       "368             1.0     Semiurban  \n",
       "369             1.0         Rural  \n",
       "370             1.0     Semiurban  \n",
       "371             1.0     Semiurban  "
      ]
     },
     "execution_count": 446,
     "metadata": {},
     "output_type": "execute_result"
    }
   ],
   "source": [
    "test.head()"
   ]
  },
  {
   "cell_type": "markdown",
   "id": "fd6d56e6",
   "metadata": {},
   "source": [
    "### Info on our new data "
   ]
  },
  {
   "cell_type": "code",
   "execution_count": 213,
   "id": "5768bb17",
   "metadata": {},
   "outputs": [
    {
     "name": "stdout",
     "output_type": "stream",
     "text": [
      "<class 'pandas.core.frame.DataFrame'>\n",
      "Int64Index: 614 entries, 0 to 613\n",
      "Data columns (total 13 columns):\n",
      " #   Column             Non-Null Count  Dtype  \n",
      "---  ------             --------------  -----  \n",
      " 0   Loan_ID            614 non-null    object \n",
      " 1   Gender             614 non-null    object \n",
      " 2   Married            614 non-null    object \n",
      " 3   Dependents         614 non-null    object \n",
      " 4   Education          614 non-null    object \n",
      " 5   Self_Employed      614 non-null    object \n",
      " 6   ApplicantIncome    614 non-null    int64  \n",
      " 7   CoapplicantIncome  614 non-null    float64\n",
      " 8   LoanAmount         614 non-null    float64\n",
      " 9   Loan_Amount_Term   614 non-null    float64\n",
      " 10  Credit_History     614 non-null    float64\n",
      " 11  Property_Area      614 non-null    object \n",
      " 12  Loan_Status        614 non-null    object \n",
      "dtypes: float64(4), int64(1), object(8)\n",
      "memory usage: 67.2+ KB\n"
     ]
    }
   ],
   "source": [
    "df.info()"
   ]
  },
  {
   "cell_type": "code",
   "execution_count": 230,
   "id": "a04b6931",
   "metadata": {},
   "outputs": [],
   "source": [
    "df.Dependents = df.Dependents.astype(str)"
   ]
  },
  {
   "cell_type": "markdown",
   "id": "ad527524",
   "metadata": {},
   "source": [
    "## Data Analysis & Feature Engineering "
   ]
  },
  {
   "cell_type": "code",
   "execution_count": 214,
   "id": "ee142e28",
   "metadata": {},
   "outputs": [
    {
     "name": "stdout",
     "output_type": "stream",
     "text": [
      "Y    422\n",
      "N    192\n",
      "Name: Loan_Status, dtype: int64\n"
     ]
    },
    {
     "data": {
      "image/png": "[encoded data removed]",
      "text/plain": [
       "<Figure size 432x288 with 1 Axes>"
      ]
     },
     "metadata": {
      "needs_background": "light"
     },
     "output_type": "display_data"
    },
    {
     "name": "stdout",
     "output_type": "stream",
     "text": [
      "% values\n",
      "Y    68.729642\n",
      "N    31.270358\n",
      "Name: Loan_Status, dtype: float64\n"
     ]
    }
   ],
   "source": [
    "\n",
    "sns.countplot(df.Loan_Status)\n",
    "print(df.Loan_Status.value_counts(normalize=False))\n",
    "plt.grid()\n",
    "plt.show()\n",
    "print('% values')\n",
    "print(df.Loan_Status.value_counts(normalize=True)*100)"
   ]
  },
  {
   "cell_type": "markdown",
   "id": "b2ca42da",
   "metadata": {},
   "source": [
    "### Inference : 32% of loan requests have been rejected"
   ]
  },
  {
   "cell_type": "code",
   "execution_count": 215,
   "id": "80398445",
   "metadata": {},
   "outputs": [
    {
     "data": {
      "text/html": [
       "<div>\n",
       "<style scoped>\n",
       "    .dataframe tbody tr th:only-of-type {\n",
       "        vertical-align: middle;\n",
       "    }\n",
       "\n",
       "    .dataframe tbody tr th {\n",
       "        vertical-align: top;\n",
       "    }\n",
       "\n",
       "    .dataframe thead th {\n",
       "        text-align: right;\n",
       "    }\n",
       "</style>\n",
       "<table border=\"1\" class=\"dataframe\">\n",
       "  <thead>\n",
       "    <tr style=\"text-align: right;\">\n",
       "      <th></th>\n",
       "      <th>Loan_ID</th>\n",
       "      <th>Gender</th>\n",
       "      <th>Married</th>\n",
       "      <th>Dependents</th>\n",
       "      <th>Education</th>\n",
       "      <th>Self_Employed</th>\n",
       "      <th>ApplicantIncome</th>\n",
       "      <th>CoapplicantIncome</th>\n",
       "      <th>LoanAmount</th>\n",
       "      <th>Loan_Amount_Term</th>\n",
       "      <th>Credit_History</th>\n",
       "      <th>Property_Area</th>\n",
       "      <th>Loan_Status</th>\n",
       "    </tr>\n",
       "  </thead>\n",
       "  <tbody>\n",
       "    <tr>\n",
       "      <th>0</th>\n",
       "      <td>LP001002</td>\n",
       "      <td>Male</td>\n",
       "      <td>No</td>\n",
       "      <td>0</td>\n",
       "      <td>Graduate</td>\n",
       "      <td>No</td>\n",
       "      <td>5849</td>\n",
       "      <td>0.0</td>\n",
       "      <td>126.0</td>\n",
       "      <td>360.0</td>\n",
       "      <td>1.0</td>\n",
       "      <td>Urban</td>\n",
       "      <td>Y</td>\n",
       "    </tr>\n",
       "    <tr>\n",
       "      <th>1</th>\n",
       "      <td>LP001003</td>\n",
       "      <td>Male</td>\n",
       "      <td>Yes</td>\n",
       "      <td>1</td>\n",
       "      <td>Graduate</td>\n",
       "      <td>No</td>\n",
       "      <td>4583</td>\n",
       "      <td>1508.0</td>\n",
       "      <td>128.0</td>\n",
       "      <td>360.0</td>\n",
       "      <td>1.0</td>\n",
       "      <td>Rural</td>\n",
       "      <td>N</td>\n",
       "    </tr>\n",
       "    <tr>\n",
       "      <th>2</th>\n",
       "      <td>LP001005</td>\n",
       "      <td>Male</td>\n",
       "      <td>Yes</td>\n",
       "      <td>0</td>\n",
       "      <td>Graduate</td>\n",
       "      <td>Yes</td>\n",
       "      <td>3000</td>\n",
       "      <td>0.0</td>\n",
       "      <td>66.0</td>\n",
       "      <td>360.0</td>\n",
       "      <td>1.0</td>\n",
       "      <td>Urban</td>\n",
       "      <td>Y</td>\n",
       "    </tr>\n",
       "    <tr>\n",
       "      <th>3</th>\n",
       "      <td>LP001006</td>\n",
       "      <td>Male</td>\n",
       "      <td>Yes</td>\n",
       "      <td>0</td>\n",
       "      <td>Not Graduate</td>\n",
       "      <td>No</td>\n",
       "      <td>2583</td>\n",
       "      <td>2358.0</td>\n",
       "      <td>120.0</td>\n",
       "      <td>360.0</td>\n",
       "      <td>1.0</td>\n",
       "      <td>Urban</td>\n",
       "      <td>Y</td>\n",
       "    </tr>\n",
       "    <tr>\n",
       "      <th>4</th>\n",
       "      <td>LP001008</td>\n",
       "      <td>Male</td>\n",
       "      <td>No</td>\n",
       "      <td>0</td>\n",
       "      <td>Graduate</td>\n",
       "      <td>No</td>\n",
       "      <td>6000</td>\n",
       "      <td>0.0</td>\n",
       "      <td>141.0</td>\n",
       "      <td>360.0</td>\n",
       "      <td>1.0</td>\n",
       "      <td>Urban</td>\n",
       "      <td>Y</td>\n",
       "    </tr>\n",
       "  </tbody>\n",
       "</table>\n",
       "</div>"
      ],
      "text/plain": [
       "    Loan_ID Gender Married Dependents     Education Self_Employed  \\\n",
       "0  LP001002   Male      No          0      Graduate            No   \n",
       "1  LP001003   Male     Yes          1      Graduate            No   \n",
       "2  LP001005   Male     Yes          0      Graduate           Yes   \n",
       "3  LP001006   Male     Yes          0  Not Graduate            No   \n",
       "4  LP001008   Male      No          0      Graduate            No   \n",
       "\n",
       "   ApplicantIncome  CoapplicantIncome  LoanAmount  Loan_Amount_Term  \\\n",
       "0             5849                0.0       126.0             360.0   \n",
       "1             4583             1508.0       128.0             360.0   \n",
       "2             3000                0.0        66.0             360.0   \n",
       "3             2583             2358.0       120.0             360.0   \n",
       "4             6000                0.0       141.0             360.0   \n",
       "\n",
       "   Credit_History Property_Area Loan_Status  \n",
       "0             1.0         Urban           Y  \n",
       "1             1.0         Rural           N  \n",
       "2             1.0         Urban           Y  \n",
       "3             1.0         Urban           Y  \n",
       "4             1.0         Urban           Y  "
      ]
     },
     "execution_count": 215,
     "metadata": {},
     "output_type": "execute_result"
    }
   ],
   "source": [
    "df.head()"
   ]
  },
  {
   "cell_type": "markdown",
   "id": "74328cc3",
   "metadata": {},
   "source": [
    "### Adding new feature \"Total_family_income\""
   ]
  },
  {
   "cell_type": "code",
   "execution_count": 216,
   "id": "ddc38b43",
   "metadata": {},
   "outputs": [],
   "source": [
    "df['Total_family_income'] = df['ApplicantIncome']+df['CoapplicantIncome']"
   ]
  },
  {
   "cell_type": "markdown",
   "id": "86a33bf4",
   "metadata": {},
   "source": [
    "### Mean / median / max / min of the income "
   ]
  },
  {
   "cell_type": "code",
   "execution_count": 217,
   "id": "d5ea99fe",
   "metadata": {},
   "outputs": [],
   "source": [
    "def mxmn(feature):\n",
    "    print('max    : ',df[feature].max())\n",
    "    print('mean   : ',df[feature].mean())\n",
    "    print('median : ',df[feature].median())\n",
    "    print('min    : ',df[feature].min())"
   ]
  },
  {
   "cell_type": "code",
   "execution_count": 218,
   "id": "fdf788e1",
   "metadata": {},
   "outputs": [
    {
     "name": "stdout",
     "output_type": "stream",
     "text": [
      "max    :  41667.0\n",
      "mean   :  1621.2457980271008\n",
      "median :  1188.5\n",
      "min    :  0.0\n"
     ]
    }
   ],
   "source": [
    "mxmn('CoapplicantIncome')"
   ]
  },
  {
   "cell_type": "code",
   "execution_count": 219,
   "id": "ccd5846b",
   "metadata": {},
   "outputs": [
    {
     "name": "stdout",
     "output_type": "stream",
     "text": [
      "max    :  81000\n",
      "mean   :  5403.459283387622\n",
      "median :  3812.5\n",
      "min    :  150\n"
     ]
    }
   ],
   "source": [
    "mxmn('ApplicantIncome')"
   ]
  },
  {
   "cell_type": "code",
   "execution_count": 220,
   "id": "b4e530c2",
   "metadata": {},
   "outputs": [
    {
     "name": "stdout",
     "output_type": "stream",
     "text": [
      "max    :  81000.0\n",
      "mean   :  7024.705081414722\n",
      "median :  5416.5\n",
      "min    :  1442.0\n"
     ]
    }
   ],
   "source": [
    "mxmn('Total_family_income')"
   ]
  },
  {
   "cell_type": "code",
   "execution_count": 221,
   "id": "de9f9340",
   "metadata": {},
   "outputs": [],
   "source": [
    "ai = []\n",
    "for i in df['ApplicantIncome']:\n",
    "    if i < 3812:\n",
    "        ai.append('Poor')\n",
    "    elif 3812<=i<5403:\n",
    "        ai.append('MiddleClass')\n",
    "    elif i >= 5403:\n",
    "        ai.append('Rich')"
   ]
  },
  {
   "cell_type": "code",
   "execution_count": 222,
   "id": "f964bbc3",
   "metadata": {},
   "outputs": [],
   "source": [
    "df['ApplicantIncome_Category'] = ai"
   ]
  },
  {
   "cell_type": "code",
   "execution_count": 223,
   "id": "b8b97f4c",
   "metadata": {},
   "outputs": [
    {
     "data": {
      "text/plain": [
       "Poor           306\n",
       "Rich           176\n",
       "MiddleClass    132\n",
       "Name: ApplicantIncome_Category, dtype: int64"
      ]
     },
     "execution_count": 223,
     "metadata": {},
     "output_type": "execute_result"
    }
   ],
   "source": [
    "df['ApplicantIncome_Category'].value_counts()"
   ]
  },
  {
   "cell_type": "code",
   "execution_count": 224,
   "id": "450600e3",
   "metadata": {},
   "outputs": [],
   "source": [
    "fi = []\n",
    "for i in df['Total_family_income']:\n",
    "    if i < 5416:\n",
    "        fi.append('Poor')\n",
    "    elif 5416<=i<7024:\n",
    "        fi.append('MiddleClass')\n",
    "    elif i >= 7024:\n",
    "        fi.append('Rich')"
   ]
  },
  {
   "cell_type": "code",
   "execution_count": 225,
   "id": "e2e841f8",
   "metadata": {},
   "outputs": [],
   "source": [
    "df['Total_family_income_Category'] = fi"
   ]
  },
  {
   "cell_type": "markdown",
   "id": "c781f2c0",
   "metadata": {},
   "source": [
    "### Distributions and outliers"
   ]
  },
  {
   "cell_type": "code",
   "execution_count": 226,
   "id": "5f74d0bd",
   "metadata": {},
   "outputs": [
    {
     "data": {
      "image/png": "[encoded data removed]",
      "text/plain": [
       "<Figure size 720x1800 with 1 Axes>"
      ]
     },
     "metadata": {
      "needs_background": "light"
     },
     "output_type": "display_data"
    }
   ],
   "source": [
    "plt.figure(figsize=(10,25))\n",
    "sns.boxplot(y = df.ApplicantIncome)\n",
    "plt.grid()\n",
    "plt.yticks(np.arange(0,90000,1000))\n",
    "plt.show()"
   ]
  },
  {
   "cell_type": "code",
   "execution_count": null,
   "id": "7a828106",
   "metadata": {},
   "outputs": [],
   "source": []
  },
  {
   "cell_type": "code",
   "execution_count": 117,
   "id": "ae2b7af2",
   "metadata": {},
   "outputs": [],
   "source": [
    "appin_ls = pd.DataFrame(df.Loan_Status.groupby(df.ApplicantIncome_Category).value_counts(normalize=False))"
   ]
  },
  {
   "cell_type": "code",
   "execution_count": 116,
   "id": "33f10c2c",
   "metadata": {},
   "outputs": [],
   "source": [
    "pr = appin_ls['Loan_Status']"
   ]
  },
  {
   "cell_type": "code",
   "execution_count": 118,
   "id": "ac086322",
   "metadata": {},
   "outputs": [],
   "source": [
    "appin_ls['Percentage'] = round(pr*100,2)"
   ]
  },
  {
   "cell_type": "code",
   "execution_count": 119,
   "id": "1abf0ebc",
   "metadata": {},
   "outputs": [
    {
     "data": {
      "image/png": "[encoded data removed]",
      "text/plain": [
       "<Figure size 720x360 with 1 Axes>"
      ]
     },
     "metadata": {
      "needs_background": "light"
     },
     "output_type": "display_data"
    },
    {
     "name": "stdout",
     "output_type": "stream",
     "text": [
      "\n",
      "\n",
      "\n",
      "\n",
      "\n",
      "\n",
      "                                      Loan_Status  Percentage\n",
      "ApplicantIncome_Category Loan_Status                         \n",
      "MiddleClass              Y                     91       68.94\n",
      "                         N                     41       31.06\n",
      "Poor                     Y                    210       68.63\n",
      "                         N                     96       31.37\n",
      "Rich                     Y                    121       68.75\n",
      "                         N                     55       31.25\n"
     ]
    },
    {
     "data": {
      "image/png": "[encoded data removed]",
      "text/plain": [
       "<Figure size 720x360 with 1 Axes>"
      ]
     },
     "metadata": {
      "needs_background": "light"
     },
     "output_type": "display_data"
    }
   ],
   "source": [
    "## Applicant Income category and loan status\n",
    "plt.figure(figsize=(10,5))\n",
    "sns.countplot(df.ApplicantIncome_Category,order=df.ApplicantIncome_Category.value_counts().index)\n",
    "plt.grid()\n",
    "plt.title('APPLICANT INCOME CATEGORY COUNT')\n",
    "plt.show()\n",
    "print('\\n\\n')\n",
    "plt.figure(figsize=(10,5))\n",
    "sns.countplot(df.ApplicantIncome_Category,hue=df.Loan_Status,saturation=0.95,palette='winter')\n",
    "print('\\n\\n')\n",
    "print(appin_ls)\n",
    "plt.grid()\n",
    "plt.show()"
   ]
  },
  {
   "cell_type": "markdown",
   "id": "4dfee556",
   "metadata": {},
   "source": [
    "### Inferenece : Poor people apply for loans significantly higher than Middle class and rich, But the ratio of loans getting rejected to loans getting approved does not change. \n",
    "### Customers can belong to any tier, 69% of the rich, Poor and MC customers are being approved for loans while the remaining 31% are not been given loans! "
   ]
  },
  {
   "cell_type": "code",
   "execution_count": null,
   "id": "f6a8de44",
   "metadata": {},
   "outputs": [],
   "source": []
  },
  {
   "cell_type": "markdown",
   "id": "49656014",
   "metadata": {},
   "source": [
    "### Let's check the Total family income"
   ]
  },
  {
   "cell_type": "code",
   "execution_count": 122,
   "id": "06405d80",
   "metadata": {},
   "outputs": [],
   "source": [
    "famin_ls = pd.DataFrame(df.Loan_Status.groupby(df.Total_family_income_Category).value_counts(normalize=False))"
   ]
  },
  {
   "cell_type": "code",
   "execution_count": 121,
   "id": "c53775e8",
   "metadata": {},
   "outputs": [],
   "source": [
    "pr = famin_ls['Loan_Status']"
   ]
  },
  {
   "cell_type": "code",
   "execution_count": 123,
   "id": "a3a2d72d",
   "metadata": {},
   "outputs": [],
   "source": [
    "famin_ls['Percentage'] = pr*100"
   ]
  },
  {
   "cell_type": "code",
   "execution_count": 127,
   "id": "3660a20f",
   "metadata": {
    "scrolled": false
   },
   "outputs": [
    {
     "data": {
      "image/png": "[encoded data removed]",
      "text/plain": [
       "<Figure size 720x360 with 1 Axes>"
      ]
     },
     "metadata": {
      "needs_background": "light"
     },
     "output_type": "display_data"
    },
    {
     "name": "stdout",
     "output_type": "stream",
     "text": [
      "\n",
      "\n",
      "\n",
      "                                          Loan_Status  Percentage\n",
      "Total_family_income_Category Loan_Status                         \n",
      "MiddleClass                  Y                     96   72.180451\n",
      "                             N                     37   27.819549\n",
      "Poor                         Y                    208   67.973856\n",
      "                             N                     98   32.026144\n",
      "Rich                         Y                    118   67.428571\n",
      "                             N                     57   32.571429\n"
     ]
    },
    {
     "data": {
      "image/png": "[encoded data removed]",
      "text/plain": [
       "<Figure size 432x288 with 1 Axes>"
      ]
     },
     "metadata": {
      "needs_background": "light"
     },
     "output_type": "display_data"
    }
   ],
   "source": [
    "## Total family Income category and loan status\n",
    "plt.figure(figsize=(10,5))\n",
    "sns.countplot(df.Total_family_income_Category,order=df.Total_family_income_Category.value_counts().index)\n",
    "plt.grid()\n",
    "plt.show()\n",
    "\n",
    "\n",
    "sns.countplot(df.Total_family_income_Category,order=df.Total_family_income_Category.value_counts().index,hue=df.Loan_Status,saturation=0.9)\n",
    "print('\\n\\n')\n",
    "print(famin_ls)\n",
    "plt.grid()\n",
    "plt.show()"
   ]
  },
  {
   "cell_type": "markdown",
   "id": "be88f6de",
   "metadata": {},
   "source": [
    "### Inference : We can infer that only 27% of the middle class family (Total family income between 5416 and 7024) loan are being rejected. On the other hand, 32% of both rich family ( Total Income > 7024) and Poor family's (total income < 5416) loan have been rejected.\n",
    "###  *Probability of a loan getting rejected for the rich and poor are higher than the Middle class!* \n",
    "### (or in other words)\n",
    "### *Probability of getting loans is higher for the middle class*"
   ]
  },
  {
   "cell_type": "code",
   "execution_count": null,
   "id": "26edea91",
   "metadata": {},
   "outputs": [],
   "source": []
  },
  {
   "cell_type": "markdown",
   "id": "22db933b",
   "metadata": {},
   "source": [
    "### Is applicant's income playing a major factor for loans to be approved / rejected ?"
   ]
  },
  {
   "cell_type": "code",
   "execution_count": 128,
   "id": "eaa45929",
   "metadata": {},
   "outputs": [
    {
     "name": "stdout",
     "output_type": "stream",
     "text": [
      "   ApplicantIncome Loan_Status\n",
      "0      5446.078125           N\n",
      "1      5384.068720           Y\n"
     ]
    },
    {
     "data": {
      "image/png": "[encoded data removed]",
      "text/plain": [
       "<Figure size 432x288 with 1 Axes>"
      ]
     },
     "metadata": {
      "needs_background": "light"
     },
     "output_type": "display_data"
    }
   ],
   "source": [
    "api_ls = pd.DataFrame(df.ApplicantIncome.groupby(df.Loan_Status).mean())\n",
    "api_ls['Loan_Status'] = api_ls.index\n",
    "api_ls.index = np.arange(0,len(api_ls))\n",
    "\n",
    "plt.bar(api_ls.Loan_Status,api_ls.ApplicantIncome,color = ['r','b'])\n",
    "plt.grid()\n",
    "print(api_ls)\n",
    "plt.show()"
   ]
  },
  {
   "cell_type": "markdown",
   "id": "9243066d",
   "metadata": {},
   "source": [
    "### Inference : Loan is not rejected based on the applicant's Income "
   ]
  },
  {
   "cell_type": "code",
   "execution_count": null,
   "id": "a1c4faec",
   "metadata": {},
   "outputs": [],
   "source": []
  },
  {
   "cell_type": "markdown",
   "id": "5056d42e",
   "metadata": {},
   "source": [
    "### Total family income and property area! "
   ]
  },
  {
   "cell_type": "code",
   "execution_count": 142,
   "id": "1c404a72",
   "metadata": {},
   "outputs": [
    {
     "name": "stdout",
     "output_type": "stream",
     "text": [
      "               Total_family_income\n",
      "Property_Area                     \n",
      "Rural                  7199.620782\n",
      "Semiurban              6812.394850\n",
      "Urban                  7114.598020\n"
     ]
    },
    {
     "data": {
      "image/png": "[encoded data removed]",
      "text/plain": [
       "<Figure size 432x288 with 1 Axes>"
      ]
     },
     "metadata": {
      "needs_background": "light"
     },
     "output_type": "display_data"
    }
   ],
   "source": [
    "tfi_pa = pd.DataFrame(df.Total_family_income.groupby(df.Property_Area).mean())\n",
    "plt.bar(tfi_pa.index,tfi_pa.Total_family_income)\n",
    "plt.grid()\n",
    "print(tfi_pa)\n",
    "plt.show()"
   ]
  },
  {
   "cell_type": "code",
   "execution_count": 133,
   "id": "2db0ea2e",
   "metadata": {},
   "outputs": [],
   "source": [
    "prop_status = pd.DataFrame(df.Loan_Status.groupby(df.Property_Area).value_counts(normalize=False))"
   ]
  },
  {
   "cell_type": "code",
   "execution_count": 132,
   "id": "377a0eda",
   "metadata": {},
   "outputs": [],
   "source": [
    "pr = prop_status['Loan_Status']"
   ]
  },
  {
   "cell_type": "code",
   "execution_count": 134,
   "id": "c40c3d74",
   "metadata": {},
   "outputs": [],
   "source": [
    "prop_status['Percentage'] = pr*100"
   ]
  },
  {
   "cell_type": "code",
   "execution_count": 137,
   "id": "d860fa12",
   "metadata": {},
   "outputs": [
    {
     "data": {
      "text/html": [
       "<div>\n",
       "<style scoped>\n",
       "    .dataframe tbody tr th:only-of-type {\n",
       "        vertical-align: middle;\n",
       "    }\n",
       "\n",
       "    .dataframe tbody tr th {\n",
       "        vertical-align: top;\n",
       "    }\n",
       "\n",
       "    .dataframe thead th {\n",
       "        text-align: right;\n",
       "    }\n",
       "</style>\n",
       "<table border=\"1\" class=\"dataframe\">\n",
       "  <thead>\n",
       "    <tr style=\"text-align: right;\">\n",
       "      <th></th>\n",
       "      <th></th>\n",
       "      <th>Loan_Status</th>\n",
       "      <th>Percentage</th>\n",
       "    </tr>\n",
       "    <tr>\n",
       "      <th>Property_Area</th>\n",
       "      <th>Loan_Status</th>\n",
       "      <th></th>\n",
       "      <th></th>\n",
       "    </tr>\n",
       "  </thead>\n",
       "  <tbody>\n",
       "    <tr>\n",
       "      <th rowspan=\"2\" valign=\"top\">Rural</th>\n",
       "      <th>Y</th>\n",
       "      <td>110</td>\n",
       "      <td>61.452514</td>\n",
       "    </tr>\n",
       "    <tr>\n",
       "      <th>N</th>\n",
       "      <td>69</td>\n",
       "      <td>38.547486</td>\n",
       "    </tr>\n",
       "    <tr>\n",
       "      <th rowspan=\"2\" valign=\"top\">Semiurban</th>\n",
       "      <th>Y</th>\n",
       "      <td>179</td>\n",
       "      <td>76.824034</td>\n",
       "    </tr>\n",
       "    <tr>\n",
       "      <th>N</th>\n",
       "      <td>54</td>\n",
       "      <td>23.175966</td>\n",
       "    </tr>\n",
       "    <tr>\n",
       "      <th rowspan=\"2\" valign=\"top\">Urban</th>\n",
       "      <th>Y</th>\n",
       "      <td>133</td>\n",
       "      <td>65.841584</td>\n",
       "    </tr>\n",
       "    <tr>\n",
       "      <th>N</th>\n",
       "      <td>69</td>\n",
       "      <td>34.158416</td>\n",
       "    </tr>\n",
       "  </tbody>\n",
       "</table>\n",
       "</div>"
      ],
      "text/plain": [
       "                           Loan_Status  Percentage\n",
       "Property_Area Loan_Status                         \n",
       "Rural         Y                    110   61.452514\n",
       "              N                     69   38.547486\n",
       "Semiurban     Y                    179   76.824034\n",
       "              N                     54   23.175966\n",
       "Urban         Y                    133   65.841584\n",
       "              N                     69   34.158416"
      ]
     },
     "execution_count": 137,
     "metadata": {},
     "output_type": "execute_result"
    }
   ],
   "source": [
    "prop_status"
   ]
  },
  {
   "cell_type": "markdown",
   "id": "0c4b9a89",
   "metadata": {},
   "source": [
    "### Inference :  We can infer that only 23% of loans from semi urban customers are being rejected and 38% of rural customers are being rejected. \n",
    "### or, in other words\n",
    "### Probability of loan getting rejected is higher for a Rural customer"
   ]
  },
  {
   "cell_type": "code",
   "execution_count": null,
   "id": "426fa6c9",
   "metadata": {},
   "outputs": [],
   "source": []
  },
  {
   "cell_type": "code",
   "execution_count": 146,
   "id": "468685d3",
   "metadata": {},
   "outputs": [],
   "source": [
    "gen_ls = pd.DataFrame(df.Loan_Status.groupby(df.Gender).value_counts(normalize=False)).sort_index()"
   ]
  },
  {
   "cell_type": "code",
   "execution_count": 145,
   "id": "8176c552",
   "metadata": {},
   "outputs": [],
   "source": [
    "pr = gen_ls['Loan_Status']"
   ]
  },
  {
   "cell_type": "code",
   "execution_count": 147,
   "id": "ffb4f7c4",
   "metadata": {},
   "outputs": [],
   "source": [
    "gen_ls['Percentage'] = pr*100"
   ]
  },
  {
   "cell_type": "code",
   "execution_count": 148,
   "id": "378fe230",
   "metadata": {},
   "outputs": [
    {
     "name": "stdout",
     "output_type": "stream",
     "text": [
      "\n",
      "\n",
      "\n",
      "                    Loan_Status  Percentage\n",
      "Gender Loan_Status                         \n",
      "Female N                     37   33.035714\n",
      "       Y                     75   66.964286\n",
      "Male   N                    155   30.876494\n",
      "       Y                    347   69.123506\n"
     ]
    },
    {
     "data": {
      "image/png": "[encoded data removed]",
      "text/plain": [
       "<Figure size 432x288 with 1 Axes>"
      ]
     },
     "metadata": {
      "needs_background": "light"
     },
     "output_type": "display_data"
    }
   ],
   "source": [
    "## count of loan status with hue gender\n",
    "sns.countplot(df.Gender,palette='winter',hue=df.Loan_Status)\n",
    "plt.grid()\n",
    "print('\\n\\n')\n",
    "print(gen_ls)\n",
    "# print(df.Loan_Status.value_counts(),'\\n')\n",
    "plt.show()"
   ]
  },
  {
   "cell_type": "markdown",
   "id": "0eba7cd9",
   "metadata": {},
   "source": [
    "### Inference : we can infer that 35% of loans are being rejected for females and only 30% of loans are rejected for male"
   ]
  },
  {
   "cell_type": "code",
   "execution_count": null,
   "id": "3e6834d8",
   "metadata": {},
   "outputs": [],
   "source": []
  },
  {
   "cell_type": "code",
   "execution_count": 152,
   "id": "ea8292ae",
   "metadata": {},
   "outputs": [],
   "source": [
    "edu_ls = pd.DataFrame(df.Loan_Status.groupby(df.Education).value_counts(normalize=False))"
   ]
  },
  {
   "cell_type": "code",
   "execution_count": 151,
   "id": "cbde7ea9",
   "metadata": {},
   "outputs": [],
   "source": [
    "pr = edu_ls['Loan_Status']"
   ]
  },
  {
   "cell_type": "code",
   "execution_count": 153,
   "id": "ec701fda",
   "metadata": {},
   "outputs": [],
   "source": [
    "edu_ls['Percentage'] = pr*100"
   ]
  },
  {
   "cell_type": "code",
   "execution_count": 154,
   "id": "77e0cb9e",
   "metadata": {},
   "outputs": [
    {
     "name": "stdout",
     "output_type": "stream",
     "text": [
      "\n",
      "\n",
      "\n",
      "                          Loan_Status  Percentage\n",
      "Education    Loan_Status                         \n",
      "Graduate     Y                    340   70.833333\n",
      "             N                    140   29.166667\n",
      "Not Graduate Y                     82   61.194030\n",
      "             N                     52   38.805970 \n",
      "\n"
     ]
    },
    {
     "data": {
      "image/png": "[encoded data removed]",
      "text/plain": [
       "<Figure size 432x288 with 1 Axes>"
      ]
     },
     "metadata": {
      "needs_background": "light"
     },
     "output_type": "display_data"
    }
   ],
   "source": [
    "## count of loan status with hue Education\n",
    "sns.countplot(df.Education,palette='winter',hue=df.Loan_Status)\n",
    "plt.grid()\n",
    "print('\\n\\n')\n",
    "print(edu_ls,'\\n')\n",
    "plt.show()"
   ]
  },
  {
   "cell_type": "markdown",
   "id": "1a88867b",
   "metadata": {},
   "source": [
    "### Inference : almost 39% of loans for Non Graduates are being rejected but only 29% of the loans for Graduates are Rejected, which makes sense! "
   ]
  },
  {
   "cell_type": "code",
   "execution_count": 157,
   "id": "7e917ddb",
   "metadata": {},
   "outputs": [],
   "source": [
    "self_ls = pd.DataFrame(df.Loan_Status.groupby(df.Self_Employed).value_counts(normalize=False))"
   ]
  },
  {
   "cell_type": "code",
   "execution_count": 156,
   "id": "8c73638c",
   "metadata": {},
   "outputs": [],
   "source": [
    "pr = self_ls['Loan_Status']"
   ]
  },
  {
   "cell_type": "code",
   "execution_count": 158,
   "id": "8ffa5976",
   "metadata": {},
   "outputs": [],
   "source": [
    "self_ls['Percentage'] = pr*100"
   ]
  },
  {
   "cell_type": "code",
   "execution_count": 159,
   "id": "fbf36b4b",
   "metadata": {},
   "outputs": [
    {
     "name": "stdout",
     "output_type": "stream",
     "text": [
      "\n",
      "\n",
      "\n",
      "                           Loan_Status  Percentage\n",
      "Self_Employed Loan_Status                         \n",
      "No            Y                    360   68.965517\n",
      "              N                    162   31.034483\n",
      "Yes           Y                     62   67.391304\n",
      "              N                     30   32.608696 \n",
      "\n"
     ]
    },
    {
     "data": {
      "image/png": "[encoded data removed]",
      "text/plain": [
       "<Figure size 432x288 with 1 Axes>"
      ]
     },
     "metadata": {
      "needs_background": "light"
     },
     "output_type": "display_data"
    }
   ],
   "source": [
    "## count of loan status with hue Self_Employed\n",
    "sns.countplot(df.Self_Employed,palette='winter',hue=df.Loan_Status)\n",
    "plt.grid()\n",
    "print('\\n\\n')\n",
    "print(self_ls,'\\n')\n",
    "plt.show()"
   ]
  },
  {
   "cell_type": "code",
   "execution_count": null,
   "id": "3a8eca41",
   "metadata": {},
   "outputs": [],
   "source": []
  },
  {
   "cell_type": "code",
   "execution_count": 162,
   "id": "1af90acc",
   "metadata": {},
   "outputs": [],
   "source": [
    "cred_ls = pd.DataFrame(df.Loan_Status.groupby(df.Credit_History).value_counts(normalize=False))"
   ]
  },
  {
   "cell_type": "code",
   "execution_count": 161,
   "id": "f767d3d4",
   "metadata": {},
   "outputs": [],
   "source": [
    "pr = cred_ls['Loan_Status']"
   ]
  },
  {
   "cell_type": "code",
   "execution_count": 163,
   "id": "90dd3032",
   "metadata": {},
   "outputs": [],
   "source": [
    "cred_ls['Percentage'] = pr*100"
   ]
  },
  {
   "cell_type": "code",
   "execution_count": 164,
   "id": "6fd037ef",
   "metadata": {},
   "outputs": [
    {
     "name": "stdout",
     "output_type": "stream",
     "text": [
      "\n",
      "\n",
      "\n",
      "                            Loan_Status  Percentage\n",
      "Credit_History Loan_Status                         \n",
      "0.0            N                     82   92.134831\n",
      "               Y                      7    7.865169\n",
      "1.0            Y                    415   79.047619\n",
      "               N                    110   20.952381 \n",
      "\n"
     ]
    },
    {
     "data": {
      "image/png": "[encoded data removed]",
      "text/plain": [
       "<Figure size 720x360 with 1 Axes>"
      ]
     },
     "metadata": {
      "needs_background": "light"
     },
     "output_type": "display_data"
    }
   ],
   "source": [
    "plt.figure(figsize=(10,5))\n",
    "sns.countplot(df.Credit_History,hue=df.Loan_Status)\n",
    "print('\\n\\n')\n",
    "print(cred_ls,'\\n')\n",
    "plt.grid()\n",
    "plt.show()"
   ]
  },
  {
   "cell_type": "markdown",
   "id": "abd549ed",
   "metadata": {},
   "source": [
    "### Inference : 92% of the customers whose credit history marked as 0 are being rejected for loans and only 8% of those customers are approved loans. (20% of customers whose credit history marked as 1 are being rejected for loans too! ) again, makes sense"
   ]
  },
  {
   "cell_type": "code",
   "execution_count": null,
   "id": "f8fe51a3",
   "metadata": {},
   "outputs": [],
   "source": []
  },
  {
   "cell_type": "code",
   "execution_count": 236,
   "id": "7c0f337a",
   "metadata": {},
   "outputs": [],
   "source": [
    "dep_ls = pd.DataFrame(df.Loan_Status.groupby(df.Dependents).value_counts(normalize=False))"
   ]
  },
  {
   "cell_type": "code",
   "execution_count": 235,
   "id": "eadd811c",
   "metadata": {},
   "outputs": [],
   "source": [
    "pr = dep_ls['Loan_Status']"
   ]
  },
  {
   "cell_type": "code",
   "execution_count": 237,
   "id": "e752e578",
   "metadata": {},
   "outputs": [],
   "source": [
    "dep_ls['Percentage'] = pr*100"
   ]
  },
  {
   "cell_type": "code",
   "execution_count": 239,
   "id": "b957a5f0",
   "metadata": {},
   "outputs": [],
   "source": [
    "# dep_ls"
   ]
  },
  {
   "cell_type": "code",
   "execution_count": 240,
   "id": "1af0837e",
   "metadata": {},
   "outputs": [
    {
     "name": "stdout",
     "output_type": "stream",
     "text": [
      "\n",
      "\n",
      "\n",
      "                        Loan_Status  Percentage\n",
      "Dependents Loan_Status                         \n",
      "0          Y                    242   68.945869\n",
      "           N                    109   31.054131\n",
      "1          Y                     71   63.963964\n",
      "           N                     40   36.036036\n",
      "2          Y                     76   75.247525\n",
      "           N                     25   24.752475\n",
      "3+         Y                     33   64.705882\n",
      "           N                     18   35.294118 \n",
      "\n"
     ]
    },
    {
     "data": {
      "image/png": "[encoded data removed]",
      "text/plain": [
       "<Figure size 432x288 with 1 Axes>"
      ]
     },
     "metadata": {
      "needs_background": "light"
     },
     "output_type": "display_data"
    }
   ],
   "source": [
    "## count of loan status with hue dependents\n",
    "sns.countplot(df.Loan_Status,palette='winter',hue=df.Dependents)\n",
    "plt.grid()\n",
    "print('\\n\\n')\n",
    "print(dep_ls,'\\n')\n",
    "plt.show()"
   ]
  },
  {
   "cell_type": "markdown",
   "id": "d28487b5",
   "metadata": {},
   "source": [
    "### Inference : 36% of customers with 1 dependent and 35% customers with more than 3 dependents have been rejected for loans. Only 25% of customers with 2 dependents have been rejected for loans"
   ]
  },
  {
   "cell_type": "code",
   "execution_count": null,
   "id": "133eea13",
   "metadata": {},
   "outputs": [],
   "source": []
  },
  {
   "cell_type": "markdown",
   "id": "a3f2d066",
   "metadata": {},
   "source": [
    "### Descriptive"
   ]
  },
  {
   "cell_type": "code",
   "execution_count": 241,
   "id": "615613a8",
   "metadata": {},
   "outputs": [
    {
     "data": {
      "text/html": [
       "<div>\n",
       "<style scoped>\n",
       "    .dataframe tbody tr th:only-of-type {\n",
       "        vertical-align: middle;\n",
       "    }\n",
       "\n",
       "    .dataframe tbody tr th {\n",
       "        vertical-align: top;\n",
       "    }\n",
       "\n",
       "    .dataframe thead th {\n",
       "        text-align: right;\n",
       "    }\n",
       "</style>\n",
       "<table border=\"1\" class=\"dataframe\">\n",
       "  <thead>\n",
       "    <tr style=\"text-align: right;\">\n",
       "      <th></th>\n",
       "      <th>count</th>\n",
       "      <th>mean</th>\n",
       "      <th>std</th>\n",
       "      <th>min</th>\n",
       "      <th>25%</th>\n",
       "      <th>50%</th>\n",
       "      <th>75%</th>\n",
       "      <th>max</th>\n",
       "    </tr>\n",
       "  </thead>\n",
       "  <tbody>\n",
       "    <tr>\n",
       "      <th>ApplicantIncome</th>\n",
       "      <td>614.0</td>\n",
       "      <td>5403.459283</td>\n",
       "      <td>6109.041673</td>\n",
       "      <td>150.0</td>\n",
       "      <td>2877.50</td>\n",
       "      <td>3812.5</td>\n",
       "      <td>5795.00</td>\n",
       "      <td>81000.0</td>\n",
       "    </tr>\n",
       "    <tr>\n",
       "      <th>CoapplicantIncome</th>\n",
       "      <td>614.0</td>\n",
       "      <td>1621.245798</td>\n",
       "      <td>2926.248369</td>\n",
       "      <td>0.0</td>\n",
       "      <td>0.00</td>\n",
       "      <td>1188.5</td>\n",
       "      <td>2297.25</td>\n",
       "      <td>41667.0</td>\n",
       "    </tr>\n",
       "    <tr>\n",
       "      <th>LoanAmount</th>\n",
       "      <td>614.0</td>\n",
       "      <td>145.680782</td>\n",
       "      <td>84.123205</td>\n",
       "      <td>9.0</td>\n",
       "      <td>100.25</td>\n",
       "      <td>126.0</td>\n",
       "      <td>164.75</td>\n",
       "      <td>700.0</td>\n",
       "    </tr>\n",
       "    <tr>\n",
       "      <th>Loan_Amount_Term</th>\n",
       "      <td>614.0</td>\n",
       "      <td>342.410423</td>\n",
       "      <td>64.428629</td>\n",
       "      <td>12.0</td>\n",
       "      <td>360.00</td>\n",
       "      <td>360.0</td>\n",
       "      <td>360.00</td>\n",
       "      <td>480.0</td>\n",
       "    </tr>\n",
       "    <tr>\n",
       "      <th>Credit_History</th>\n",
       "      <td>614.0</td>\n",
       "      <td>0.855049</td>\n",
       "      <td>0.352339</td>\n",
       "      <td>0.0</td>\n",
       "      <td>1.00</td>\n",
       "      <td>1.0</td>\n",
       "      <td>1.00</td>\n",
       "      <td>1.0</td>\n",
       "    </tr>\n",
       "    <tr>\n",
       "      <th>Total_family_income</th>\n",
       "      <td>614.0</td>\n",
       "      <td>7024.705081</td>\n",
       "      <td>6458.663872</td>\n",
       "      <td>1442.0</td>\n",
       "      <td>4166.00</td>\n",
       "      <td>5416.5</td>\n",
       "      <td>7521.75</td>\n",
       "      <td>81000.0</td>\n",
       "    </tr>\n",
       "  </tbody>\n",
       "</table>\n",
       "</div>"
      ],
      "text/plain": [
       "                     count         mean          std     min      25%     50%  \\\n",
       "ApplicantIncome      614.0  5403.459283  6109.041673   150.0  2877.50  3812.5   \n",
       "CoapplicantIncome    614.0  1621.245798  2926.248369     0.0     0.00  1188.5   \n",
       "LoanAmount           614.0   145.680782    84.123205     9.0   100.25   126.0   \n",
       "Loan_Amount_Term     614.0   342.410423    64.428629    12.0   360.00   360.0   \n",
       "Credit_History       614.0     0.855049     0.352339     0.0     1.00     1.0   \n",
       "Total_family_income  614.0  7024.705081  6458.663872  1442.0  4166.00  5416.5   \n",
       "\n",
       "                         75%      max  \n",
       "ApplicantIncome      5795.00  81000.0  \n",
       "CoapplicantIncome    2297.25  41667.0  \n",
       "LoanAmount            164.75    700.0  \n",
       "Loan_Amount_Term      360.00    480.0  \n",
       "Credit_History          1.00      1.0  \n",
       "Total_family_income  7521.75  81000.0  "
      ]
     },
     "execution_count": 241,
     "metadata": {},
     "output_type": "execute_result"
    }
   ],
   "source": [
    "df.describe().transpose()"
   ]
  },
  {
   "cell_type": "code",
   "execution_count": 242,
   "id": "6f9e650f",
   "metadata": {},
   "outputs": [
    {
     "data": {
      "text/html": [
       "<div>\n",
       "<style scoped>\n",
       "    .dataframe tbody tr th:only-of-type {\n",
       "        vertical-align: middle;\n",
       "    }\n",
       "\n",
       "    .dataframe tbody tr th {\n",
       "        vertical-align: top;\n",
       "    }\n",
       "\n",
       "    .dataframe thead th {\n",
       "        text-align: right;\n",
       "    }\n",
       "</style>\n",
       "<table border=\"1\" class=\"dataframe\">\n",
       "  <thead>\n",
       "    <tr style=\"text-align: right;\">\n",
       "      <th></th>\n",
       "      <th>ApplicantIncome</th>\n",
       "    </tr>\n",
       "    <tr>\n",
       "      <th>Gender</th>\n",
       "      <th></th>\n",
       "    </tr>\n",
       "  </thead>\n",
       "  <tbody>\n",
       "    <tr>\n",
       "      <th>Female</th>\n",
       "      <td>4643.473214</td>\n",
       "    </tr>\n",
       "    <tr>\n",
       "      <th>Male</th>\n",
       "      <td>5573.017928</td>\n",
       "    </tr>\n",
       "  </tbody>\n",
       "</table>\n",
       "</div>"
      ],
      "text/plain": [
       "        ApplicantIncome\n",
       "Gender                 \n",
       "Female      4643.473214\n",
       "Male        5573.017928"
      ]
     },
     "execution_count": 242,
     "metadata": {},
     "output_type": "execute_result"
    }
   ],
   "source": [
    "gen_appin = pd.DataFrame(df.ApplicantIncome.groupby(df.Gender).mean())\n",
    "gen_appin"
   ]
  },
  {
   "cell_type": "markdown",
   "id": "3c37ea82",
   "metadata": {},
   "source": [
    "### Inference : Male customers have more income than female customers"
   ]
  },
  {
   "cell_type": "code",
   "execution_count": 243,
   "id": "4711a1a0",
   "metadata": {},
   "outputs": [
    {
     "data": {
      "text/html": [
       "<div>\n",
       "<style scoped>\n",
       "    .dataframe tbody tr th:only-of-type {\n",
       "        vertical-align: middle;\n",
       "    }\n",
       "\n",
       "    .dataframe tbody tr th {\n",
       "        vertical-align: top;\n",
       "    }\n",
       "\n",
       "    .dataframe thead th {\n",
       "        text-align: right;\n",
       "    }\n",
       "</style>\n",
       "<table border=\"1\" class=\"dataframe\">\n",
       "  <thead>\n",
       "    <tr style=\"text-align: right;\">\n",
       "      <th></th>\n",
       "      <th>LoanAmount</th>\n",
       "      <th>Percentage</th>\n",
       "    </tr>\n",
       "    <tr>\n",
       "      <th>Gender</th>\n",
       "      <th></th>\n",
       "      <th></th>\n",
       "    </tr>\n",
       "  </thead>\n",
       "  <tbody>\n",
       "    <tr>\n",
       "      <th>Female</th>\n",
       "      <td>126.678571</td>\n",
       "      <td>45.798655</td>\n",
       "    </tr>\n",
       "    <tr>\n",
       "      <th>Male</th>\n",
       "      <td>149.920319</td>\n",
       "      <td>54.201345</td>\n",
       "    </tr>\n",
       "  </tbody>\n",
       "</table>\n",
       "</div>"
      ],
      "text/plain": [
       "        LoanAmount  Percentage\n",
       "Gender                        \n",
       "Female  126.678571   45.798655\n",
       "Male    149.920319   54.201345"
      ]
     },
     "execution_count": 243,
     "metadata": {},
     "output_type": "execute_result"
    }
   ],
   "source": [
    "gen_loanamt = pd.DataFrame(df.LoanAmount.groupby(df.Gender).mean())\n",
    "gen_loanamt['Percentage'] = (gen_loanamt.LoanAmount/gen_loanamt.LoanAmount.sum())*100\n",
    "gen_loanamt"
   ]
  },
  {
   "cell_type": "markdown",
   "id": "f81ea998",
   "metadata": {},
   "source": [
    "### Inference : 55% of the total money given for loan are for male customers and 45% are for female customers.  In other words, Male customers borrow more money than female customers"
   ]
  },
  {
   "cell_type": "code",
   "execution_count": 246,
   "id": "186cd253",
   "metadata": {},
   "outputs": [
    {
     "name": "stdout",
     "output_type": "stream",
     "text": [
      "1.0    0.855049\n",
      "0.0    0.144951\n",
      "Name: Credit_History, dtype: float64\n"
     ]
    },
    {
     "data": {
      "image/png": "[encoded data removed]",
      "text/plain": [
       "<Figure size 432x288 with 1 Axes>"
      ]
     },
     "metadata": {
      "needs_background": "light"
     },
     "output_type": "display_data"
    },
    {
     "name": "stdout",
     "output_type": "stream",
     "text": [
      "\n",
      "% values\n",
      "1.0    525\n",
      "0.0     89\n",
      "Name: Credit_History, dtype: int64\n"
     ]
    }
   ],
   "source": [
    "sns.countplot(df.Credit_History)\n",
    "print(df.Credit_History.value_counts(normalize=True))\n",
    "plt.grid()\n",
    "plt.show()\n",
    "print('\\n% values')\n",
    "print(df.Credit_History.value_counts(normalize=False))"
   ]
  },
  {
   "cell_type": "markdown",
   "id": "f56768e0",
   "metadata": {},
   "source": [
    "### Inference : 14% of the customers have credit history marked 0."
   ]
  },
  {
   "cell_type": "code",
   "execution_count": 249,
   "id": "13617fa6",
   "metadata": {},
   "outputs": [],
   "source": [
    "lat_ls = pd.DataFrame(df.Loan_Status.groupby(df.Loan_Amount_Term).value_counts(normalize=False))"
   ]
  },
  {
   "cell_type": "code",
   "execution_count": 248,
   "id": "03a6b907",
   "metadata": {},
   "outputs": [],
   "source": [
    "pr = lat_ls['Loan_Status']"
   ]
  },
  {
   "cell_type": "code",
   "execution_count": 250,
   "id": "676ae230",
   "metadata": {},
   "outputs": [],
   "source": [
    "lat_ls['Percentage'] = pr*100"
   ]
  },
  {
   "cell_type": "code",
   "execution_count": 260,
   "id": "b981c109",
   "metadata": {},
   "outputs": [
    {
     "data": {
      "text/html": [
       "<div>\n",
       "<style scoped>\n",
       "    .dataframe tbody tr th:only-of-type {\n",
       "        vertical-align: middle;\n",
       "    }\n",
       "\n",
       "    .dataframe tbody tr th {\n",
       "        vertical-align: top;\n",
       "    }\n",
       "\n",
       "    .dataframe thead th {\n",
       "        text-align: right;\n",
       "    }\n",
       "</style>\n",
       "<table border=\"1\" class=\"dataframe\">\n",
       "  <thead>\n",
       "    <tr style=\"text-align: right;\">\n",
       "      <th></th>\n",
       "      <th>Loan_ID</th>\n",
       "      <th>Gender</th>\n",
       "      <th>Married</th>\n",
       "      <th>Dependents</th>\n",
       "      <th>Education</th>\n",
       "      <th>Self_Employed</th>\n",
       "      <th>ApplicantIncome</th>\n",
       "      <th>CoapplicantIncome</th>\n",
       "      <th>LoanAmount</th>\n",
       "      <th>Loan_Amount_Term</th>\n",
       "      <th>Credit_History</th>\n",
       "      <th>Property_Area</th>\n",
       "      <th>Loan_Status</th>\n",
       "      <th>Total_family_income</th>\n",
       "      <th>ApplicantIncome_Category</th>\n",
       "      <th>Total_family_income_Category</th>\n",
       "    </tr>\n",
       "  </thead>\n",
       "  <tbody>\n",
       "    <tr>\n",
       "      <th>313</th>\n",
       "      <td>LP002008</td>\n",
       "      <td>Male</td>\n",
       "      <td>Yes</td>\n",
       "      <td>2</td>\n",
       "      <td>Graduate</td>\n",
       "      <td>Yes</td>\n",
       "      <td>5746</td>\n",
       "      <td>0.0</td>\n",
       "      <td>144.0</td>\n",
       "      <td>84.0</td>\n",
       "      <td>1.0</td>\n",
       "      <td>Rural</td>\n",
       "      <td>Y</td>\n",
       "      <td>5746.0</td>\n",
       "      <td>Rich</td>\n",
       "      <td>MiddleClass</td>\n",
       "    </tr>\n",
       "    <tr>\n",
       "      <th>495</th>\n",
       "      <td>LP002586</td>\n",
       "      <td>Female</td>\n",
       "      <td>Yes</td>\n",
       "      <td>1</td>\n",
       "      <td>Graduate</td>\n",
       "      <td>No</td>\n",
       "      <td>3326</td>\n",
       "      <td>913.0</td>\n",
       "      <td>105.0</td>\n",
       "      <td>84.0</td>\n",
       "      <td>1.0</td>\n",
       "      <td>Semiurban</td>\n",
       "      <td>Y</td>\n",
       "      <td>4239.0</td>\n",
       "      <td>Poor</td>\n",
       "      <td>Poor</td>\n",
       "    </tr>\n",
       "    <tr>\n",
       "      <th>575</th>\n",
       "      <td>LP002868</td>\n",
       "      <td>Male</td>\n",
       "      <td>Yes</td>\n",
       "      <td>2</td>\n",
       "      <td>Graduate</td>\n",
       "      <td>No</td>\n",
       "      <td>3159</td>\n",
       "      <td>461.0</td>\n",
       "      <td>108.0</td>\n",
       "      <td>84.0</td>\n",
       "      <td>1.0</td>\n",
       "      <td>Urban</td>\n",
       "      <td>Y</td>\n",
       "      <td>3620.0</td>\n",
       "      <td>Poor</td>\n",
       "      <td>Poor</td>\n",
       "    </tr>\n",
       "    <tr>\n",
       "      <th>585</th>\n",
       "      <td>LP002912</td>\n",
       "      <td>Male</td>\n",
       "      <td>Yes</td>\n",
       "      <td>1</td>\n",
       "      <td>Graduate</td>\n",
       "      <td>No</td>\n",
       "      <td>4283</td>\n",
       "      <td>3000.0</td>\n",
       "      <td>172.0</td>\n",
       "      <td>84.0</td>\n",
       "      <td>1.0</td>\n",
       "      <td>Rural</td>\n",
       "      <td>N</td>\n",
       "      <td>7283.0</td>\n",
       "      <td>MiddleClass</td>\n",
       "      <td>Rich</td>\n",
       "    </tr>\n",
       "  </tbody>\n",
       "</table>\n",
       "</div>"
      ],
      "text/plain": [
       "      Loan_ID  Gender Married Dependents Education Self_Employed  \\\n",
       "313  LP002008    Male     Yes          2  Graduate           Yes   \n",
       "495  LP002586  Female     Yes          1  Graduate            No   \n",
       "575  LP002868    Male     Yes          2  Graduate            No   \n",
       "585  LP002912    Male     Yes          1  Graduate            No   \n",
       "\n",
       "     ApplicantIncome  CoapplicantIncome  LoanAmount  Loan_Amount_Term  \\\n",
       "313             5746                0.0       144.0              84.0   \n",
       "495             3326              913.0       105.0              84.0   \n",
       "575             3159              461.0       108.0              84.0   \n",
       "585             4283             3000.0       172.0              84.0   \n",
       "\n",
       "     Credit_History Property_Area Loan_Status  Total_family_income  \\\n",
       "313             1.0         Rural           Y               5746.0   \n",
       "495             1.0     Semiurban           Y               4239.0   \n",
       "575             1.0         Urban           Y               3620.0   \n",
       "585             1.0         Rural           N               7283.0   \n",
       "\n",
       "    ApplicantIncome_Category Total_family_income_Category  \n",
       "313                     Rich                  MiddleClass  \n",
       "495                     Poor                         Poor  \n",
       "575                     Poor                         Poor  \n",
       "585              MiddleClass                         Rich  "
      ]
     },
     "execution_count": 260,
     "metadata": {},
     "output_type": "execute_result"
    }
   ],
   "source": [
    "df.loc[df.Loan_Amount_Term == 84.0]"
   ]
  },
  {
   "cell_type": "code",
   "execution_count": 251,
   "id": "c1dd06b8",
   "metadata": {},
   "outputs": [
    {
     "name": "stdout",
     "output_type": "stream",
     "text": [
      "\n",
      "\n",
      "\n",
      "                              Loan_Status  Percentage\n",
      "Loan_Amount_Term Loan_Status                         \n",
      "12.0             Y                      1  100.000000\n",
      "36.0             N                      2  100.000000\n",
      "60.0             Y                      2  100.000000\n",
      "84.0             Y                      3   75.000000\n",
      "                 N                      1   25.000000\n",
      "120.0            Y                      3  100.000000\n",
      "180.0            Y                     29   65.909091\n",
      "                 N                     15   34.090909\n",
      "240.0            Y                      3   75.000000\n",
      "                 N                      1   25.000000\n",
      "300.0            Y                      8   61.538462\n",
      "                 N                      5   38.461538\n",
      "360.0            Y                    367   69.771863\n",
      "                 N                    159   30.228137\n",
      "480.0            N                      9   60.000000\n",
      "                 Y                      6   40.000000 \n",
      "\n"
     ]
    },
    {
     "data": {
      "image/png": "[encoded data removed]",
      "text/plain": [
       "<Figure size 720x360 with 1 Axes>"
      ]
     },
     "metadata": {
      "needs_background": "light"
     },
     "output_type": "display_data"
    }
   ],
   "source": [
    "plt.figure(figsize=(10,5))\n",
    "sns.countplot(df.Loan_Amount_Term,palette='rainbow',order=df.Loan_Amount_Term.value_counts().index,hue=df.Loan_Status)\n",
    "plt.grid()\n",
    "print('\\n\\n')\n",
    "print(lat_ls,'\\n')\n",
    "plt.show()"
   ]
  },
  {
   "cell_type": "markdown",
   "id": "aa2b96e8",
   "metadata": {},
   "source": [
    "### Inference : \n",
    "1. Loans have never been rejected for 12 (1 year), 60 (5 years), 120 (10 years) loan amount terms!  \n",
    "2. the 36 month period loan have never been approved! "
   ]
  },
  {
   "cell_type": "code",
   "execution_count": null,
   "id": "08e22ae3",
   "metadata": {},
   "outputs": [],
   "source": []
  },
  {
   "cell_type": "code",
   "execution_count": 292,
   "id": "2efb367b",
   "metadata": {},
   "outputs": [
    {
     "data": {
      "text/html": [
       "<div>\n",
       "<style scoped>\n",
       "    .dataframe tbody tr th:only-of-type {\n",
       "        vertical-align: middle;\n",
       "    }\n",
       "\n",
       "    .dataframe tbody tr th {\n",
       "        vertical-align: top;\n",
       "    }\n",
       "\n",
       "    .dataframe thead th {\n",
       "        text-align: right;\n",
       "    }\n",
       "</style>\n",
       "<table border=\"1\" class=\"dataframe\">\n",
       "  <thead>\n",
       "    <tr style=\"text-align: right;\">\n",
       "      <th></th>\n",
       "      <th>Loan_ID</th>\n",
       "      <th>Gender</th>\n",
       "      <th>Married</th>\n",
       "      <th>Dependents</th>\n",
       "      <th>Education</th>\n",
       "      <th>Self_Employed</th>\n",
       "      <th>ApplicantIncome</th>\n",
       "      <th>CoapplicantIncome</th>\n",
       "      <th>LoanAmount</th>\n",
       "      <th>Loan_Amount_Term</th>\n",
       "      <th>Credit_History</th>\n",
       "      <th>Property_Area</th>\n",
       "      <th>Loan_Status</th>\n",
       "      <th>Total_family_income</th>\n",
       "      <th>ApplicantIncome_Category</th>\n",
       "      <th>Total_family_income_Category</th>\n",
       "    </tr>\n",
       "  </thead>\n",
       "  <tbody>\n",
       "    <tr>\n",
       "      <th>0</th>\n",
       "      <td>LP001002</td>\n",
       "      <td>Male</td>\n",
       "      <td>No</td>\n",
       "      <td>0</td>\n",
       "      <td>Graduate</td>\n",
       "      <td>No</td>\n",
       "      <td>5849</td>\n",
       "      <td>0.0</td>\n",
       "      <td>126.0</td>\n",
       "      <td>360.0</td>\n",
       "      <td>1.0</td>\n",
       "      <td>Urban</td>\n",
       "      <td>Y</td>\n",
       "      <td>5849.0</td>\n",
       "      <td>Rich</td>\n",
       "      <td>MiddleClass</td>\n",
       "    </tr>\n",
       "    <tr>\n",
       "      <th>1</th>\n",
       "      <td>LP001003</td>\n",
       "      <td>Male</td>\n",
       "      <td>Yes</td>\n",
       "      <td>1</td>\n",
       "      <td>Graduate</td>\n",
       "      <td>No</td>\n",
       "      <td>4583</td>\n",
       "      <td>1508.0</td>\n",
       "      <td>128.0</td>\n",
       "      <td>360.0</td>\n",
       "      <td>1.0</td>\n",
       "      <td>Rural</td>\n",
       "      <td>N</td>\n",
       "      <td>6091.0</td>\n",
       "      <td>MiddleClass</td>\n",
       "      <td>MiddleClass</td>\n",
       "    </tr>\n",
       "    <tr>\n",
       "      <th>2</th>\n",
       "      <td>LP001005</td>\n",
       "      <td>Male</td>\n",
       "      <td>Yes</td>\n",
       "      <td>0</td>\n",
       "      <td>Graduate</td>\n",
       "      <td>Yes</td>\n",
       "      <td>3000</td>\n",
       "      <td>0.0</td>\n",
       "      <td>66.0</td>\n",
       "      <td>360.0</td>\n",
       "      <td>1.0</td>\n",
       "      <td>Urban</td>\n",
       "      <td>Y</td>\n",
       "      <td>3000.0</td>\n",
       "      <td>Poor</td>\n",
       "      <td>Poor</td>\n",
       "    </tr>\n",
       "    <tr>\n",
       "      <th>3</th>\n",
       "      <td>LP001006</td>\n",
       "      <td>Male</td>\n",
       "      <td>Yes</td>\n",
       "      <td>0</td>\n",
       "      <td>Not Graduate</td>\n",
       "      <td>No</td>\n",
       "      <td>2583</td>\n",
       "      <td>2358.0</td>\n",
       "      <td>120.0</td>\n",
       "      <td>360.0</td>\n",
       "      <td>1.0</td>\n",
       "      <td>Urban</td>\n",
       "      <td>Y</td>\n",
       "      <td>4941.0</td>\n",
       "      <td>Poor</td>\n",
       "      <td>Poor</td>\n",
       "    </tr>\n",
       "    <tr>\n",
       "      <th>4</th>\n",
       "      <td>LP001008</td>\n",
       "      <td>Male</td>\n",
       "      <td>No</td>\n",
       "      <td>0</td>\n",
       "      <td>Graduate</td>\n",
       "      <td>No</td>\n",
       "      <td>6000</td>\n",
       "      <td>0.0</td>\n",
       "      <td>141.0</td>\n",
       "      <td>360.0</td>\n",
       "      <td>1.0</td>\n",
       "      <td>Urban</td>\n",
       "      <td>Y</td>\n",
       "      <td>6000.0</td>\n",
       "      <td>Rich</td>\n",
       "      <td>MiddleClass</td>\n",
       "    </tr>\n",
       "  </tbody>\n",
       "</table>\n",
       "</div>"
      ],
      "text/plain": [
       "    Loan_ID Gender Married Dependents     Education Self_Employed  \\\n",
       "0  LP001002   Male      No          0      Graduate            No   \n",
       "1  LP001003   Male     Yes          1      Graduate            No   \n",
       "2  LP001005   Male     Yes          0      Graduate           Yes   \n",
       "3  LP001006   Male     Yes          0  Not Graduate            No   \n",
       "4  LP001008   Male      No          0      Graduate            No   \n",
       "\n",
       "   ApplicantIncome  CoapplicantIncome  LoanAmount  Loan_Amount_Term  \\\n",
       "0             5849                0.0       126.0             360.0   \n",
       "1             4583             1508.0       128.0             360.0   \n",
       "2             3000                0.0        66.0             360.0   \n",
       "3             2583             2358.0       120.0             360.0   \n",
       "4             6000                0.0       141.0             360.0   \n",
       "\n",
       "   Credit_History Property_Area Loan_Status  Total_family_income  \\\n",
       "0             1.0         Urban           Y               5849.0   \n",
       "1             1.0         Rural           N               6091.0   \n",
       "2             1.0         Urban           Y               3000.0   \n",
       "3             1.0         Urban           Y               4941.0   \n",
       "4             1.0         Urban           Y               6000.0   \n",
       "\n",
       "  ApplicantIncome_Category Total_family_income_Category  \n",
       "0                     Rich                  MiddleClass  \n",
       "1              MiddleClass                  MiddleClass  \n",
       "2                     Poor                         Poor  \n",
       "3                     Poor                         Poor  \n",
       "4                     Rich                  MiddleClass  "
      ]
     },
     "execution_count": 292,
     "metadata": {},
     "output_type": "execute_result"
    }
   ],
   "source": [
    "df.head()"
   ]
  },
  {
   "cell_type": "markdown",
   "id": "6df2c76b",
   "metadata": {},
   "source": [
    "\n",
    "### Total family income, Loan amount and the Loan status"
   ]
  },
  {
   "cell_type": "code",
   "execution_count": 300,
   "id": "009e7834",
   "metadata": {
    "scrolled": false
   },
   "outputs": [
    {
     "data": {
      "image/png": "[encoded data removed]",
      "text/plain": [
       "<Figure size 428.625x1080 with 3 Axes>"
      ]
     },
     "metadata": {
      "needs_background": "light"
     },
     "output_type": "display_data"
    }
   ],
   "source": [
    "sns.lmplot(data = df, x = 'Total_family_income', y = 'LoanAmount',height=5,markers='*',hue='Loan_Status',row='Total_family_income_Category')\n",
    "plt.grid()\n",
    "plt.show()"
   ]
  },
  {
   "cell_type": "markdown",
   "id": "0e8eb90c",
   "metadata": {},
   "source": [
    "### Total family income, Loan amount, and Loan status based on Education"
   ]
  },
  {
   "cell_type": "code",
   "execution_count": null,
   "id": "44b25f40",
   "metadata": {},
   "outputs": [],
   "source": []
  },
  {
   "cell_type": "code",
   "execution_count": 321,
   "id": "44c4047a",
   "metadata": {},
   "outputs": [
    {
     "data": {
      "image/png": "[encoded data removed]",
      "text/plain": [
       "<Figure size 428.625x720 with 2 Axes>"
      ]
     },
     "metadata": {
      "needs_background": "light"
     },
     "output_type": "display_data"
    },
    {
     "name": "stdout",
     "output_type": "stream",
     "text": [
      "Mean value\n"
     ]
    },
    {
     "data": {
      "text/html": [
       "<div>\n",
       "<style scoped>\n",
       "    .dataframe tbody tr th:only-of-type {\n",
       "        vertical-align: middle;\n",
       "    }\n",
       "\n",
       "    .dataframe tbody tr th {\n",
       "        vertical-align: top;\n",
       "    }\n",
       "\n",
       "    .dataframe thead th {\n",
       "        text-align: right;\n",
       "    }\n",
       "</style>\n",
       "<table border=\"1\" class=\"dataframe\">\n",
       "  <thead>\n",
       "    <tr style=\"text-align: right;\">\n",
       "      <th></th>\n",
       "      <th></th>\n",
       "      <th>ApplicantIncome</th>\n",
       "      <th>CoapplicantIncome</th>\n",
       "      <th>LoanAmount</th>\n",
       "      <th>Loan_Amount_Term</th>\n",
       "      <th>Credit_History</th>\n",
       "      <th>Total_family_income</th>\n",
       "    </tr>\n",
       "    <tr>\n",
       "      <th>Education</th>\n",
       "      <th>Loan_Status</th>\n",
       "      <th></th>\n",
       "      <th></th>\n",
       "      <th></th>\n",
       "      <th></th>\n",
       "      <th></th>\n",
       "      <th></th>\n",
       "    </tr>\n",
       "  </thead>\n",
       "  <tbody>\n",
       "    <tr>\n",
       "      <th rowspan=\"2\" valign=\"top\">Graduate</th>\n",
       "      <th>N</th>\n",
       "      <td>6114.514286</td>\n",
       "      <td>2111.028571</td>\n",
       "      <td>159.871429</td>\n",
       "      <td>350.571429</td>\n",
       "      <td>0.592857</td>\n",
       "      <td>8225.542857</td>\n",
       "    </tr>\n",
       "    <tr>\n",
       "      <th>Y</th>\n",
       "      <td>5751.576471</td>\n",
       "      <td>1555.423294</td>\n",
       "      <td>150.429412</td>\n",
       "      <td>342.600000</td>\n",
       "      <td>0.982353</td>\n",
       "      <td>7306.999765</td>\n",
       "    </tr>\n",
       "    <tr>\n",
       "      <th rowspan=\"2\" valign=\"top\">Not Graduate</th>\n",
       "      <th>N</th>\n",
       "      <td>3646.442308</td>\n",
       "      <td>1249.903846</td>\n",
       "      <td>122.596154</td>\n",
       "      <td>328.384615</td>\n",
       "      <td>0.519231</td>\n",
       "      <td>4896.346154</td>\n",
       "    </tr>\n",
       "    <tr>\n",
       "      <th>Y</th>\n",
       "      <td>3860.256098</td>\n",
       "      <td>1293.439024</td>\n",
       "      <td>116.402439</td>\n",
       "      <td>336.585366</td>\n",
       "      <td>0.987805</td>\n",
       "      <td>5153.695122</td>\n",
       "    </tr>\n",
       "  </tbody>\n",
       "</table>\n",
       "</div>"
      ],
      "text/plain": [
       "                          ApplicantIncome  CoapplicantIncome  LoanAmount  \\\n",
       "Education    Loan_Status                                                   \n",
       "Graduate     N                6114.514286        2111.028571  159.871429   \n",
       "             Y                5751.576471        1555.423294  150.429412   \n",
       "Not Graduate N                3646.442308        1249.903846  122.596154   \n",
       "             Y                3860.256098        1293.439024  116.402439   \n",
       "\n",
       "                          Loan_Amount_Term  Credit_History  \\\n",
       "Education    Loan_Status                                     \n",
       "Graduate     N                  350.571429        0.592857   \n",
       "             Y                  342.600000        0.982353   \n",
       "Not Graduate N                  328.384615        0.519231   \n",
       "             Y                  336.585366        0.987805   \n",
       "\n",
       "                          Total_family_income  \n",
       "Education    Loan_Status                       \n",
       "Graduate     N                    8225.542857  \n",
       "             Y                    7306.999765  \n",
       "Not Graduate N                    4896.346154  \n",
       "             Y                    5153.695122  "
      ]
     },
     "execution_count": 321,
     "metadata": {},
     "output_type": "execute_result"
    }
   ],
   "source": [
    "sns.lmplot(data = df, x = 'Total_family_income', y = 'LoanAmount',height=5,markers='*',hue='Loan_Status',row='Education')\n",
    "plt.grid()\n",
    "plt.show()\n",
    "print('Mean value')\n",
    "pd.DataFrame(df.groupby(['Education','Loan_Status']).mean())#['Total_family_income'])"
   ]
  },
  {
   "cell_type": "markdown",
   "id": "2910e7d4",
   "metadata": {},
   "source": [
    "### Total family income, Loan amount, and Loan status based on Self Employment"
   ]
  },
  {
   "cell_type": "code",
   "execution_count": 353,
   "id": "68248f79",
   "metadata": {},
   "outputs": [
    {
     "data": {
      "text/plain": [
       "Self_Employed  Loan_Status\n",
       "No             N              162\n",
       "               Y              360\n",
       "Yes            N               30\n",
       "               Y               62\n",
       "Name: Total_family_income, dtype: int64"
      ]
     },
     "execution_count": 353,
     "metadata": {},
     "output_type": "execute_result"
    }
   ],
   "source": [
    "df.groupby(['Self_Employed','Loan_Status']).count()['Total_family_income']"
   ]
  },
  {
   "cell_type": "code",
   "execution_count": 357,
   "id": "d22d2df6",
   "metadata": {
    "scrolled": false
   },
   "outputs": [
    {
     "data": {
      "image/png": "[encoded data removed]",
      "text/plain": [
       "<Figure size 428.625x720 with 2 Axes>"
      ]
     },
     "metadata": {
      "needs_background": "light"
     },
     "output_type": "display_data"
    },
    {
     "data": {
      "text/html": [
       "<div>\n",
       "<style scoped>\n",
       "    .dataframe tbody tr th:only-of-type {\n",
       "        vertical-align: middle;\n",
       "    }\n",
       "\n",
       "    .dataframe tbody tr th {\n",
       "        vertical-align: top;\n",
       "    }\n",
       "\n",
       "    .dataframe thead th {\n",
       "        text-align: right;\n",
       "    }\n",
       "</style>\n",
       "<table border=\"1\" class=\"dataframe\">\n",
       "  <thead>\n",
       "    <tr style=\"text-align: right;\">\n",
       "      <th></th>\n",
       "      <th></th>\n",
       "      <th>Loan_ID</th>\n",
       "    </tr>\n",
       "    <tr>\n",
       "      <th>Self_Employed</th>\n",
       "      <th>Loan_Status</th>\n",
       "      <th></th>\n",
       "    </tr>\n",
       "  </thead>\n",
       "  <tbody>\n",
       "    <tr>\n",
       "      <th rowspan=\"2\" valign=\"top\">No</th>\n",
       "      <th>N</th>\n",
       "      <td>162</td>\n",
       "    </tr>\n",
       "    <tr>\n",
       "      <th>Y</th>\n",
       "      <td>360</td>\n",
       "    </tr>\n",
       "    <tr>\n",
       "      <th rowspan=\"2\" valign=\"top\">Yes</th>\n",
       "      <th>N</th>\n",
       "      <td>30</td>\n",
       "    </tr>\n",
       "    <tr>\n",
       "      <th>Y</th>\n",
       "      <td>62</td>\n",
       "    </tr>\n",
       "  </tbody>\n",
       "</table>\n",
       "</div>"
      ],
      "text/plain": [
       "                           Loan_ID\n",
       "Self_Employed Loan_Status         \n",
       "No            N                162\n",
       "              Y                360\n",
       "Yes           N                 30\n",
       "              Y                 62"
      ]
     },
     "execution_count": 357,
     "metadata": {},
     "output_type": "execute_result"
    }
   ],
   "source": [
    "sns.lmplot(data = df, x = 'Total_family_income', y = 'LoanAmount',height=5,markers='*',hue='Loan_Status',row='Self_Employed')\n",
    "plt.grid()\n",
    "plt.show()\n",
    "pd.DataFrame(df.groupby(['Self_Employed','Loan_Status']).count()['Loan_ID'])"
   ]
  },
  {
   "cell_type": "code",
   "execution_count": null,
   "id": "1e012287",
   "metadata": {},
   "outputs": [],
   "source": []
  },
  {
   "cell_type": "code",
   "execution_count": null,
   "id": "8b92ddb7",
   "metadata": {},
   "outputs": [],
   "source": []
  },
  {
   "cell_type": "code",
   "execution_count": null,
   "id": "cb340a00",
   "metadata": {},
   "outputs": [],
   "source": []
  },
  {
   "cell_type": "code",
   "execution_count": null,
   "id": "54491900",
   "metadata": {},
   "outputs": [],
   "source": []
  },
  {
   "cell_type": "code",
   "execution_count": 188,
   "id": "281b9ff8",
   "metadata": {},
   "outputs": [],
   "source": [
    "lat_loanamt = pd.DataFrame(df.LoanAmount.groupby(df.Loan_Amount_Term).mean())\n",
    "# lat_loanamt"
   ]
  },
  {
   "cell_type": "code",
   "execution_count": 36,
   "id": "71801237",
   "metadata": {},
   "outputs": [
    {
     "data": {
      "text/plain": [
       "<AxesSubplot:>"
      ]
     },
     "execution_count": 36,
     "metadata": {},
     "output_type": "execute_result"
    },
    {
     "data": {
      "image/png": "[encoded data removed]",
      "text/plain": [
       "<Figure size 432x288 with 2 Axes>"
      ]
     },
     "metadata": {
      "needs_background": "light"
     },
     "output_type": "display_data"
    }
   ],
   "source": [
    "sns.heatmap(df.corr(),annot=True)"
   ]
  },
  {
   "cell_type": "markdown",
   "id": "8327f2b0",
   "metadata": {},
   "source": [
    "### Inferences: \n",
    "1. Applicant Income and Total Family income are 89% Positively correlated \n",
    "2. Total Family income and Loan amount are 62% Positively corelated\n",
    "3. Loan amount and Applicant Income are 57% positively corelated. \n",
    "4. Loan amount and co applicant income are 20% Positively corelated"
   ]
  },
  {
   "cell_type": "code",
   "execution_count": null,
   "id": "c7a5ceab",
   "metadata": {},
   "outputs": [],
   "source": []
  },
  {
   "cell_type": "code",
   "execution_count": null,
   "id": "f09f8ff1",
   "metadata": {},
   "outputs": [],
   "source": []
  },
  {
   "cell_type": "code",
   "execution_count": null,
   "id": "95e6f330",
   "metadata": {},
   "outputs": [],
   "source": []
  },
  {
   "cell_type": "markdown",
   "id": "b5f1220a",
   "metadata": {},
   "source": [
    "### Machine Learning models"
   ]
  },
  {
   "cell_type": "code",
   "execution_count": 358,
   "id": "2aa78eca",
   "metadata": {},
   "outputs": [
    {
     "data": {
      "text/html": [
       "<div>\n",
       "<style scoped>\n",
       "    .dataframe tbody tr th:only-of-type {\n",
       "        vertical-align: middle;\n",
       "    }\n",
       "\n",
       "    .dataframe tbody tr th {\n",
       "        vertical-align: top;\n",
       "    }\n",
       "\n",
       "    .dataframe thead th {\n",
       "        text-align: right;\n",
       "    }\n",
       "</style>\n",
       "<table border=\"1\" class=\"dataframe\">\n",
       "  <thead>\n",
       "    <tr style=\"text-align: right;\">\n",
       "      <th></th>\n",
       "      <th>Loan_ID</th>\n",
       "      <th>Gender</th>\n",
       "      <th>Married</th>\n",
       "      <th>Dependents</th>\n",
       "      <th>Education</th>\n",
       "      <th>Self_Employed</th>\n",
       "      <th>ApplicantIncome</th>\n",
       "      <th>CoapplicantIncome</th>\n",
       "      <th>LoanAmount</th>\n",
       "      <th>Loan_Amount_Term</th>\n",
       "      <th>Credit_History</th>\n",
       "      <th>Property_Area</th>\n",
       "      <th>Loan_Status</th>\n",
       "      <th>Total_family_income</th>\n",
       "      <th>ApplicantIncome_Category</th>\n",
       "      <th>Total_family_income_Category</th>\n",
       "    </tr>\n",
       "  </thead>\n",
       "  <tbody>\n",
       "    <tr>\n",
       "      <th>0</th>\n",
       "      <td>LP001002</td>\n",
       "      <td>Male</td>\n",
       "      <td>No</td>\n",
       "      <td>0</td>\n",
       "      <td>Graduate</td>\n",
       "      <td>No</td>\n",
       "      <td>5849</td>\n",
       "      <td>0.0</td>\n",
       "      <td>126.0</td>\n",
       "      <td>360.0</td>\n",
       "      <td>1.0</td>\n",
       "      <td>Urban</td>\n",
       "      <td>Y</td>\n",
       "      <td>5849.0</td>\n",
       "      <td>Rich</td>\n",
       "      <td>MiddleClass</td>\n",
       "    </tr>\n",
       "    <tr>\n",
       "      <th>1</th>\n",
       "      <td>LP001003</td>\n",
       "      <td>Male</td>\n",
       "      <td>Yes</td>\n",
       "      <td>1</td>\n",
       "      <td>Graduate</td>\n",
       "      <td>No</td>\n",
       "      <td>4583</td>\n",
       "      <td>1508.0</td>\n",
       "      <td>128.0</td>\n",
       "      <td>360.0</td>\n",
       "      <td>1.0</td>\n",
       "      <td>Rural</td>\n",
       "      <td>N</td>\n",
       "      <td>6091.0</td>\n",
       "      <td>MiddleClass</td>\n",
       "      <td>MiddleClass</td>\n",
       "    </tr>\n",
       "    <tr>\n",
       "      <th>2</th>\n",
       "      <td>LP001005</td>\n",
       "      <td>Male</td>\n",
       "      <td>Yes</td>\n",
       "      <td>0</td>\n",
       "      <td>Graduate</td>\n",
       "      <td>Yes</td>\n",
       "      <td>3000</td>\n",
       "      <td>0.0</td>\n",
       "      <td>66.0</td>\n",
       "      <td>360.0</td>\n",
       "      <td>1.0</td>\n",
       "      <td>Urban</td>\n",
       "      <td>Y</td>\n",
       "      <td>3000.0</td>\n",
       "      <td>Poor</td>\n",
       "      <td>Poor</td>\n",
       "    </tr>\n",
       "    <tr>\n",
       "      <th>3</th>\n",
       "      <td>LP001006</td>\n",
       "      <td>Male</td>\n",
       "      <td>Yes</td>\n",
       "      <td>0</td>\n",
       "      <td>Not Graduate</td>\n",
       "      <td>No</td>\n",
       "      <td>2583</td>\n",
       "      <td>2358.0</td>\n",
       "      <td>120.0</td>\n",
       "      <td>360.0</td>\n",
       "      <td>1.0</td>\n",
       "      <td>Urban</td>\n",
       "      <td>Y</td>\n",
       "      <td>4941.0</td>\n",
       "      <td>Poor</td>\n",
       "      <td>Poor</td>\n",
       "    </tr>\n",
       "    <tr>\n",
       "      <th>4</th>\n",
       "      <td>LP001008</td>\n",
       "      <td>Male</td>\n",
       "      <td>No</td>\n",
       "      <td>0</td>\n",
       "      <td>Graduate</td>\n",
       "      <td>No</td>\n",
       "      <td>6000</td>\n",
       "      <td>0.0</td>\n",
       "      <td>141.0</td>\n",
       "      <td>360.0</td>\n",
       "      <td>1.0</td>\n",
       "      <td>Urban</td>\n",
       "      <td>Y</td>\n",
       "      <td>6000.0</td>\n",
       "      <td>Rich</td>\n",
       "      <td>MiddleClass</td>\n",
       "    </tr>\n",
       "  </tbody>\n",
       "</table>\n",
       "</div>"
      ],
      "text/plain": [
       "    Loan_ID Gender Married Dependents     Education Self_Employed  \\\n",
       "0  LP001002   Male      No          0      Graduate            No   \n",
       "1  LP001003   Male     Yes          1      Graduate            No   \n",
       "2  LP001005   Male     Yes          0      Graduate           Yes   \n",
       "3  LP001006   Male     Yes          0  Not Graduate            No   \n",
       "4  LP001008   Male      No          0      Graduate            No   \n",
       "\n",
       "   ApplicantIncome  CoapplicantIncome  LoanAmount  Loan_Amount_Term  \\\n",
       "0             5849                0.0       126.0             360.0   \n",
       "1             4583             1508.0       128.0             360.0   \n",
       "2             3000                0.0        66.0             360.0   \n",
       "3             2583             2358.0       120.0             360.0   \n",
       "4             6000                0.0       141.0             360.0   \n",
       "\n",
       "   Credit_History Property_Area Loan_Status  Total_family_income  \\\n",
       "0             1.0         Urban           Y               5849.0   \n",
       "1             1.0         Rural           N               6091.0   \n",
       "2             1.0         Urban           Y               3000.0   \n",
       "3             1.0         Urban           Y               4941.0   \n",
       "4             1.0         Urban           Y               6000.0   \n",
       "\n",
       "  ApplicantIncome_Category Total_family_income_Category  \n",
       "0                     Rich                  MiddleClass  \n",
       "1              MiddleClass                  MiddleClass  \n",
       "2                     Poor                         Poor  \n",
       "3                     Poor                         Poor  \n",
       "4                     Rich                  MiddleClass  "
      ]
     },
     "execution_count": 358,
     "metadata": {},
     "output_type": "execute_result"
    }
   ],
   "source": [
    "df.head()"
   ]
  },
  {
   "cell_type": "code",
   "execution_count": null,
   "id": "efec1259",
   "metadata": {},
   "outputs": [],
   "source": []
  },
  {
   "cell_type": "code",
   "execution_count": 359,
   "id": "80dad82c",
   "metadata": {},
   "outputs": [],
   "source": [
    "ml = df.copy()"
   ]
  },
  {
   "cell_type": "code",
   "execution_count": 360,
   "id": "b55e84e6",
   "metadata": {},
   "outputs": [
    {
     "data": {
      "text/html": [
       "<div>\n",
       "<style scoped>\n",
       "    .dataframe tbody tr th:only-of-type {\n",
       "        vertical-align: middle;\n",
       "    }\n",
       "\n",
       "    .dataframe tbody tr th {\n",
       "        vertical-align: top;\n",
       "    }\n",
       "\n",
       "    .dataframe thead th {\n",
       "        text-align: right;\n",
       "    }\n",
       "</style>\n",
       "<table border=\"1\" class=\"dataframe\">\n",
       "  <thead>\n",
       "    <tr style=\"text-align: right;\">\n",
       "      <th></th>\n",
       "      <th>Loan_ID</th>\n",
       "      <th>Gender</th>\n",
       "      <th>Married</th>\n",
       "      <th>Dependents</th>\n",
       "      <th>Education</th>\n",
       "      <th>Self_Employed</th>\n",
       "      <th>ApplicantIncome</th>\n",
       "      <th>CoapplicantIncome</th>\n",
       "      <th>LoanAmount</th>\n",
       "      <th>Loan_Amount_Term</th>\n",
       "      <th>Credit_History</th>\n",
       "      <th>Property_Area</th>\n",
       "      <th>Loan_Status</th>\n",
       "      <th>Total_family_income</th>\n",
       "      <th>ApplicantIncome_Category</th>\n",
       "      <th>Total_family_income_Category</th>\n",
       "    </tr>\n",
       "  </thead>\n",
       "  <tbody>\n",
       "    <tr>\n",
       "      <th>0</th>\n",
       "      <td>LP001002</td>\n",
       "      <td>Male</td>\n",
       "      <td>No</td>\n",
       "      <td>0</td>\n",
       "      <td>Graduate</td>\n",
       "      <td>No</td>\n",
       "      <td>5849</td>\n",
       "      <td>0.0</td>\n",
       "      <td>126.0</td>\n",
       "      <td>360.0</td>\n",
       "      <td>1.0</td>\n",
       "      <td>Urban</td>\n",
       "      <td>Y</td>\n",
       "      <td>5849.0</td>\n",
       "      <td>Rich</td>\n",
       "      <td>MiddleClass</td>\n",
       "    </tr>\n",
       "    <tr>\n",
       "      <th>1</th>\n",
       "      <td>LP001003</td>\n",
       "      <td>Male</td>\n",
       "      <td>Yes</td>\n",
       "      <td>1</td>\n",
       "      <td>Graduate</td>\n",
       "      <td>No</td>\n",
       "      <td>4583</td>\n",
       "      <td>1508.0</td>\n",
       "      <td>128.0</td>\n",
       "      <td>360.0</td>\n",
       "      <td>1.0</td>\n",
       "      <td>Rural</td>\n",
       "      <td>N</td>\n",
       "      <td>6091.0</td>\n",
       "      <td>MiddleClass</td>\n",
       "      <td>MiddleClass</td>\n",
       "    </tr>\n",
       "    <tr>\n",
       "      <th>2</th>\n",
       "      <td>LP001005</td>\n",
       "      <td>Male</td>\n",
       "      <td>Yes</td>\n",
       "      <td>0</td>\n",
       "      <td>Graduate</td>\n",
       "      <td>Yes</td>\n",
       "      <td>3000</td>\n",
       "      <td>0.0</td>\n",
       "      <td>66.0</td>\n",
       "      <td>360.0</td>\n",
       "      <td>1.0</td>\n",
       "      <td>Urban</td>\n",
       "      <td>Y</td>\n",
       "      <td>3000.0</td>\n",
       "      <td>Poor</td>\n",
       "      <td>Poor</td>\n",
       "    </tr>\n",
       "    <tr>\n",
       "      <th>3</th>\n",
       "      <td>LP001006</td>\n",
       "      <td>Male</td>\n",
       "      <td>Yes</td>\n",
       "      <td>0</td>\n",
       "      <td>Not Graduate</td>\n",
       "      <td>No</td>\n",
       "      <td>2583</td>\n",
       "      <td>2358.0</td>\n",
       "      <td>120.0</td>\n",
       "      <td>360.0</td>\n",
       "      <td>1.0</td>\n",
       "      <td>Urban</td>\n",
       "      <td>Y</td>\n",
       "      <td>4941.0</td>\n",
       "      <td>Poor</td>\n",
       "      <td>Poor</td>\n",
       "    </tr>\n",
       "    <tr>\n",
       "      <th>4</th>\n",
       "      <td>LP001008</td>\n",
       "      <td>Male</td>\n",
       "      <td>No</td>\n",
       "      <td>0</td>\n",
       "      <td>Graduate</td>\n",
       "      <td>No</td>\n",
       "      <td>6000</td>\n",
       "      <td>0.0</td>\n",
       "      <td>141.0</td>\n",
       "      <td>360.0</td>\n",
       "      <td>1.0</td>\n",
       "      <td>Urban</td>\n",
       "      <td>Y</td>\n",
       "      <td>6000.0</td>\n",
       "      <td>Rich</td>\n",
       "      <td>MiddleClass</td>\n",
       "    </tr>\n",
       "  </tbody>\n",
       "</table>\n",
       "</div>"
      ],
      "text/plain": [
       "    Loan_ID Gender Married Dependents     Education Self_Employed  \\\n",
       "0  LP001002   Male      No          0      Graduate            No   \n",
       "1  LP001003   Male     Yes          1      Graduate            No   \n",
       "2  LP001005   Male     Yes          0      Graduate           Yes   \n",
       "3  LP001006   Male     Yes          0  Not Graduate            No   \n",
       "4  LP001008   Male      No          0      Graduate            No   \n",
       "\n",
       "   ApplicantIncome  CoapplicantIncome  LoanAmount  Loan_Amount_Term  \\\n",
       "0             5849                0.0       126.0             360.0   \n",
       "1             4583             1508.0       128.0             360.0   \n",
       "2             3000                0.0        66.0             360.0   \n",
       "3             2583             2358.0       120.0             360.0   \n",
       "4             6000                0.0       141.0             360.0   \n",
       "\n",
       "   Credit_History Property_Area Loan_Status  Total_family_income  \\\n",
       "0             1.0         Urban           Y               5849.0   \n",
       "1             1.0         Rural           N               6091.0   \n",
       "2             1.0         Urban           Y               3000.0   \n",
       "3             1.0         Urban           Y               4941.0   \n",
       "4             1.0         Urban           Y               6000.0   \n",
       "\n",
       "  ApplicantIncome_Category Total_family_income_Category  \n",
       "0                     Rich                  MiddleClass  \n",
       "1              MiddleClass                  MiddleClass  \n",
       "2                     Poor                         Poor  \n",
       "3                     Poor                         Poor  \n",
       "4                     Rich                  MiddleClass  "
      ]
     },
     "execution_count": 360,
     "metadata": {},
     "output_type": "execute_result"
    }
   ],
   "source": [
    "ml.head()"
   ]
  },
  {
   "cell_type": "code",
   "execution_count": 361,
   "id": "bfced945",
   "metadata": {},
   "outputs": [],
   "source": [
    "gen = []\n",
    "for i in ml.Gender:\n",
    "    if i == 'Male':\n",
    "        gen.append(1)\n",
    "    else:\n",
    "        gen.append(0)\n",
    "ml['Gender'] = gen"
   ]
  },
  {
   "cell_type": "code",
   "execution_count": 362,
   "id": "2d9bf632",
   "metadata": {},
   "outputs": [],
   "source": [
    "mar = []\n",
    "for i in ml.Married:\n",
    "    if i == 'Yes':\n",
    "        mar.append(1)\n",
    "    else:\n",
    "        mar.append(0)\n",
    "ml['Married'] = mar"
   ]
  },
  {
   "cell_type": "code",
   "execution_count": 363,
   "id": "6468ced1",
   "metadata": {},
   "outputs": [],
   "source": [
    "edu = []\n",
    "for i in ml.Education:\n",
    "    if i == 'Graduate':\n",
    "        edu.append(1)\n",
    "    else:\n",
    "        edu.append(0)\n",
    "ml['Education'] = edu"
   ]
  },
  {
   "cell_type": "code",
   "execution_count": 364,
   "id": "d3a7320f",
   "metadata": {},
   "outputs": [],
   "source": [
    "se = []\n",
    "for i in ml.Self_Employed:\n",
    "    if i == 'Graduate':\n",
    "        se.append(1)\n",
    "    else:\n",
    "        se.append(0)\n",
    "ml['Self_Employed'] = se"
   ]
  },
  {
   "cell_type": "code",
   "execution_count": null,
   "id": "6856ec9b",
   "metadata": {},
   "outputs": [],
   "source": []
  },
  {
   "cell_type": "code",
   "execution_count": 365,
   "id": "2d7f94a2",
   "metadata": {},
   "outputs": [],
   "source": [
    "tfi =[]\n",
    "for i in ml.Total_family_income_Category:\n",
    "    if i == 'Poor':\n",
    "        tfi.append(1)\n",
    "    elif i == 'Rich':\n",
    "        tfi.append(2)\n",
    "    elif i == 'MiddleClass':\n",
    "        tfi.append(3)\n",
    "ml['Total_family_income_Category'] = tfi"
   ]
  },
  {
   "cell_type": "code",
   "execution_count": 366,
   "id": "32ba513b",
   "metadata": {},
   "outputs": [
    {
     "data": {
      "text/plain": [
       "Semiurban    233\n",
       "Urban        202\n",
       "Rural        179\n",
       "Name: Property_Area, dtype: int64"
      ]
     },
     "execution_count": 366,
     "metadata": {},
     "output_type": "execute_result"
    }
   ],
   "source": [
    "ml.Property_Area.value_counts()"
   ]
  },
  {
   "cell_type": "code",
   "execution_count": 367,
   "id": "f76420a0",
   "metadata": {},
   "outputs": [],
   "source": [
    "pa = []\n",
    "for i in ml.Property_Area:\n",
    "    if i == 'Semiurban':\n",
    "        pa.append(1)\n",
    "    elif i == 'Urban':\n",
    "        pa.append(2)\n",
    "    elif i == 'Rural':\n",
    "        pa.append(3)\n",
    "ml['Property_Area'] = pa"
   ]
  },
  {
   "cell_type": "code",
   "execution_count": 368,
   "id": "1e5b4fbf",
   "metadata": {},
   "outputs": [],
   "source": [
    "ls = []\n",
    "for i in ml.Loan_Status:\n",
    "    if i == 'Y':\n",
    "        ls.append(1)        \n",
    "    else:\n",
    "        ls.append(0)\n",
    "ml['Loan_Status'] = ls"
   ]
  },
  {
   "cell_type": "code",
   "execution_count": 369,
   "id": "07f88b99",
   "metadata": {},
   "outputs": [],
   "source": [
    "dp = []\n",
    "for i in ml.Dependents:\n",
    "    if i == '0':\n",
    "        dp.append(0)\n",
    "    elif i  == '1':\n",
    "        dp.append(1)\n",
    "    elif i == '2':\n",
    "        dp.append(2)\n",
    "    elif i == '3+':\n",
    "        dp.append(3)\n",
    "ml['Dependents'] = dp"
   ]
  },
  {
   "cell_type": "code",
   "execution_count": 370,
   "id": "09d053ef",
   "metadata": {},
   "outputs": [],
   "source": [
    "ml.drop('Loan_ID',axis=1,inplace=True)"
   ]
  },
  {
   "cell_type": "code",
   "execution_count": 371,
   "id": "ce857163",
   "metadata": {},
   "outputs": [],
   "source": [
    "\n",
    "ml.drop('ApplicantIncome_Category',axis=1,inplace=True) "
   ]
  },
  {
   "cell_type": "code",
   "execution_count": 372,
   "id": "18f87f3f",
   "metadata": {},
   "outputs": [
    {
     "data": {
      "text/html": [
       "<div>\n",
       "<style scoped>\n",
       "    .dataframe tbody tr th:only-of-type {\n",
       "        vertical-align: middle;\n",
       "    }\n",
       "\n",
       "    .dataframe tbody tr th {\n",
       "        vertical-align: top;\n",
       "    }\n",
       "\n",
       "    .dataframe thead th {\n",
       "        text-align: right;\n",
       "    }\n",
       "</style>\n",
       "<table border=\"1\" class=\"dataframe\">\n",
       "  <thead>\n",
       "    <tr style=\"text-align: right;\">\n",
       "      <th></th>\n",
       "      <th>Gender</th>\n",
       "      <th>Married</th>\n",
       "      <th>Dependents</th>\n",
       "      <th>Education</th>\n",
       "      <th>Self_Employed</th>\n",
       "      <th>ApplicantIncome</th>\n",
       "      <th>CoapplicantIncome</th>\n",
       "      <th>LoanAmount</th>\n",
       "      <th>Loan_Amount_Term</th>\n",
       "      <th>Credit_History</th>\n",
       "      <th>Property_Area</th>\n",
       "      <th>Loan_Status</th>\n",
       "      <th>Total_family_income</th>\n",
       "      <th>Total_family_income_Category</th>\n",
       "    </tr>\n",
       "  </thead>\n",
       "  <tbody>\n",
       "    <tr>\n",
       "      <th>0</th>\n",
       "      <td>1</td>\n",
       "      <td>0</td>\n",
       "      <td>0</td>\n",
       "      <td>1</td>\n",
       "      <td>0</td>\n",
       "      <td>5849</td>\n",
       "      <td>0.0</td>\n",
       "      <td>126.0</td>\n",
       "      <td>360.0</td>\n",
       "      <td>1.0</td>\n",
       "      <td>2</td>\n",
       "      <td>1</td>\n",
       "      <td>5849.0</td>\n",
       "      <td>3</td>\n",
       "    </tr>\n",
       "    <tr>\n",
       "      <th>1</th>\n",
       "      <td>1</td>\n",
       "      <td>1</td>\n",
       "      <td>1</td>\n",
       "      <td>1</td>\n",
       "      <td>0</td>\n",
       "      <td>4583</td>\n",
       "      <td>1508.0</td>\n",
       "      <td>128.0</td>\n",
       "      <td>360.0</td>\n",
       "      <td>1.0</td>\n",
       "      <td>3</td>\n",
       "      <td>0</td>\n",
       "      <td>6091.0</td>\n",
       "      <td>3</td>\n",
       "    </tr>\n",
       "    <tr>\n",
       "      <th>2</th>\n",
       "      <td>1</td>\n",
       "      <td>1</td>\n",
       "      <td>0</td>\n",
       "      <td>1</td>\n",
       "      <td>0</td>\n",
       "      <td>3000</td>\n",
       "      <td>0.0</td>\n",
       "      <td>66.0</td>\n",
       "      <td>360.0</td>\n",
       "      <td>1.0</td>\n",
       "      <td>2</td>\n",
       "      <td>1</td>\n",
       "      <td>3000.0</td>\n",
       "      <td>1</td>\n",
       "    </tr>\n",
       "    <tr>\n",
       "      <th>3</th>\n",
       "      <td>1</td>\n",
       "      <td>1</td>\n",
       "      <td>0</td>\n",
       "      <td>0</td>\n",
       "      <td>0</td>\n",
       "      <td>2583</td>\n",
       "      <td>2358.0</td>\n",
       "      <td>120.0</td>\n",
       "      <td>360.0</td>\n",
       "      <td>1.0</td>\n",
       "      <td>2</td>\n",
       "      <td>1</td>\n",
       "      <td>4941.0</td>\n",
       "      <td>1</td>\n",
       "    </tr>\n",
       "    <tr>\n",
       "      <th>4</th>\n",
       "      <td>1</td>\n",
       "      <td>0</td>\n",
       "      <td>0</td>\n",
       "      <td>1</td>\n",
       "      <td>0</td>\n",
       "      <td>6000</td>\n",
       "      <td>0.0</td>\n",
       "      <td>141.0</td>\n",
       "      <td>360.0</td>\n",
       "      <td>1.0</td>\n",
       "      <td>2</td>\n",
       "      <td>1</td>\n",
       "      <td>6000.0</td>\n",
       "      <td>3</td>\n",
       "    </tr>\n",
       "  </tbody>\n",
       "</table>\n",
       "</div>"
      ],
      "text/plain": [
       "   Gender  Married  Dependents  Education  Self_Employed  ApplicantIncome  \\\n",
       "0       1        0           0          1              0             5849   \n",
       "1       1        1           1          1              0             4583   \n",
       "2       1        1           0          1              0             3000   \n",
       "3       1        1           0          0              0             2583   \n",
       "4       1        0           0          1              0             6000   \n",
       "\n",
       "   CoapplicantIncome  LoanAmount  Loan_Amount_Term  Credit_History  \\\n",
       "0                0.0       126.0             360.0             1.0   \n",
       "1             1508.0       128.0             360.0             1.0   \n",
       "2                0.0        66.0             360.0             1.0   \n",
       "3             2358.0       120.0             360.0             1.0   \n",
       "4                0.0       141.0             360.0             1.0   \n",
       "\n",
       "   Property_Area  Loan_Status  Total_family_income  \\\n",
       "0              2            1               5849.0   \n",
       "1              3            0               6091.0   \n",
       "2              2            1               3000.0   \n",
       "3              2            1               4941.0   \n",
       "4              2            1               6000.0   \n",
       "\n",
       "   Total_family_income_Category  \n",
       "0                             3  \n",
       "1                             3  \n",
       "2                             1  \n",
       "3                             1  \n",
       "4                             3  "
      ]
     },
     "execution_count": 372,
     "metadata": {},
     "output_type": "execute_result"
    }
   ],
   "source": [
    "ml.head()"
   ]
  },
  {
   "cell_type": "code",
   "execution_count": 373,
   "id": "0ed36508",
   "metadata": {},
   "outputs": [
    {
     "name": "stdout",
     "output_type": "stream",
     "text": [
      "<class 'pandas.core.frame.DataFrame'>\n",
      "Int64Index: 614 entries, 0 to 613\n",
      "Data columns (total 14 columns):\n",
      " #   Column                        Non-Null Count  Dtype  \n",
      "---  ------                        --------------  -----  \n",
      " 0   Gender                        614 non-null    int64  \n",
      " 1   Married                       614 non-null    int64  \n",
      " 2   Dependents                    614 non-null    int64  \n",
      " 3   Education                     614 non-null    int64  \n",
      " 4   Self_Employed                 614 non-null    int64  \n",
      " 5   ApplicantIncome               614 non-null    int64  \n",
      " 6   CoapplicantIncome             614 non-null    float64\n",
      " 7   LoanAmount                    614 non-null    float64\n",
      " 8   Loan_Amount_Term              614 non-null    float64\n",
      " 9   Credit_History                614 non-null    float64\n",
      " 10  Property_Area                 614 non-null    int64  \n",
      " 11  Loan_Status                   614 non-null    int64  \n",
      " 12  Total_family_income           614 non-null    float64\n",
      " 13  Total_family_income_Category  614 non-null    int64  \n",
      "dtypes: float64(5), int64(9)\n",
      "memory usage: 72.0 KB\n"
     ]
    }
   ],
   "source": [
    "ml.info()"
   ]
  },
  {
   "cell_type": "code",
   "execution_count": 374,
   "id": "01c27cb5",
   "metadata": {},
   "outputs": [],
   "source": [
    "from sklearn.model_selection import train_test_split\n",
    "from sklearn.preprocessing import LabelEncoder\n",
    "from sklearn.linear_model import LogisticRegression\n",
    "from sklearn.neighbors import KNeighborsClassifier\n",
    "from sklearn.tree import DecisionTreeClassifier\n",
    "from sklearn.ensemble import RandomForestClassifier\n",
    "from xgboost import XGBClassifier, XGBRFClassifier\n",
    "from catboost import CatBoostClassifier\n",
    "from lightgbm import LGBMClassifier\n",
    "from sklearn.metrics import accuracy_score, classification_report, confusion_matrix, roc_auc_score, roc_curve"
   ]
  },
  {
   "cell_type": "code",
   "execution_count": 375,
   "id": "66b7b760",
   "metadata": {},
   "outputs": [],
   "source": [
    "x = ml.drop('Loan_Status',axis=1)\n",
    "y = ml.Loan_Status"
   ]
  },
  {
   "cell_type": "code",
   "execution_count": 376,
   "id": "8e490de9",
   "metadata": {},
   "outputs": [],
   "source": [
    "xtrain,xtest,ytrain,ytest = train_test_split(x,y,test_size=0.15,random_state=43)"
   ]
  },
  {
   "cell_type": "code",
   "execution_count": 377,
   "id": "fbc3369c",
   "metadata": {},
   "outputs": [],
   "source": [
    "lr = LogisticRegression()\n",
    "kn = KNeighborsClassifier()\n",
    "dt = DecisionTreeClassifier()\n",
    "rf = RandomForestClassifier()\n",
    "xgb = XGBClassifier()\n",
    "xgbrf = XGBRFClassifier()\n",
    "cat = CatBoostClassifier(verbose=False)\n",
    "lgb = LGBMClassifier()"
   ]
  },
  {
   "cell_type": "code",
   "execution_count": 381,
   "id": "fa26ab1f",
   "metadata": {},
   "outputs": [
    {
     "name": "stdout",
     "output_type": "stream",
     "text": [
      "Train metrics :\n",
      "\n",
      "Train Accuracy score :  0.8080614203454894\n",
      "\n",
      "Train Conf. Matrix :\n",
      "\n",
      " [[ 79  84]\n",
      " [ 16 342]]\n",
      "\n",
      "Train Class. Report :\n",
      "\n",
      "               precision    recall  f1-score   support\n",
      "\n",
      "           0       0.83      0.48      0.61       163\n",
      "           1       0.80      0.96      0.87       358\n",
      "\n",
      "    accuracy                           0.81       521\n",
      "   macro avg       0.82      0.72      0.74       521\n",
      "weighted avg       0.81      0.81      0.79       521\n",
      "\n"
     ]
    },
    {
     "data": {
      "image/png": "[encoded data removed]",
      "text/plain": [
       "<Figure size 432x288 with 1 Axes>"
      ]
     },
     "metadata": {
      "needs_background": "light"
     },
     "output_type": "display_data"
    },
    {
     "name": "stdout",
     "output_type": "stream",
     "text": [
      "-------------------------------------------------------------------------------- \n",
      "\n",
      "Test Metrics :\n",
      "\n",
      "\n",
      "Test accuracy score :  0.8172043010752689\n",
      "Roc auc score : 0.787176724137931\n",
      "\n",
      "Test conf. matrix :\n",
      "\n",
      " [[14 15]\n",
      " [ 2 62]]\n",
      "\n",
      "Test Class. Report :\n",
      "\n",
      "               precision    recall  f1-score   support\n",
      "\n",
      "           0       0.88      0.48      0.62        29\n",
      "           1       0.81      0.97      0.88        64\n",
      "\n",
      "    accuracy                           0.82        93\n",
      "   macro avg       0.84      0.73      0.75        93\n",
      "weighted avg       0.83      0.82      0.80        93\n",
      "\n"
     ]
    }
   ],
   "source": [
    "## train scores\n",
    "lr.fit(xtrain,ytrain)\n",
    "lr_train_pred = lr.predict(xtrain)\n",
    "lr_train_acc = accuracy_score(ytrain,lr_train_pred)\n",
    "lr_train_cm = confusion_matrix(ytrain,lr_train_pred)\n",
    "lr_train_cr = classification_report(ytrain,lr_train_pred)\n",
    "print('Train metrics :\\n')\n",
    "print('Train Accuracy score : ',lr_train_acc)\n",
    "print('\\nTrain Conf. Matrix :\\n\\n',lr_train_cm)\n",
    "print('\\nTrain Class. Report :\\n\\n',lr_train_cr)\n",
    "##test scores\n",
    "lr_test_pred = lr.predict(xtest)\n",
    "lr_test_pp = lr.predict_proba(xtest)\n",
    "lr_test_pp = lr_test_pp[:,1]\n",
    "##plotting ROC_CURVE\n",
    "fpr,tpr,thresh = roc_curve(ytest,lr_test_pp)\n",
    "plt.plot(fpr,tpr,marker='.')\n",
    "plt.plot([0,1],[0,1],linestyle='--',color='r',marker='.')\n",
    "plt.grid()\n",
    "plt.xlabel('False positive Rate')\n",
    "plt.ylabel('True positive Rate')\n",
    "plt.title('ROC AUC Curve')\n",
    "plt.show()\n",
    "lr_test_acc = accuracy_score(ytest,lr_test_pred)\n",
    "lr_test_cm = confusion_matrix(ytest,lr_test_pred)\n",
    "lr_test_cr = classification_report(ytest,lr_test_pred)\n",
    "lr_test_rocauc = roc_auc_score(ytest,lr_test_pp)\n",
    "print('--'*40,'\\n')\n",
    "print('Test Metrics :\\n\\n')\n",
    "print('Test accuracy score : ',lr_test_acc)\n",
    "print('Roc auc score :',lr_test_rocauc)\n",
    "print('\\nTest conf. matrix :\\n\\n',lr_test_cm)\n",
    "print('\\nTest Class. Report :\\n\\n',lr_test_cr)"
   ]
  },
  {
   "cell_type": "code",
   "execution_count": 382,
   "id": "de58e2db",
   "metadata": {},
   "outputs": [
    {
     "name": "stdout",
     "output_type": "stream",
     "text": [
      "Train metrics :\n",
      "\n",
      "Train Accuracy score :  0.7428023032629558\n",
      "\n",
      "Train Conf. Matrix :\n",
      "\n",
      " [[ 54 109]\n",
      " [ 25 333]]\n",
      "\n",
      "Train Class. Report :\n",
      "\n",
      "               precision    recall  f1-score   support\n",
      "\n",
      "           0       0.68      0.33      0.45       163\n",
      "           1       0.75      0.93      0.83       358\n",
      "\n",
      "    accuracy                           0.74       521\n",
      "   macro avg       0.72      0.63      0.64       521\n",
      "weighted avg       0.73      0.74      0.71       521\n",
      "\n"
     ]
    },
    {
     "data": {
      "image/png": "[encoded data removed]",
      "text/plain": [
       "<Figure size 432x288 with 1 Axes>"
      ]
     },
     "metadata": {
      "needs_background": "light"
     },
     "output_type": "display_data"
    },
    {
     "name": "stdout",
     "output_type": "stream",
     "text": [
      "-------------------------------------------------------------------------------- \n",
      "\n",
      "Test Metrics :\n",
      "\n",
      "\n",
      "Test accuracy score :  0.6451612903225806\n",
      "roc_auc score : 0.5638469827586207\n",
      "\n",
      "Test conf. matrix :\n",
      "\n",
      " [[ 6 23]\n",
      " [10 54]]\n",
      "\n",
      "Test Class. Report :\n",
      "\n",
      "               precision    recall  f1-score   support\n",
      "\n",
      "           0       0.38      0.21      0.27        29\n",
      "           1       0.70      0.84      0.77        64\n",
      "\n",
      "    accuracy                           0.65        93\n",
      "   macro avg       0.54      0.53      0.52        93\n",
      "weighted avg       0.60      0.65      0.61        93\n",
      "\n"
     ]
    }
   ],
   "source": [
    "## train scores\n",
    "kn.fit(xtrain,ytrain)\n",
    "kn_train_pred = kn.predict(xtrain)\n",
    "kn_train_acc = accuracy_score(ytrain,kn_train_pred)\n",
    "kn_train_cm = confusion_matrix(ytrain,kn_train_pred)\n",
    "kn_train_cr = classification_report(ytrain,kn_train_pred)\n",
    "print('Train metrics :\\n')\n",
    "print('Train Accuracy score : ',kn_train_acc)\n",
    "print('\\nTrain Conf. Matrix :\\n\\n',kn_train_cm)\n",
    "print('\\nTrain Class. Report :\\n\\n',kn_train_cr)\n",
    "##test scores\n",
    "kn_test_pred = kn.predict(xtest)\n",
    "kn_test_pp = kn.predict_proba(xtest)\n",
    "kn_test_pp = kn_test_pp[:,1]\n",
    "##plotting ROC_CURVE\n",
    "fpr,tpr,thresh = roc_curve(ytest,kn_test_pp)\n",
    "plt.plot(fpr,tpr,marker='.')\n",
    "plt.plot([0,1],[0,1],linestyle='--',color='r',marker='.')\n",
    "plt.grid()\n",
    "plt.xlabel('False positive Rate')\n",
    "plt.ylabel('True positive Rate')\n",
    "plt.title('ROC AUC Curve')\n",
    "plt.show()\n",
    "kn_test_acc = accuracy_score(ytest,kn_test_pred)\n",
    "kn_test_cm = confusion_matrix(ytest,kn_test_pred)\n",
    "kn_test_cr = classification_report(ytest,kn_test_pred)\n",
    "kn_test_rocauc = roc_auc_score(ytest,kn_test_pp)\n",
    "print('--'*40,'\\n')\n",
    "print('Test Metrics :\\n\\n')\n",
    "print('Test accuracy score : ',kn_test_acc)\n",
    "print('roc_auc score :',kn_test_rocauc)\n",
    "print('\\nTest conf. matrix :\\n\\n',kn_test_cm)\n",
    "print('\\nTest Class. Report :\\n\\n',kn_test_cr)"
   ]
  },
  {
   "cell_type": "code",
   "execution_count": 385,
   "id": "5e128ea0",
   "metadata": {},
   "outputs": [
    {
     "name": "stdout",
     "output_type": "stream",
     "text": [
      "Train metrics :\n",
      "\n",
      "Train Accuracy score :  1.0\n",
      "\n",
      "Train Conf. Matrix :\n",
      "\n",
      " [[163   0]\n",
      " [  0 358]]\n",
      "\n",
      "Train Class. Report :\n",
      "\n",
      "               precision    recall  f1-score   support\n",
      "\n",
      "           0       1.00      1.00      1.00       163\n",
      "           1       1.00      1.00      1.00       358\n",
      "\n",
      "    accuracy                           1.00       521\n",
      "   macro avg       1.00      1.00      1.00       521\n",
      "weighted avg       1.00      1.00      1.00       521\n",
      "\n",
      "-------------------------------------------------------------------------------- \n",
      "\n",
      "Test Metrics :\n",
      "\n",
      "\n",
      "Test accuracy score :  0.6881720430107527\n",
      "roc auc score : 0.6885775862068966\n",
      "\n",
      "Test conf. matrix :\n",
      "\n",
      " [[20  9]\n",
      " [20 44]]\n",
      "\n",
      "Test Class. Report :\n",
      "\n",
      "               precision    recall  f1-score   support\n",
      "\n",
      "           0       0.50      0.69      0.58        29\n",
      "           1       0.83      0.69      0.75        64\n",
      "\n",
      "    accuracy                           0.69        93\n",
      "   macro avg       0.67      0.69      0.67        93\n",
      "weighted avg       0.73      0.69      0.70        93\n",
      "\n"
     ]
    },
    {
     "data": {
      "image/png": "[encoded data removed]",
      "text/plain": [
       "<Figure size 432x288 with 1 Axes>"
      ]
     },
     "metadata": {
      "needs_background": "light"
     },
     "output_type": "display_data"
    }
   ],
   "source": [
    "## train scores\n",
    "dt.fit(xtrain,ytrain)\n",
    "dt_train_pred = dt.predict(xtrain)\n",
    "dt_train_acc = accuracy_score(ytrain,dt_train_pred)\n",
    "dt_train_cm = confusion_matrix(ytrain,dt_train_pred)\n",
    "dt_train_cr = classification_report(ytrain,dt_train_pred)\n",
    "print('Train metrics :\\n')\n",
    "print('Train Accuracy score : ',dt_train_acc)\n",
    "print('\\nTrain Conf. Matrix :\\n\\n',dt_train_cm)\n",
    "print('\\nTrain Class. Report :\\n\\n',dt_train_cr)\n",
    "##test scores\n",
    "dt_test_pred = dt.predict(xtest)\n",
    "dt_test_pp = dt.predict_proba(xtest)\n",
    "dt_test_pp = dt_test_pp[:,1]\n",
    "##plotting ROC_CURVE\n",
    "fpr,tpr,thresh = roc_curve(ytest,dt_test_pp)\n",
    "plt.plot(fpr,tpr,marker='.')\n",
    "plt.plot([0,1],[0,1],linestyle='--',color='r',marker='.')\n",
    "plt.grid()\n",
    "plt.xlabel('False positive Rate')\n",
    "plt.ylabel('True positive Rate')\n",
    "plt.title('ROC AUC Curve')\n",
    "dt_test_acc = accuracy_score(ytest,dt_test_pred)\n",
    "dt_test_cm = confusion_matrix(ytest,dt_test_pred)\n",
    "dt_test_cr = classification_report(ytest,dt_test_pred)\n",
    "dt_test_rocauc = roc_auc_score(ytest,dt_test_pp)\n",
    "print('--'*40,'\\n')\n",
    "print('Test Metrics :\\n\\n')\n",
    "print('Test accuracy score : ',dt_test_acc)\n",
    "print('roc auc score :',dt_test_rocauc)\n",
    "print('\\nTest conf. matrix :\\n\\n',dt_test_cm)\n",
    "print('\\nTest Class. Report :\\n\\n',dt_test_cr)"
   ]
  },
  {
   "cell_type": "code",
   "execution_count": 388,
   "id": "61f97dd1",
   "metadata": {},
   "outputs": [
    {
     "name": "stdout",
     "output_type": "stream",
     "text": [
      "Train metrics :\n",
      "\n",
      "Train Accuracy score :  1.0\n",
      "\n",
      "Train Conf. Matrix :\n",
      "\n",
      " [[163   0]\n",
      " [  0 358]]\n",
      "\n",
      "Train Class. Report :\n",
      "\n",
      "               precision    recall  f1-score   support\n",
      "\n",
      "           0       1.00      1.00      1.00       163\n",
      "           1       1.00      1.00      1.00       358\n",
      "\n",
      "    accuracy                           1.00       521\n",
      "   macro avg       1.00      1.00      1.00       521\n",
      "weighted avg       1.00      1.00      1.00       521\n",
      "\n",
      "-------------------------------------------------------------------------------- \n",
      "\n",
      "Test Metrics :\n",
      "\n",
      "\n",
      "Test accuracy score :  0.7849462365591398\n",
      "roc auc score : 0.8186961206896552\n",
      "\n",
      "Test conf. matrix :\n",
      "\n",
      " [[17 12]\n",
      " [ 8 56]]\n",
      "\n",
      "Test Class. Report :\n",
      "\n",
      "               precision    recall  f1-score   support\n",
      "\n",
      "           0       0.68      0.59      0.63        29\n",
      "           1       0.82      0.88      0.85        64\n",
      "\n",
      "    accuracy                           0.78        93\n",
      "   macro avg       0.75      0.73      0.74        93\n",
      "weighted avg       0.78      0.78      0.78        93\n",
      "\n"
     ]
    },
    {
     "data": {
      "image/png": "[encoded data removed]",
      "text/plain": [
       "<Figure size 432x288 with 1 Axes>"
      ]
     },
     "metadata": {
      "needs_background": "light"
     },
     "output_type": "display_data"
    }
   ],
   "source": [
    "## train scores\n",
    "rf.fit(xtrain,ytrain)\n",
    "rf_train_pred = rf.predict(xtrain)\n",
    "rf_train_acc = accuracy_score(ytrain,rf_train_pred)\n",
    "rf_train_cm = confusion_matrix(ytrain,rf_train_pred)\n",
    "rf_train_cr = classification_report(ytrain,rf_train_pred)\n",
    "print('Train metrics :\\n')\n",
    "print('Train Accuracy score : ',rf_train_acc)\n",
    "print('\\nTrain Conf. Matrix :\\n\\n',rf_train_cm)\n",
    "print('\\nTrain Class. Report :\\n\\n',rf_train_cr)\n",
    "##test scores\n",
    "rf_test_pred = rf.predict(xtest)\n",
    "rf_test_pp = rf.predict_proba(xtest)\n",
    "rf_test_pp = rf_test_pp[:,1]\n",
    "##plotting ROC_CURVE\n",
    "fpr,tpr,thresh = roc_curve(ytest,rf_test_pp)\n",
    "plt.plot(fpr,tpr,marker='.')\n",
    "plt.plot([0,1],[0,1],linestyle='--',color='r',marker='.')\n",
    "plt.grid()\n",
    "plt.xlabel('False positive Rate')\n",
    "plt.ylabel('True positive Rate')\n",
    "plt.title('ROC AUC Curve')\n",
    "rf_test_acc = accuracy_score(ytest,rf_test_pred)\n",
    "rf_test_cm = confusion_matrix(ytest,rf_test_pred)\n",
    "rf_test_cr = classification_report(ytest,rf_test_pred)\n",
    "rf_test_rocauc = roc_auc_score(ytest,rf_test_pp)\n",
    "print('--'*40,'\\n')\n",
    "print('Test Metrics :\\n\\n')\n",
    "print('Test accuracy score : ',rf_test_acc)\n",
    "print('roc auc score :',rf_test_rocauc)\n",
    "print('\\nTest conf. matrix :\\n\\n',rf_test_cm)\n",
    "print('\\nTest Class. Report :\\n\\n',rf_test_cr)"
   ]
  },
  {
   "cell_type": "code",
   "execution_count": 390,
   "id": "1073e4ca",
   "metadata": {},
   "outputs": [
    {
     "name": "stdout",
     "output_type": "stream",
     "text": [
      "[17:44:43] WARNING: ../src/learner.cc:1115: Starting in XGBoost 1.3.0, the default evaluation metric used with the objective 'binary:logistic' was changed from 'error' to 'logloss'. Explicitly set eval_metric if you'd like to restore the old behavior.\n",
      "Train metrics :\n",
      "\n",
      "Train Accuracy score :  1.0\n",
      "\n",
      "Train Conf. Matrix :\n",
      "\n",
      " [[163   0]\n",
      " [  0 358]]\n",
      "\n",
      "Train Class. Report :\n",
      "\n",
      "               precision    recall  f1-score   support\n",
      "\n",
      "           0       1.00      1.00      1.00       163\n",
      "           1       1.00      1.00      1.00       358\n",
      "\n",
      "    accuracy                           1.00       521\n",
      "   macro avg       1.00      1.00      1.00       521\n",
      "weighted avg       1.00      1.00      1.00       521\n",
      "\n",
      "-------------------------------------------------------------------------------- \n",
      "\n",
      "Test Metrics :\n",
      "\n",
      "\n",
      "Test accuracy score :  0.7634408602150538\n",
      "roc auc score : 0.8044181034482759\n",
      "\n",
      "Test conf. matrix :\n",
      "\n",
      " [[18 11]\n",
      " [11 53]]\n",
      "\n",
      "Test Class. Report :\n",
      "\n",
      "               precision    recall  f1-score   support\n",
      "\n",
      "           0       0.62      0.62      0.62        29\n",
      "           1       0.83      0.83      0.83        64\n",
      "\n",
      "    accuracy                           0.76        93\n",
      "   macro avg       0.72      0.72      0.72        93\n",
      "weighted avg       0.76      0.76      0.76        93\n",
      "\n"
     ]
    },
    {
     "data": {
      "image/png": "[encoded data removed]",
      "text/plain": [
       "<Figure size 432x288 with 1 Axes>"
      ]
     },
     "metadata": {
      "needs_background": "light"
     },
     "output_type": "display_data"
    }
   ],
   "source": [
    "## train scores\n",
    "xgb.fit(xtrain,ytrain)\n",
    "xgb_train_pred = xgb.predict(xtrain)\n",
    "xgb_train_acc = accuracy_score(ytrain,xgb_train_pred)\n",
    "xgb_train_cm = confusion_matrix(ytrain,xgb_train_pred)\n",
    "xgb_train_cr = classification_report(ytrain,xgb_train_pred)\n",
    "print('Train metrics :\\n')\n",
    "print('Train Accuracy score : ',xgb_train_acc)\n",
    "print('\\nTrain Conf. Matrix :\\n\\n',xgb_train_cm)\n",
    "print('\\nTrain Class. Report :\\n\\n',xgb_train_cr)\n",
    "##test scores\n",
    "xgb_test_pred = xgb.predict(xtest)\n",
    "xgb_test_pp = xgb.predict_proba(xtest)\n",
    "xgb_test_pp = xgb_test_pp[:,1]\n",
    "##plotting ROC_CURVE\n",
    "fpr,tpr,thresh = roc_curve(ytest,xgb_test_pp)\n",
    "plt.plot(fpr,tpr,marker='.')\n",
    "plt.plot([0,1],[0,1],linestyle='--',color='r',marker='.')\n",
    "plt.grid()\n",
    "plt.xlabel('False positive Rate')\n",
    "plt.ylabel('True positive Rate')\n",
    "plt.title('ROC AUC Curve')\n",
    "xgb_test_acc = accuracy_score(ytest,xgb_test_pred)\n",
    "xgb_test_cm = confusion_matrix(ytest,xgb_test_pred)\n",
    "xgb_test_cr = classification_report(ytest,xgb_test_pred)\n",
    "xgb_test_rocauc = roc_auc_score(ytest,xgb_test_pp)\n",
    "\n",
    "print('--'*40,'\\n')\n",
    "print('Test Metrics :\\n\\n')\n",
    "print('Test accuracy score : ',xgb_test_acc)\n",
    "print('roc auc score :',xgb_test_rocauc)\n",
    "print('\\nTest conf. matrix :\\n\\n',xgb_test_cm)\n",
    "print('\\nTest Class. Report :\\n\\n',xgb_test_cr)"
   ]
  },
  {
   "cell_type": "code",
   "execution_count": 391,
   "id": "4f512e0c",
   "metadata": {},
   "outputs": [
    {
     "name": "stdout",
     "output_type": "stream",
     "text": [
      "[17:45:25] WARNING: ../src/learner.cc:1115: Starting in XGBoost 1.3.0, the default evaluation metric used with the objective 'binary:logistic' was changed from 'error' to 'logloss'. Explicitly set eval_metric if you'd like to restore the old behavior.\n",
      "Train metrics :\n",
      "\n",
      "Train Accuracy score :  0.8330134357005758\n",
      "\n",
      "Train Conf. Matrix :\n",
      "\n",
      " [[ 84  79]\n",
      " [  8 350]]\n",
      "\n",
      "Train Class. Report :\n",
      "\n",
      "               precision    recall  f1-score   support\n",
      "\n",
      "           0       0.91      0.52      0.66       163\n",
      "           1       0.82      0.98      0.89       358\n",
      "\n",
      "    accuracy                           0.83       521\n",
      "   macro avg       0.86      0.75      0.77       521\n",
      "weighted avg       0.85      0.83      0.82       521\n",
      "\n",
      "-------------------------------------------------------------------------------- \n",
      "\n",
      "Test Metrics :\n",
      "\n",
      "\n",
      "Test accuracy score :  0.7741935483870968\n",
      "roc auc score : 0.794719827586207\n",
      "\n",
      "Test conf. matrix :\n",
      "\n",
      " [[15 14]\n",
      " [ 7 57]]\n",
      "\n",
      "Test Class. Report :\n",
      "\n",
      "               precision    recall  f1-score   support\n",
      "\n",
      "           0       0.68      0.52      0.59        29\n",
      "           1       0.80      0.89      0.84        64\n",
      "\n",
      "    accuracy                           0.77        93\n",
      "   macro avg       0.74      0.70      0.72        93\n",
      "weighted avg       0.77      0.77      0.76        93\n",
      "\n"
     ]
    },
    {
     "data": {
      "image/png": "[encoded data removed]",
      "text/plain": [
       "<Figure size 432x288 with 1 Axes>"
      ]
     },
     "metadata": {
      "needs_background": "light"
     },
     "output_type": "display_data"
    }
   ],
   "source": [
    "## train scores\n",
    "xgbrf.fit(xtrain,ytrain)\n",
    "xgbrf_train_pred = xgbrf.predict(xtrain)\n",
    "xgbrf_train_acc = accuracy_score(ytrain,xgbrf_train_pred)\n",
    "xgbrf_train_cm = confusion_matrix(ytrain,xgbrf_train_pred)\n",
    "xgbrf_train_cr = classification_report(ytrain,xgbrf_train_pred)\n",
    "print('Train metrics :\\n')\n",
    "print('Train Accuracy score : ',xgbrf_train_acc)\n",
    "print('\\nTrain Conf. Matrix :\\n\\n',xgbrf_train_cm)\n",
    "print('\\nTrain Class. Report :\\n\\n',xgbrf_train_cr)\n",
    "##test scores\n",
    "xgbrf_test_pred = xgbrf.predict(xtest)\n",
    "xgbrf_test_pp = xgbrf.predict_proba(xtest)\n",
    "xgbrf_test_pp = xgbrf_test_pp[:,1]\n",
    "##plotting ROC_CURVE\n",
    "fpr,tpr,thresh = roc_curve(ytest,xgbrf_test_pp)\n",
    "plt.plot(fpr,tpr,marker='.')\n",
    "plt.plot([0,1],[0,1],linestyle='--',color='r',marker='.')\n",
    "plt.grid()\n",
    "plt.xlabel('False positive Rate')\n",
    "plt.ylabel('True positive Rate')\n",
    "plt.title('ROC AUC Curve')\n",
    "xgbrf_test_acc = accuracy_score(ytest,xgbrf_test_pred)\n",
    "xgbrf_test_cm = confusion_matrix(ytest,xgbrf_test_pred)\n",
    "xgbrf_test_cr = classification_report(ytest,xgbrf_test_pred)\n",
    "xgbrf_test_rocauc = roc_auc_score(ytest,xgbrf_test_pp)\n",
    "\n",
    "print('--'*40,'\\n')\n",
    "print('Test Metrics :\\n\\n')\n",
    "print('Test accuracy score : ',xgbrf_test_acc)\n",
    "print('roc auc score :',xgbrf_test_rocauc)\n",
    "print('\\nTest conf. matrix :\\n\\n',xgbrf_test_cm)\n",
    "print('\\nTest Class. Report :\\n\\n',xgbrf_test_cr)"
   ]
  },
  {
   "cell_type": "code",
   "execution_count": 396,
   "id": "8d66c9b3",
   "metadata": {},
   "outputs": [
    {
     "name": "stdout",
     "output_type": "stream",
     "text": [
      "Train metrics :\n",
      "\n",
      "Train Accuracy score :  0.9136276391554703\n",
      "\n",
      "Train Conf. Matrix :\n",
      "\n",
      " [[119  44]\n",
      " [  1 357]]\n",
      "\n",
      "Train Class. Report :\n",
      "\n",
      "               precision    recall  f1-score   support\n",
      "\n",
      "           0       0.99      0.73      0.84       163\n",
      "           1       0.89      1.00      0.94       358\n",
      "\n",
      "    accuracy                           0.91       521\n",
      "   macro avg       0.94      0.86      0.89       521\n",
      "weighted avg       0.92      0.91      0.91       521\n",
      "\n",
      "-------------------------------------------------------------------------------- \n",
      "\n",
      "Test Metrics :\n",
      "\n",
      "\n",
      "Test accuracy score :  0.7849462365591398\n",
      "roc auc score : 0.8189655172413793\n",
      "\n",
      "Test conf. matrix :\n",
      "\n",
      " [[15 14]\n",
      " [ 6 58]]\n",
      "\n",
      "Test Class. Report :\n",
      "\n",
      "               precision    recall  f1-score   support\n",
      "\n",
      "           0       0.71      0.52      0.60        29\n",
      "           1       0.81      0.91      0.85        64\n",
      "\n",
      "    accuracy                           0.78        93\n",
      "   macro avg       0.76      0.71      0.73        93\n",
      "weighted avg       0.78      0.78      0.77        93\n",
      "\n"
     ]
    },
    {
     "data": {
      "image/png": "[encoded data removed]",
      "text/plain": [
       "<Figure size 432x288 with 1 Axes>"
      ]
     },
     "metadata": {
      "needs_background": "light"
     },
     "output_type": "display_data"
    }
   ],
   "source": [
    "## train scores\n",
    "cat.fit(xtrain,ytrain)\n",
    "cat_train_pred = cat.predict(xtrain)\n",
    "cat_train_acc = accuracy_score(ytrain,cat_train_pred)\n",
    "cat_train_cm = confusion_matrix(ytrain,cat_train_pred)\n",
    "cat_train_cr = classification_report(ytrain,cat_train_pred)\n",
    "print('Train metrics :\\n')\n",
    "print('Train Accuracy score : ',cat_train_acc)\n",
    "print('\\nTrain Conf. Matrix :\\n\\n',cat_train_cm)\n",
    "print('\\nTrain Class. Report :\\n\\n',cat_train_cr)\n",
    "##test scores\n",
    "cat_test_pred = cat.predict(xtest)\n",
    "cat_test_pp = cat.predict_proba(xtest)\n",
    "cat_test_pp = cat_test_pp[:,1]\n",
    "##plotting ROC_CURVE\n",
    "fpr,tpr,thresh = roc_curve(ytest,cat_test_pp)\n",
    "plt.plot(fpr,tpr,marker='.')\n",
    "plt.plot([0,1],[0,1],linestyle='--',color='r',marker='.')\n",
    "plt.grid()\n",
    "plt.xlabel('False positive Rate')\n",
    "plt.ylabel('True positive Rate')\n",
    "plt.title('ROC AUC Curve')\n",
    "cat_test_acc = accuracy_score(ytest,cat_test_pred)\n",
    "cat_test_cm = confusion_matrix(ytest,cat_test_pred)\n",
    "cat_test_cr = classification_report(ytest,cat_test_pred)\n",
    "cat_test_rocauc = roc_auc_score(ytest,cat_test_pp)\n",
    "print('--'*40,'\\n')\n",
    "print('Test Metrics :\\n\\n')\n",
    "print('Test accuracy score : ',cat_test_acc)\n",
    "print('roc auc score :',cat_test_rocauc)\n",
    "print('\\nTest conf. matrix :\\n\\n',cat_test_cm)\n",
    "print('\\nTest Class. Report :\\n\\n',cat_test_cr)"
   ]
  },
  {
   "cell_type": "code",
   "execution_count": 397,
   "id": "02cef014",
   "metadata": {},
   "outputs": [
    {
     "name": "stdout",
     "output_type": "stream",
     "text": [
      "Train metrics :\n",
      "\n",
      "Train Accuracy score :  0.9980806142034548\n",
      "\n",
      "Train Conf. Matrix :\n",
      "\n",
      " [[162   1]\n",
      " [  0 358]]\n",
      "\n",
      "Train Class. Report :\n",
      "\n",
      "               precision    recall  f1-score   support\n",
      "\n",
      "           0       1.00      0.99      1.00       163\n",
      "           1       1.00      1.00      1.00       358\n",
      "\n",
      "    accuracy                           1.00       521\n",
      "   macro avg       1.00      1.00      1.00       521\n",
      "weighted avg       1.00      1.00      1.00       521\n",
      "\n",
      "-------------------------------------------------------------------------------- \n",
      "\n",
      "Test Metrics :\n",
      "\n",
      "\n",
      "Test accuracy score :  0.7634408602150538\n",
      "roc auc score : 0.8001077586206896\n",
      "\n",
      "Test conf. matrix :\n",
      "\n",
      " [[16 13]\n",
      " [ 9 55]]\n",
      "\n",
      "Test Class. Report :\n",
      "\n",
      "               precision    recall  f1-score   support\n",
      "\n",
      "           0       0.64      0.55      0.59        29\n",
      "           1       0.81      0.86      0.83        64\n",
      "\n",
      "    accuracy                           0.76        93\n",
      "   macro avg       0.72      0.71      0.71        93\n",
      "weighted avg       0.76      0.76      0.76        93\n",
      "\n"
     ]
    },
    {
     "data": {
      "image/png": "[encoded data removed]",
      "text/plain": [
       "<Figure size 432x288 with 1 Axes>"
      ]
     },
     "metadata": {
      "needs_background": "light"
     },
     "output_type": "display_data"
    }
   ],
   "source": [
    "## train scores\n",
    "lgb.fit(xtrain,ytrain)\n",
    "lgb_train_pred = lgb.predict(xtrain)\n",
    "lgb_train_acc = accuracy_score(ytrain,lgb_train_pred)\n",
    "lgb_train_cm = confusion_matrix(ytrain,lgb_train_pred)\n",
    "lgb_train_cr = classification_report(ytrain,lgb_train_pred)\n",
    "print('Train metrics :\\n')\n",
    "print('Train Accuracy score : ',lgb_train_acc)\n",
    "print('\\nTrain Conf. Matrix :\\n\\n',lgb_train_cm)\n",
    "print('\\nTrain Class. Report :\\n\\n',lgb_train_cr)\n",
    "##test scores\n",
    "lgb_test_pred = lgb.predict(xtest)\n",
    "lgb_test_pp = lgb.predict_proba(xtest)\n",
    "lgb_test_pp = lgb_test_pp[:,1]\n",
    "##plotting ROC_CURVE\n",
    "fpr,tpr,thresh = roc_curve(ytest,lgb_test_pp)\n",
    "plt.plot(fpr,tpr,marker='.')\n",
    "plt.plot([0,1],[0,1],linestyle='--',color='r',marker='.')\n",
    "plt.grid()\n",
    "plt.xlabel('False positive Rate')\n",
    "plt.ylabel('True positive Rate')\n",
    "plt.title('ROC AUC Curve')\n",
    "lgb_test_acc = accuracy_score(ytest,lgb_test_pred)\n",
    "lgb_test_cm = confusion_matrix(ytest,lgb_test_pred)\n",
    "lgb_test_cr = classification_report(ytest,lgb_test_pred)\n",
    "lgb_test_rocauc = roc_auc_score(ytest,lgb_test_pp)\n",
    "\n",
    "print('--'*40,'\\n')\n",
    "print('Test Metrics :\\n\\n')\n",
    "print('Test accuracy score : ',lgb_test_acc)\n",
    "print('roc auc score :',lgb_test_rocauc)\n",
    "print('\\nTest conf. matrix :\\n\\n',lgb_test_cm)\n",
    "print('\\nTest Class. Report :\\n\\n',lgb_test_cr)"
   ]
  },
  {
   "cell_type": "code",
   "execution_count": null,
   "id": "3f68f424",
   "metadata": {},
   "outputs": [],
   "source": []
  },
  {
   "cell_type": "code",
   "execution_count": 398,
   "id": "a8a9c5e5",
   "metadata": {},
   "outputs": [],
   "source": [
    "lr_test_pp = lr_test_pp.tolist()\n",
    "kn_test_pp = kn_test_pp.tolist()\n",
    "dt_test_pp = dt_test_pp.tolist()\n",
    "rf_test_pp = rf_test_pp.tolist()\n",
    "xgb_test_pp = xgb_test_pp.tolist()\n",
    "xgbrf_test_pp = xgbrf_test_pp.tolist()\n",
    "cat_test_pp = cat_test_pp.tolist()\n",
    "lgb_test_pp = lgb_test_pp.tolist()"
   ]
  },
  {
   "cell_type": "code",
   "execution_count": 399,
   "id": "f91f2753",
   "metadata": {},
   "outputs": [],
   "source": [
    "mean_proba = pd.DataFrame({'LR':lr_test_pp,'DT':dt_test_pp,'RF':rf_test_pp,'XGB':xgb_test_pp,\n",
    "            'XGBRF':xgbrf_test_pp,'CAT':cat_test_pp,'LGB':lgb_test_pp})"
   ]
  },
  {
   "cell_type": "code",
   "execution_count": 400,
   "id": "e9bcd151",
   "metadata": {},
   "outputs": [],
   "source": [
    "mean_probas = []\n",
    "for i in mean_proba.index:\n",
    "    mean_probas.append(mean_proba.iloc[i].mean())\n",
    "    "
   ]
  },
  {
   "cell_type": "code",
   "execution_count": 401,
   "id": "98e68ba1",
   "metadata": {},
   "outputs": [],
   "source": [
    "mean_proba['mean_probas'] = lr_test_pp"
   ]
  },
  {
   "cell_type": "code",
   "execution_count": 402,
   "id": "f6c901dc",
   "metadata": {},
   "outputs": [],
   "source": [
    "# mean_proba['mean_probas'] = mean_probas"
   ]
  },
  {
   "cell_type": "code",
   "execution_count": 403,
   "id": "798641c0",
   "metadata": {},
   "outputs": [
    {
     "data": {
      "text/html": [
       "<div>\n",
       "<style scoped>\n",
       "    .dataframe tbody tr th:only-of-type {\n",
       "        vertical-align: middle;\n",
       "    }\n",
       "\n",
       "    .dataframe tbody tr th {\n",
       "        vertical-align: top;\n",
       "    }\n",
       "\n",
       "    .dataframe thead th {\n",
       "        text-align: right;\n",
       "    }\n",
       "</style>\n",
       "<table border=\"1\" class=\"dataframe\">\n",
       "  <thead>\n",
       "    <tr style=\"text-align: right;\">\n",
       "      <th></th>\n",
       "      <th>LR</th>\n",
       "      <th>DT</th>\n",
       "      <th>RF</th>\n",
       "      <th>XGB</th>\n",
       "      <th>XGBRF</th>\n",
       "      <th>CAT</th>\n",
       "      <th>LGB</th>\n",
       "      <th>mean_probas</th>\n",
       "    </tr>\n",
       "  </thead>\n",
       "  <tbody>\n",
       "    <tr>\n",
       "      <th>0</th>\n",
       "      <td>0.813355</td>\n",
       "      <td>0.0</td>\n",
       "      <td>0.66</td>\n",
       "      <td>0.418083</td>\n",
       "      <td>0.760241</td>\n",
       "      <td>0.751815</td>\n",
       "      <td>0.466606</td>\n",
       "      <td>0.813355</td>\n",
       "    </tr>\n",
       "    <tr>\n",
       "      <th>1</th>\n",
       "      <td>0.931248</td>\n",
       "      <td>1.0</td>\n",
       "      <td>0.85</td>\n",
       "      <td>0.950237</td>\n",
       "      <td>0.833991</td>\n",
       "      <td>0.926599</td>\n",
       "      <td>0.943634</td>\n",
       "      <td>0.931248</td>\n",
       "    </tr>\n",
       "    <tr>\n",
       "      <th>2</th>\n",
       "      <td>0.522821</td>\n",
       "      <td>1.0</td>\n",
       "      <td>0.42</td>\n",
       "      <td>0.107702</td>\n",
       "      <td>0.697092</td>\n",
       "      <td>0.530976</td>\n",
       "      <td>0.496707</td>\n",
       "      <td>0.522821</td>\n",
       "    </tr>\n",
       "    <tr>\n",
       "      <th>3</th>\n",
       "      <td>0.719706</td>\n",
       "      <td>1.0</td>\n",
       "      <td>0.94</td>\n",
       "      <td>0.912326</td>\n",
       "      <td>0.778242</td>\n",
       "      <td>0.858883</td>\n",
       "      <td>0.967863</td>\n",
       "      <td>0.719706</td>\n",
       "    </tr>\n",
       "    <tr>\n",
       "      <th>4</th>\n",
       "      <td>0.343192</td>\n",
       "      <td>0.0</td>\n",
       "      <td>0.19</td>\n",
       "      <td>0.013161</td>\n",
       "      <td>0.156718</td>\n",
       "      <td>0.096639</td>\n",
       "      <td>0.081621</td>\n",
       "      <td>0.343192</td>\n",
       "    </tr>\n",
       "  </tbody>\n",
       "</table>\n",
       "</div>"
      ],
      "text/plain": [
       "         LR   DT    RF       XGB     XGBRF       CAT       LGB  mean_probas\n",
       "0  0.813355  0.0  0.66  0.418083  0.760241  0.751815  0.466606     0.813355\n",
       "1  0.931248  1.0  0.85  0.950237  0.833991  0.926599  0.943634     0.931248\n",
       "2  0.522821  1.0  0.42  0.107702  0.697092  0.530976  0.496707     0.522821\n",
       "3  0.719706  1.0  0.94  0.912326  0.778242  0.858883  0.967863     0.719706\n",
       "4  0.343192  0.0  0.19  0.013161  0.156718  0.096639  0.081621     0.343192"
      ]
     },
     "execution_count": 403,
     "metadata": {},
     "output_type": "execute_result"
    }
   ],
   "source": [
    "mean_proba.head()"
   ]
  },
  {
   "cell_type": "code",
   "execution_count": 404,
   "id": "10cf4d8d",
   "metadata": {},
   "outputs": [],
   "source": [
    "fpr,tpr,thresh = roc_curve(ytest,mean_proba['mean_probas'])"
   ]
  },
  {
   "cell_type": "code",
   "execution_count": 405,
   "id": "e0f89aac",
   "metadata": {},
   "outputs": [],
   "source": [
    "# acc=[]\n",
    "# for i in thresh:\n",
    "#     ypred = np.where(mean_probas>i,1,0)\n",
    "#     acc.append(accuracy_score(ytest,ypred))\n",
    "    \n",
    "# decider = pd.concat([pd.Series(thresh),pd.Series(acc)],axis=1)\n",
    "# decider.rename(columns = {0: 'Threshold', 1: 'Accuracies'}, inplace = True)\n",
    "# decider.sort_values('Accuracies',ascending=False)"
   ]
  },
  {
   "cell_type": "code",
   "execution_count": 492,
   "id": "2f6357fb",
   "metadata": {},
   "outputs": [
    {
     "data": {
      "image/png": "[encoded data removed]",
      "text/plain": [
       "<Figure size 432x288 with 1 Axes>"
      ]
     },
     "metadata": {
      "needs_background": "light"
     },
     "output_type": "display_data"
    }
   ],
   "source": [
    "plt.plot(fpr,tpr,marker='.')\n",
    "plt.plot([0,1],linestyle='-.')\n",
    "plt.grid()"
   ]
  },
  {
   "cell_type": "code",
   "execution_count": 494,
   "id": "9defeb81",
   "metadata": {},
   "outputs": [
    {
     "data": {
      "text/plain": [
       "0.7319487197497754"
      ]
     },
     "execution_count": 494,
     "metadata": {},
     "output_type": "execute_result"
    }
   ],
   "source": [
    "thresh[17]"
   ]
  },
  {
   "cell_type": "code",
   "execution_count": 410,
   "id": "422b69e3",
   "metadata": {},
   "outputs": [
    {
     "data": {
      "text/plain": [
       "array([1.93318235, 0.93318235, 0.92123694, 0.92032535, 0.89131007,\n",
       "       0.89043614, 0.8592076 , 0.85526999, 0.84331649, 0.83934681,\n",
       "       0.80859136, 0.80836386, 0.80092603, 0.80038444, 0.75763534,\n",
       "       0.75674466, 0.73805284, 0.73194872, 0.70123421, 0.6956131 ,\n",
       "       0.69261241, 0.68608253, 0.66999042, 0.61871648, 0.52282126,\n",
       "       0.34319233, 0.30591894, 0.24689885, 0.24199992, 0.07828039])"
      ]
     },
     "execution_count": 410,
     "metadata": {},
     "output_type": "execute_result"
    }
   ],
   "source": [
    "thresh"
   ]
  },
  {
   "cell_type": "code",
   "execution_count": 411,
   "id": "6cd57201",
   "metadata": {},
   "outputs": [],
   "source": [
    "f = []\n",
    "for i in mean_proba.mean_probas:\n",
    "#     print(i)\n",
    "    if i > thresh[17]:\n",
    "        f.append(1)\n",
    "    else:\n",
    "        f.append(0)"
   ]
  },
  {
   "cell_type": "code",
   "execution_count": 412,
   "id": "95bc99b8",
   "metadata": {},
   "outputs": [
    {
     "data": {
      "text/plain": [
       "0.7204301075268817"
      ]
     },
     "execution_count": 412,
     "metadata": {},
     "output_type": "execute_result"
    }
   ],
   "source": [
    "accuracy_score(ytest,f)"
   ]
  },
  {
   "cell_type": "code",
   "execution_count": 413,
   "id": "e28782ad",
   "metadata": {},
   "outputs": [
    {
     "name": "stdout",
     "output_type": "stream",
     "text": [
      "[[21  8]\n",
      " [18 46]]\n",
      "              precision    recall  f1-score   support\n",
      "\n",
      "           0       0.54      0.72      0.62        29\n",
      "           1       0.85      0.72      0.78        64\n",
      "\n",
      "    accuracy                           0.72        93\n",
      "   macro avg       0.70      0.72      0.70        93\n",
      "weighted avg       0.75      0.72      0.73        93\n",
      "\n"
     ]
    },
    {
     "data": {
      "image/png": "[encoded data removed]",
      "text/plain": [
       "<Figure size 432x288 with 2 Axes>"
      ]
     },
     "metadata": {
      "needs_background": "light"
     },
     "output_type": "display_data"
    }
   ],
   "source": [
    "print(confusion_matrix(ytest,f))\n",
    "sns.heatmap(confusion_matrix(ytest,f).transpose(),annot=True)\n",
    "print(classification_report(ytest,f))"
   ]
  },
  {
   "cell_type": "code",
   "execution_count": null,
   "id": "1b439199",
   "metadata": {},
   "outputs": [],
   "source": []
  },
  {
   "cell_type": "code",
   "execution_count": 414,
   "id": "257a3049",
   "metadata": {},
   "outputs": [
    {
     "name": "stdout",
     "output_type": "stream",
     "text": [
      "[1, 1, 0, 0, 0, 1, 0, 0, 0, 1, 0, 1, 0, 1, 0, 1, 0, 0, 1, 1, 1, 0, 0, 1, 0, 0, 1, 1, 1, 1, 1, 1, 1, 0, 0, 0, 1, 1, 1, 0, 0, 0, 0, 1, 1, 1, 1, 1, 1, 1, 0, 1, 1, 1, 1, 0, 1, 0, 1, 1, 0, 1, 1, 1, 1, 1, 0, 0, 0, 0, 1, 0, 1, 1, 0, 1, 1, 0, 1, 1, 0, 0, 0, 1, 1, 0, 1, 1, 0, 1, 0, 1, 1]\n"
     ]
    }
   ],
   "source": [
    "print(f)"
   ]
  },
  {
   "cell_type": "code",
   "execution_count": 415,
   "id": "c748bf08",
   "metadata": {},
   "outputs": [
    {
     "name": "stdout",
     "output_type": "stream",
     "text": [
      "[1, 1, 1, 1, 0, 1, 0, 0, 0, 0, 0, 1, 1, 1, 0, 1, 0, 0, 1, 1, 1, 1, 0, 1, 0, 1, 1, 1, 1, 0, 1, 1, 1, 0, 0, 1, 1, 1, 1, 1, 0, 0, 0, 0, 0, 1, 0, 1, 1, 1, 1, 1, 1, 1, 1, 0, 0, 0, 1, 0, 1, 1, 1, 1, 1, 1, 1, 1, 1, 0, 1, 0, 1, 1, 1, 1, 0, 1, 1, 1, 0, 1, 1, 1, 1, 1, 1, 1, 1, 1, 0, 1, 1]\n"
     ]
    }
   ],
   "source": [
    "print(ytest.tolist())"
   ]
  },
  {
   "cell_type": "code",
   "execution_count": 416,
   "id": "f89480cb",
   "metadata": {},
   "outputs": [
    {
     "data": {
      "text/plain": [
       "1    54\n",
       "0    39\n",
       "Name: 0, dtype: int64"
      ]
     },
     "execution_count": 416,
     "metadata": {},
     "output_type": "execute_result"
    }
   ],
   "source": [
    "pd.DataFrame(f)[0].value_counts()"
   ]
  },
  {
   "cell_type": "code",
   "execution_count": 417,
   "id": "23322aed",
   "metadata": {},
   "outputs": [
    {
     "data": {
      "text/plain": [
       "Loan_Status\n",
       "1              64\n",
       "0              29\n",
       "dtype: int64"
      ]
     },
     "execution_count": 417,
     "metadata": {},
     "output_type": "execute_result"
    }
   ],
   "source": [
    "pd.DataFrame(ytest).value_counts()"
   ]
  },
  {
   "cell_type": "code",
   "execution_count": null,
   "id": "75361415",
   "metadata": {},
   "outputs": [],
   "source": []
  },
  {
   "cell_type": "markdown",
   "id": "3b3be63c",
   "metadata": {},
   "source": [
    "### Test data"
   ]
  },
  {
   "cell_type": "code",
   "execution_count": 447,
   "id": "b6ef583b",
   "metadata": {},
   "outputs": [
    {
     "data": {
      "text/html": [
       "<div>\n",
       "<style scoped>\n",
       "    .dataframe tbody tr th:only-of-type {\n",
       "        vertical-align: middle;\n",
       "    }\n",
       "\n",
       "    .dataframe tbody tr th {\n",
       "        vertical-align: top;\n",
       "    }\n",
       "\n",
       "    .dataframe thead th {\n",
       "        text-align: right;\n",
       "    }\n",
       "</style>\n",
       "<table border=\"1\" class=\"dataframe\">\n",
       "  <thead>\n",
       "    <tr style=\"text-align: right;\">\n",
       "      <th></th>\n",
       "      <th>Loan_ID</th>\n",
       "      <th>Gender</th>\n",
       "      <th>Married</th>\n",
       "      <th>Dependents</th>\n",
       "      <th>Education</th>\n",
       "      <th>Self_Employed</th>\n",
       "      <th>ApplicantIncome</th>\n",
       "      <th>CoapplicantIncome</th>\n",
       "      <th>LoanAmount</th>\n",
       "      <th>Loan_Amount_Term</th>\n",
       "      <th>Credit_History</th>\n",
       "      <th>Property_Area</th>\n",
       "    </tr>\n",
       "  </thead>\n",
       "  <tbody>\n",
       "    <tr>\n",
       "      <th>367</th>\n",
       "      <td>LP002188</td>\n",
       "      <td>Male</td>\n",
       "      <td>No</td>\n",
       "      <td>0</td>\n",
       "      <td>Graduate</td>\n",
       "      <td>No</td>\n",
       "      <td>5124</td>\n",
       "      <td>0.0</td>\n",
       "      <td>124.0</td>\n",
       "      <td>360.0</td>\n",
       "      <td>0.0</td>\n",
       "      <td>Rural</td>\n",
       "    </tr>\n",
       "    <tr>\n",
       "      <th>368</th>\n",
       "      <td>LP002190</td>\n",
       "      <td>Male</td>\n",
       "      <td>Yes</td>\n",
       "      <td>1</td>\n",
       "      <td>Graduate</td>\n",
       "      <td>No</td>\n",
       "      <td>6325</td>\n",
       "      <td>0.0</td>\n",
       "      <td>175.0</td>\n",
       "      <td>360.0</td>\n",
       "      <td>1.0</td>\n",
       "      <td>Semiurban</td>\n",
       "    </tr>\n",
       "    <tr>\n",
       "      <th>369</th>\n",
       "      <td>LP002191</td>\n",
       "      <td>Male</td>\n",
       "      <td>Yes</td>\n",
       "      <td>0</td>\n",
       "      <td>Graduate</td>\n",
       "      <td>No</td>\n",
       "      <td>19730</td>\n",
       "      <td>5266.0</td>\n",
       "      <td>570.0</td>\n",
       "      <td>360.0</td>\n",
       "      <td>1.0</td>\n",
       "      <td>Rural</td>\n",
       "    </tr>\n",
       "    <tr>\n",
       "      <th>370</th>\n",
       "      <td>LP002194</td>\n",
       "      <td>Female</td>\n",
       "      <td>No</td>\n",
       "      <td>0</td>\n",
       "      <td>Graduate</td>\n",
       "      <td>Yes</td>\n",
       "      <td>15759</td>\n",
       "      <td>0.0</td>\n",
       "      <td>55.0</td>\n",
       "      <td>360.0</td>\n",
       "      <td>1.0</td>\n",
       "      <td>Semiurban</td>\n",
       "    </tr>\n",
       "    <tr>\n",
       "      <th>371</th>\n",
       "      <td>LP002197</td>\n",
       "      <td>Male</td>\n",
       "      <td>Yes</td>\n",
       "      <td>2</td>\n",
       "      <td>Graduate</td>\n",
       "      <td>No</td>\n",
       "      <td>5185</td>\n",
       "      <td>0.0</td>\n",
       "      <td>155.0</td>\n",
       "      <td>360.0</td>\n",
       "      <td>1.0</td>\n",
       "      <td>Semiurban</td>\n",
       "    </tr>\n",
       "  </tbody>\n",
       "</table>\n",
       "</div>"
      ],
      "text/plain": [
       "      Loan_ID  Gender Married Dependents Education Self_Employed  \\\n",
       "367  LP002188    Male      No          0  Graduate            No   \n",
       "368  LP002190    Male     Yes          1  Graduate            No   \n",
       "369  LP002191    Male     Yes          0  Graduate            No   \n",
       "370  LP002194  Female      No          0  Graduate           Yes   \n",
       "371  LP002197    Male     Yes          2  Graduate            No   \n",
       "\n",
       "     ApplicantIncome  CoapplicantIncome  LoanAmount  Loan_Amount_Term  \\\n",
       "367             5124                0.0       124.0             360.0   \n",
       "368             6325                0.0       175.0             360.0   \n",
       "369            19730             5266.0       570.0             360.0   \n",
       "370            15759                0.0        55.0             360.0   \n",
       "371             5185                0.0       155.0             360.0   \n",
       "\n",
       "     Credit_History Property_Area  \n",
       "367             0.0         Rural  \n",
       "368             1.0     Semiurban  \n",
       "369             1.0         Rural  \n",
       "370             1.0     Semiurban  \n",
       "371             1.0     Semiurban  "
      ]
     },
     "execution_count": 447,
     "metadata": {},
     "output_type": "execute_result"
    }
   ],
   "source": [
    "test.head()"
   ]
  },
  {
   "cell_type": "code",
   "execution_count": 448,
   "id": "841b1a15",
   "metadata": {},
   "outputs": [
    {
     "name": "stdout",
     "output_type": "stream",
     "text": [
      "<class 'pandas.core.frame.DataFrame'>\n",
      "Int64Index: 614 entries, 367 to 366\n",
      "Data columns (total 12 columns):\n",
      " #   Column             Non-Null Count  Dtype  \n",
      "---  ------             --------------  -----  \n",
      " 0   Loan_ID            614 non-null    object \n",
      " 1   Gender             614 non-null    object \n",
      " 2   Married            614 non-null    object \n",
      " 3   Dependents         614 non-null    object \n",
      " 4   Education          614 non-null    object \n",
      " 5   Self_Employed      614 non-null    object \n",
      " 6   ApplicantIncome    614 non-null    int64  \n",
      " 7   CoapplicantIncome  614 non-null    float64\n",
      " 8   LoanAmount         614 non-null    float64\n",
      " 9   Loan_Amount_Term   614 non-null    float64\n",
      " 10  Credit_History     614 non-null    float64\n",
      " 11  Property_Area      614 non-null    object \n",
      "dtypes: float64(4), int64(1), object(7)\n",
      "memory usage: 62.4+ KB\n"
     ]
    }
   ],
   "source": [
    "test.info()"
   ]
  },
  {
   "cell_type": "markdown",
   "id": "9663cee4",
   "metadata": {},
   "source": [
    "### Imputing null"
   ]
  },
  {
   "cell_type": "code",
   "execution_count": 449,
   "id": "12a708ad",
   "metadata": {},
   "outputs": [
    {
     "data": {
      "text/plain": [
       "Loan_ID              0\n",
       "Gender               0\n",
       "Married              0\n",
       "Dependents           0\n",
       "Education            0\n",
       "Self_Employed        0\n",
       "ApplicantIncome      0\n",
       "CoapplicantIncome    0\n",
       "LoanAmount           0\n",
       "Loan_Amount_Term     0\n",
       "Credit_History       0\n",
       "Property_Area        0\n",
       "dtype: int64"
      ]
     },
     "execution_count": 449,
     "metadata": {},
     "output_type": "execute_result"
    }
   ],
   "source": [
    "test.isnull().sum()"
   ]
  },
  {
   "cell_type": "code",
   "execution_count": 456,
   "id": "aa1461cb",
   "metadata": {},
   "outputs": [
    {
     "data": {
      "text/html": [
       "<div>\n",
       "<style scoped>\n",
       "    .dataframe tbody tr th:only-of-type {\n",
       "        vertical-align: middle;\n",
       "    }\n",
       "\n",
       "    .dataframe tbody tr th {\n",
       "        vertical-align: top;\n",
       "    }\n",
       "\n",
       "    .dataframe thead th {\n",
       "        text-align: right;\n",
       "    }\n",
       "</style>\n",
       "<table border=\"1\" class=\"dataframe\">\n",
       "  <thead>\n",
       "    <tr style=\"text-align: right;\">\n",
       "      <th></th>\n",
       "      <th>Gender</th>\n",
       "      <th>Married</th>\n",
       "      <th>Dependents</th>\n",
       "      <th>Education</th>\n",
       "      <th>Self_Employed</th>\n",
       "      <th>ApplicantIncome</th>\n",
       "      <th>CoapplicantIncome</th>\n",
       "      <th>LoanAmount</th>\n",
       "      <th>Loan_Amount_Term</th>\n",
       "      <th>Credit_History</th>\n",
       "      <th>Property_Area</th>\n",
       "      <th>Total_family_income</th>\n",
       "      <th>Total_family_income_Category</th>\n",
       "    </tr>\n",
       "  </thead>\n",
       "  <tbody>\n",
       "    <tr>\n",
       "      <th>367</th>\n",
       "      <td>Male</td>\n",
       "      <td>No</td>\n",
       "      <td>0</td>\n",
       "      <td>Graduate</td>\n",
       "      <td>No</td>\n",
       "      <td>5124</td>\n",
       "      <td>0.0</td>\n",
       "      <td>124.0</td>\n",
       "      <td>360.0</td>\n",
       "      <td>0.0</td>\n",
       "      <td>Rural</td>\n",
       "      <td>5124.0</td>\n",
       "      <td>Poor</td>\n",
       "    </tr>\n",
       "    <tr>\n",
       "      <th>368</th>\n",
       "      <td>Male</td>\n",
       "      <td>Yes</td>\n",
       "      <td>1</td>\n",
       "      <td>Graduate</td>\n",
       "      <td>No</td>\n",
       "      <td>6325</td>\n",
       "      <td>0.0</td>\n",
       "      <td>175.0</td>\n",
       "      <td>360.0</td>\n",
       "      <td>1.0</td>\n",
       "      <td>Semiurban</td>\n",
       "      <td>6325.0</td>\n",
       "      <td>MiddleClass</td>\n",
       "    </tr>\n",
       "    <tr>\n",
       "      <th>369</th>\n",
       "      <td>Male</td>\n",
       "      <td>Yes</td>\n",
       "      <td>0</td>\n",
       "      <td>Graduate</td>\n",
       "      <td>No</td>\n",
       "      <td>19730</td>\n",
       "      <td>5266.0</td>\n",
       "      <td>570.0</td>\n",
       "      <td>360.0</td>\n",
       "      <td>1.0</td>\n",
       "      <td>Rural</td>\n",
       "      <td>24996.0</td>\n",
       "      <td>Rich</td>\n",
       "    </tr>\n",
       "    <tr>\n",
       "      <th>370</th>\n",
       "      <td>Female</td>\n",
       "      <td>No</td>\n",
       "      <td>0</td>\n",
       "      <td>Graduate</td>\n",
       "      <td>Yes</td>\n",
       "      <td>15759</td>\n",
       "      <td>0.0</td>\n",
       "      <td>55.0</td>\n",
       "      <td>360.0</td>\n",
       "      <td>1.0</td>\n",
       "      <td>Semiurban</td>\n",
       "      <td>15759.0</td>\n",
       "      <td>Rich</td>\n",
       "    </tr>\n",
       "    <tr>\n",
       "      <th>371</th>\n",
       "      <td>Male</td>\n",
       "      <td>Yes</td>\n",
       "      <td>2</td>\n",
       "      <td>Graduate</td>\n",
       "      <td>No</td>\n",
       "      <td>5185</td>\n",
       "      <td>0.0</td>\n",
       "      <td>155.0</td>\n",
       "      <td>360.0</td>\n",
       "      <td>1.0</td>\n",
       "      <td>Semiurban</td>\n",
       "      <td>5185.0</td>\n",
       "      <td>Poor</td>\n",
       "    </tr>\n",
       "  </tbody>\n",
       "</table>\n",
       "</div>"
      ],
      "text/plain": [
       "     Gender Married Dependents Education Self_Employed  ApplicantIncome  \\\n",
       "367    Male      No          0  Graduate            No             5124   \n",
       "368    Male     Yes          1  Graduate            No             6325   \n",
       "369    Male     Yes          0  Graduate            No            19730   \n",
       "370  Female      No          0  Graduate           Yes            15759   \n",
       "371    Male     Yes          2  Graduate            No             5185   \n",
       "\n",
       "     CoapplicantIncome  LoanAmount  Loan_Amount_Term  Credit_History  \\\n",
       "367                0.0       124.0             360.0             0.0   \n",
       "368                0.0       175.0             360.0             1.0   \n",
       "369             5266.0       570.0             360.0             1.0   \n",
       "370                0.0        55.0             360.0             1.0   \n",
       "371                0.0       155.0             360.0             1.0   \n",
       "\n",
       "    Property_Area  Total_family_income Total_family_income_Category  \n",
       "367         Rural               5124.0                         Poor  \n",
       "368     Semiurban               6325.0                  MiddleClass  \n",
       "369         Rural              24996.0                         Rich  \n",
       "370     Semiurban              15759.0                         Rich  \n",
       "371     Semiurban               5185.0                         Poor  "
      ]
     },
     "execution_count": 456,
     "metadata": {},
     "output_type": "execute_result"
    }
   ],
   "source": [
    "test.head()"
   ]
  },
  {
   "cell_type": "code",
   "execution_count": 451,
   "id": "61058005",
   "metadata": {},
   "outputs": [],
   "source": [
    "ids = test['Loan_ID']"
   ]
  },
  {
   "cell_type": "code",
   "execution_count": 452,
   "id": "54d09328",
   "metadata": {},
   "outputs": [],
   "source": [
    "test.drop('Loan_ID',axis=1,inplace=True)"
   ]
  },
  {
   "cell_type": "code",
   "execution_count": 453,
   "id": "9d434aba",
   "metadata": {},
   "outputs": [],
   "source": [
    "test['Total_family_income'] = test['ApplicantIncome']+test['CoapplicantIncome']"
   ]
  },
  {
   "cell_type": "code",
   "execution_count": null,
   "id": "d6e3bd87",
   "metadata": {},
   "outputs": [],
   "source": []
  },
  {
   "cell_type": "code",
   "execution_count": 454,
   "id": "92490518",
   "metadata": {},
   "outputs": [],
   "source": [
    "fi = []\n",
    "for i in test['Total_family_income']:\n",
    "    if i < 5416:\n",
    "        fi.append('Poor')\n",
    "    elif 5416<=i<7024:\n",
    "        fi.append('MiddleClass')\n",
    "    elif i >= 7024:\n",
    "        fi.append('Rich')"
   ]
  },
  {
   "cell_type": "code",
   "execution_count": 455,
   "id": "61015e18",
   "metadata": {},
   "outputs": [],
   "source": [
    "test['Total_family_income_Category'] = fi"
   ]
  },
  {
   "cell_type": "code",
   "execution_count": null,
   "id": "7db7f28e",
   "metadata": {},
   "outputs": [],
   "source": []
  },
  {
   "cell_type": "code",
   "execution_count": 457,
   "id": "af55ac16",
   "metadata": {},
   "outputs": [
    {
     "data": {
      "text/plain": [
       "Poor           323\n",
       "Rich           163\n",
       "MiddleClass    128\n",
       "Name: Total_family_income_Category, dtype: int64"
      ]
     },
     "execution_count": 457,
     "metadata": {},
     "output_type": "execute_result"
    }
   ],
   "source": [
    "test['Total_family_income_Category'].value_counts()"
   ]
  },
  {
   "cell_type": "markdown",
   "id": "49c2c752",
   "metadata": {},
   "source": [
    "### Preprocessing data"
   ]
  },
  {
   "cell_type": "code",
   "execution_count": 458,
   "id": "8fd2d068",
   "metadata": {},
   "outputs": [],
   "source": [
    "test['Dependents'] = test.Dependents.astype(str)"
   ]
  },
  {
   "cell_type": "code",
   "execution_count": 459,
   "id": "63394860",
   "metadata": {},
   "outputs": [
    {
     "data": {
      "text/html": [
       "<div>\n",
       "<style scoped>\n",
       "    .dataframe tbody tr th:only-of-type {\n",
       "        vertical-align: middle;\n",
       "    }\n",
       "\n",
       "    .dataframe tbody tr th {\n",
       "        vertical-align: top;\n",
       "    }\n",
       "\n",
       "    .dataframe thead th {\n",
       "        text-align: right;\n",
       "    }\n",
       "</style>\n",
       "<table border=\"1\" class=\"dataframe\">\n",
       "  <thead>\n",
       "    <tr style=\"text-align: right;\">\n",
       "      <th></th>\n",
       "      <th>Gender</th>\n",
       "      <th>Married</th>\n",
       "      <th>Dependents</th>\n",
       "      <th>Education</th>\n",
       "      <th>Self_Employed</th>\n",
       "      <th>ApplicantIncome</th>\n",
       "      <th>CoapplicantIncome</th>\n",
       "      <th>LoanAmount</th>\n",
       "      <th>Loan_Amount_Term</th>\n",
       "      <th>Credit_History</th>\n",
       "      <th>Property_Area</th>\n",
       "      <th>Total_family_income</th>\n",
       "      <th>Total_family_income_Category</th>\n",
       "    </tr>\n",
       "  </thead>\n",
       "  <tbody>\n",
       "    <tr>\n",
       "      <th>367</th>\n",
       "      <td>Male</td>\n",
       "      <td>No</td>\n",
       "      <td>0</td>\n",
       "      <td>Graduate</td>\n",
       "      <td>No</td>\n",
       "      <td>5124</td>\n",
       "      <td>0.0</td>\n",
       "      <td>124.0</td>\n",
       "      <td>360.0</td>\n",
       "      <td>0.0</td>\n",
       "      <td>Rural</td>\n",
       "      <td>5124.0</td>\n",
       "      <td>Poor</td>\n",
       "    </tr>\n",
       "    <tr>\n",
       "      <th>368</th>\n",
       "      <td>Male</td>\n",
       "      <td>Yes</td>\n",
       "      <td>1</td>\n",
       "      <td>Graduate</td>\n",
       "      <td>No</td>\n",
       "      <td>6325</td>\n",
       "      <td>0.0</td>\n",
       "      <td>175.0</td>\n",
       "      <td>360.0</td>\n",
       "      <td>1.0</td>\n",
       "      <td>Semiurban</td>\n",
       "      <td>6325.0</td>\n",
       "      <td>MiddleClass</td>\n",
       "    </tr>\n",
       "    <tr>\n",
       "      <th>369</th>\n",
       "      <td>Male</td>\n",
       "      <td>Yes</td>\n",
       "      <td>0</td>\n",
       "      <td>Graduate</td>\n",
       "      <td>No</td>\n",
       "      <td>19730</td>\n",
       "      <td>5266.0</td>\n",
       "      <td>570.0</td>\n",
       "      <td>360.0</td>\n",
       "      <td>1.0</td>\n",
       "      <td>Rural</td>\n",
       "      <td>24996.0</td>\n",
       "      <td>Rich</td>\n",
       "    </tr>\n",
       "    <tr>\n",
       "      <th>370</th>\n",
       "      <td>Female</td>\n",
       "      <td>No</td>\n",
       "      <td>0</td>\n",
       "      <td>Graduate</td>\n",
       "      <td>Yes</td>\n",
       "      <td>15759</td>\n",
       "      <td>0.0</td>\n",
       "      <td>55.0</td>\n",
       "      <td>360.0</td>\n",
       "      <td>1.0</td>\n",
       "      <td>Semiurban</td>\n",
       "      <td>15759.0</td>\n",
       "      <td>Rich</td>\n",
       "    </tr>\n",
       "    <tr>\n",
       "      <th>371</th>\n",
       "      <td>Male</td>\n",
       "      <td>Yes</td>\n",
       "      <td>2</td>\n",
       "      <td>Graduate</td>\n",
       "      <td>No</td>\n",
       "      <td>5185</td>\n",
       "      <td>0.0</td>\n",
       "      <td>155.0</td>\n",
       "      <td>360.0</td>\n",
       "      <td>1.0</td>\n",
       "      <td>Semiurban</td>\n",
       "      <td>5185.0</td>\n",
       "      <td>Poor</td>\n",
       "    </tr>\n",
       "  </tbody>\n",
       "</table>\n",
       "</div>"
      ],
      "text/plain": [
       "     Gender Married Dependents Education Self_Employed  ApplicantIncome  \\\n",
       "367    Male      No          0  Graduate            No             5124   \n",
       "368    Male     Yes          1  Graduate            No             6325   \n",
       "369    Male     Yes          0  Graduate            No            19730   \n",
       "370  Female      No          0  Graduate           Yes            15759   \n",
       "371    Male     Yes          2  Graduate            No             5185   \n",
       "\n",
       "     CoapplicantIncome  LoanAmount  Loan_Amount_Term  Credit_History  \\\n",
       "367                0.0       124.0             360.0             0.0   \n",
       "368                0.0       175.0             360.0             1.0   \n",
       "369             5266.0       570.0             360.0             1.0   \n",
       "370                0.0        55.0             360.0             1.0   \n",
       "371                0.0       155.0             360.0             1.0   \n",
       "\n",
       "    Property_Area  Total_family_income Total_family_income_Category  \n",
       "367         Rural               5124.0                         Poor  \n",
       "368     Semiurban               6325.0                  MiddleClass  \n",
       "369         Rural              24996.0                         Rich  \n",
       "370     Semiurban              15759.0                         Rich  \n",
       "371     Semiurban               5185.0                         Poor  "
      ]
     },
     "execution_count": 459,
     "metadata": {},
     "output_type": "execute_result"
    }
   ],
   "source": [
    "test.head()"
   ]
  },
  {
   "cell_type": "code",
   "execution_count": 460,
   "id": "ab4afe40",
   "metadata": {},
   "outputs": [],
   "source": [
    "gen = []\n",
    "for i in test.Gender:\n",
    "    if i == 'Male':\n",
    "        gen.append(1)\n",
    "    else:\n",
    "        gen.append(0)\n",
    "test['Gender'] = gen\n",
    "\n",
    "mar = []\n",
    "for i in test.Married:\n",
    "    if i == 'Yes':\n",
    "        mar.append(1)\n",
    "    else:\n",
    "        mar.append(0)\n",
    "test['Married'] = mar\n",
    "\n",
    "edu = []\n",
    "for i in test.Education:\n",
    "    if i == 'Graduate':\n",
    "        edu.append(1)\n",
    "    else:\n",
    "        edu.append(0)\n",
    "test['Education'] = edu\n",
    "\n",
    "se = []\n",
    "for i in test.Self_Employed:\n",
    "    if i == 'Graduate':\n",
    "        se.append(1)\n",
    "    else:\n",
    "        se.append(0)\n",
    "test['Self_Employed'] = se\n",
    "\n",
    "\n",
    "\n",
    "tfi =[]\n",
    "for i in test.Total_family_income_Category:\n",
    "    if i == 'Poor':\n",
    "        tfi.append(1)\n",
    "    elif i == 'Rich':\n",
    "        tfi.append(2)\n",
    "    elif i == 'MiddleClass':\n",
    "        tfi.append(3)\n",
    "test['Total_family_income_Category'] = tfi\n",
    "\n",
    "test.Property_Area.value_counts()\n",
    "\n",
    "pa = []\n",
    "for i in test.Property_Area:\n",
    "    if i == 'Semiurban':\n",
    "        pa.append(1)\n",
    "    elif i == 'Urban':\n",
    "        pa.append(2)\n",
    "    elif i == 'Rural':\n",
    "        pa.append(3)\n",
    "test['Property_Area'] = pa\n",
    "\n",
    "\n",
    "dp = []\n",
    "for i in test.Dependents:\n",
    "    if i == '0':\n",
    "        dp.append(0)\n",
    "    elif i  == '1':\n",
    "        dp.append(1)\n",
    "    elif i == '2':\n",
    "        dp.append(2)\n",
    "    elif i == '3+':\n",
    "        dp.append(3)\n",
    "test['Dependents'] = dp"
   ]
  },
  {
   "cell_type": "code",
   "execution_count": 461,
   "id": "d4712ac9",
   "metadata": {},
   "outputs": [
    {
     "data": {
      "text/html": [
       "<div>\n",
       "<style scoped>\n",
       "    .dataframe tbody tr th:only-of-type {\n",
       "        vertical-align: middle;\n",
       "    }\n",
       "\n",
       "    .dataframe tbody tr th {\n",
       "        vertical-align: top;\n",
       "    }\n",
       "\n",
       "    .dataframe thead th {\n",
       "        text-align: right;\n",
       "    }\n",
       "</style>\n",
       "<table border=\"1\" class=\"dataframe\">\n",
       "  <thead>\n",
       "    <tr style=\"text-align: right;\">\n",
       "      <th></th>\n",
       "      <th>Gender</th>\n",
       "      <th>Married</th>\n",
       "      <th>Dependents</th>\n",
       "      <th>Education</th>\n",
       "      <th>Self_Employed</th>\n",
       "      <th>ApplicantIncome</th>\n",
       "      <th>CoapplicantIncome</th>\n",
       "      <th>LoanAmount</th>\n",
       "      <th>Loan_Amount_Term</th>\n",
       "      <th>Credit_History</th>\n",
       "      <th>Property_Area</th>\n",
       "      <th>Total_family_income</th>\n",
       "      <th>Total_family_income_Category</th>\n",
       "    </tr>\n",
       "  </thead>\n",
       "  <tbody>\n",
       "    <tr>\n",
       "      <th>367</th>\n",
       "      <td>1</td>\n",
       "      <td>0</td>\n",
       "      <td>0</td>\n",
       "      <td>1</td>\n",
       "      <td>0</td>\n",
       "      <td>5124</td>\n",
       "      <td>0.0</td>\n",
       "      <td>124.0</td>\n",
       "      <td>360.0</td>\n",
       "      <td>0.0</td>\n",
       "      <td>3</td>\n",
       "      <td>5124.0</td>\n",
       "      <td>1</td>\n",
       "    </tr>\n",
       "    <tr>\n",
       "      <th>368</th>\n",
       "      <td>1</td>\n",
       "      <td>1</td>\n",
       "      <td>1</td>\n",
       "      <td>1</td>\n",
       "      <td>0</td>\n",
       "      <td>6325</td>\n",
       "      <td>0.0</td>\n",
       "      <td>175.0</td>\n",
       "      <td>360.0</td>\n",
       "      <td>1.0</td>\n",
       "      <td>1</td>\n",
       "      <td>6325.0</td>\n",
       "      <td>3</td>\n",
       "    </tr>\n",
       "    <tr>\n",
       "      <th>369</th>\n",
       "      <td>1</td>\n",
       "      <td>1</td>\n",
       "      <td>0</td>\n",
       "      <td>1</td>\n",
       "      <td>0</td>\n",
       "      <td>19730</td>\n",
       "      <td>5266.0</td>\n",
       "      <td>570.0</td>\n",
       "      <td>360.0</td>\n",
       "      <td>1.0</td>\n",
       "      <td>3</td>\n",
       "      <td>24996.0</td>\n",
       "      <td>2</td>\n",
       "    </tr>\n",
       "    <tr>\n",
       "      <th>370</th>\n",
       "      <td>0</td>\n",
       "      <td>0</td>\n",
       "      <td>0</td>\n",
       "      <td>1</td>\n",
       "      <td>0</td>\n",
       "      <td>15759</td>\n",
       "      <td>0.0</td>\n",
       "      <td>55.0</td>\n",
       "      <td>360.0</td>\n",
       "      <td>1.0</td>\n",
       "      <td>1</td>\n",
       "      <td>15759.0</td>\n",
       "      <td>2</td>\n",
       "    </tr>\n",
       "    <tr>\n",
       "      <th>371</th>\n",
       "      <td>1</td>\n",
       "      <td>1</td>\n",
       "      <td>2</td>\n",
       "      <td>1</td>\n",
       "      <td>0</td>\n",
       "      <td>5185</td>\n",
       "      <td>0.0</td>\n",
       "      <td>155.0</td>\n",
       "      <td>360.0</td>\n",
       "      <td>1.0</td>\n",
       "      <td>1</td>\n",
       "      <td>5185.0</td>\n",
       "      <td>1</td>\n",
       "    </tr>\n",
       "  </tbody>\n",
       "</table>\n",
       "</div>"
      ],
      "text/plain": [
       "     Gender  Married  Dependents  Education  Self_Employed  ApplicantIncome  \\\n",
       "367       1        0           0          1              0             5124   \n",
       "368       1        1           1          1              0             6325   \n",
       "369       1        1           0          1              0            19730   \n",
       "370       0        0           0          1              0            15759   \n",
       "371       1        1           2          1              0             5185   \n",
       "\n",
       "     CoapplicantIncome  LoanAmount  Loan_Amount_Term  Credit_History  \\\n",
       "367                0.0       124.0             360.0             0.0   \n",
       "368                0.0       175.0             360.0             1.0   \n",
       "369             5266.0       570.0             360.0             1.0   \n",
       "370                0.0        55.0             360.0             1.0   \n",
       "371                0.0       155.0             360.0             1.0   \n",
       "\n",
       "     Property_Area  Total_family_income  Total_family_income_Category  \n",
       "367              3               5124.0                             1  \n",
       "368              1               6325.0                             3  \n",
       "369              3              24996.0                             2  \n",
       "370              1              15759.0                             2  \n",
       "371              1               5185.0                             1  "
      ]
     },
     "execution_count": 461,
     "metadata": {},
     "output_type": "execute_result"
    }
   ],
   "source": [
    "test.head()"
   ]
  },
  {
   "cell_type": "code",
   "execution_count": 462,
   "id": "8195b9bd",
   "metadata": {},
   "outputs": [
    {
     "name": "stdout",
     "output_type": "stream",
     "text": [
      "<class 'pandas.core.frame.DataFrame'>\n",
      "Int64Index: 614 entries, 367 to 366\n",
      "Data columns (total 13 columns):\n",
      " #   Column                        Non-Null Count  Dtype  \n",
      "---  ------                        --------------  -----  \n",
      " 0   Gender                        614 non-null    int64  \n",
      " 1   Married                       614 non-null    int64  \n",
      " 2   Dependents                    614 non-null    int64  \n",
      " 3   Education                     614 non-null    int64  \n",
      " 4   Self_Employed                 614 non-null    int64  \n",
      " 5   ApplicantIncome               614 non-null    int64  \n",
      " 6   CoapplicantIncome             614 non-null    float64\n",
      " 7   LoanAmount                    614 non-null    float64\n",
      " 8   Loan_Amount_Term              614 non-null    float64\n",
      " 9   Credit_History                614 non-null    float64\n",
      " 10  Property_Area                 614 non-null    int64  \n",
      " 11  Total_family_income           614 non-null    float64\n",
      " 12  Total_family_income_Category  614 non-null    int64  \n",
      "dtypes: float64(5), int64(8)\n",
      "memory usage: 67.2 KB\n"
     ]
    }
   ],
   "source": [
    "test.info()"
   ]
  },
  {
   "cell_type": "code",
   "execution_count": null,
   "id": "4ffe1be8",
   "metadata": {},
   "outputs": [],
   "source": []
  },
  {
   "cell_type": "code",
   "execution_count": 481,
   "id": "cf6f7895",
   "metadata": {},
   "outputs": [
    {
     "data": {
      "text/plain": [
       "0.7319487197497754"
      ]
     },
     "execution_count": 481,
     "metadata": {},
     "output_type": "execute_result"
    }
   ],
   "source": [
    "final_threshold = thresh[17]\n",
    "final_threshold"
   ]
  },
  {
   "cell_type": "code",
   "execution_count": null,
   "id": "f4901eaf",
   "metadata": {},
   "outputs": [],
   "source": []
  },
  {
   "cell_type": "code",
   "execution_count": 464,
   "id": "697e212d",
   "metadata": {},
   "outputs": [
    {
     "name": "stdout",
     "output_type": "stream",
     "text": [
      "[17:57:52] WARNING: ../src/learner.cc:1115: Starting in XGBoost 1.3.0, the default evaluation metric used with the objective 'binary:logistic' was changed from 'error' to 'logloss'. Explicitly set eval_metric if you'd like to restore the old behavior.\n",
      "[17:57:52] WARNING: ../src/learner.cc:1115: Starting in XGBoost 1.3.0, the default evaluation metric used with the objective 'binary:logistic' was changed from 'error' to 'logloss'. Explicitly set eval_metric if you'd like to restore the old behavior.\n"
     ]
    },
    {
     "data": {
      "text/plain": [
       "LGBMClassifier()"
      ]
     },
     "execution_count": 464,
     "metadata": {},
     "output_type": "execute_result"
    }
   ],
   "source": [
    "lr.fit(x,y)\n",
    "kn.fit(x,y)\n",
    "dt.fit(x,y)\n",
    "rf.fit(x,y)\n",
    "xgb.fit(x,y)\n",
    "xgbrf.fit(x,y)\n",
    "cat.fit(x,y)\n",
    "lgb.fit(x,y)"
   ]
  },
  {
   "cell_type": "code",
   "execution_count": 472,
   "id": "013d45b9",
   "metadata": {},
   "outputs": [],
   "source": [
    "lr_final_proba = lr.predict_proba(test)[:,1]\n",
    "dt_final_proba = dt.predict_proba(test)[:,1]\n",
    "rf_final_proba = rf.predict_proba(test)[:,1]\n",
    "xgb_final_proba = xgb.predict_proba(test)[:,1]\n",
    "xgbrf_final_proba = xgbrf.predict_proba(test)[:,1]\n",
    "kn_final_proba = kn.predict_proba(test)[:,1]\n",
    "cat_final_proba = cat.predict_proba(test)[:,1]\n",
    "lgb_final_proba = lgb.predict_proba(test)[:,1]"
   ]
  },
  {
   "cell_type": "code",
   "execution_count": 476,
   "id": "08e1cef1",
   "metadata": {},
   "outputs": [],
   "source": [
    "final_probas = pd.DataFrame({'lr':lr_final_proba,'kn':kn_final_proba,'dt':dt_final_proba,'rf':rf_final_proba,\n",
    "                            'xgb':xgb_final_proba,'xgbrf':xgbrf_final_proba,'cat':cat_final_proba,'lgb':lgb_final_proba})"
   ]
  },
  {
   "cell_type": "code",
   "execution_count": 477,
   "id": "4f54a38d",
   "metadata": {},
   "outputs": [
    {
     "data": {
      "text/html": [
       "<div>\n",
       "<style scoped>\n",
       "    .dataframe tbody tr th:only-of-type {\n",
       "        vertical-align: middle;\n",
       "    }\n",
       "\n",
       "    .dataframe tbody tr th {\n",
       "        vertical-align: top;\n",
       "    }\n",
       "\n",
       "    .dataframe thead th {\n",
       "        text-align: right;\n",
       "    }\n",
       "</style>\n",
       "<table border=\"1\" class=\"dataframe\">\n",
       "  <thead>\n",
       "    <tr style=\"text-align: right;\">\n",
       "      <th></th>\n",
       "      <th>lr</th>\n",
       "      <th>kn</th>\n",
       "      <th>dt</th>\n",
       "      <th>rf</th>\n",
       "      <th>xgb</th>\n",
       "      <th>xgbrf</th>\n",
       "      <th>cat</th>\n",
       "      <th>lgb</th>\n",
       "    </tr>\n",
       "  </thead>\n",
       "  <tbody>\n",
       "    <tr>\n",
       "      <th>0</th>\n",
       "      <td>0.095083</td>\n",
       "      <td>0.8</td>\n",
       "      <td>0.0</td>\n",
       "      <td>0.09</td>\n",
       "      <td>0.010096</td>\n",
       "      <td>0.129829</td>\n",
       "      <td>0.185423</td>\n",
       "      <td>0.035953</td>\n",
       "    </tr>\n",
       "    <tr>\n",
       "      <th>1</th>\n",
       "      <td>0.929630</td>\n",
       "      <td>0.8</td>\n",
       "      <td>1.0</td>\n",
       "      <td>0.91</td>\n",
       "      <td>0.882919</td>\n",
       "      <td>0.766278</td>\n",
       "      <td>0.850312</td>\n",
       "      <td>0.884967</td>\n",
       "    </tr>\n",
       "    <tr>\n",
       "      <th>2</th>\n",
       "      <td>0.479495</td>\n",
       "      <td>0.4</td>\n",
       "      <td>0.0</td>\n",
       "      <td>0.30</td>\n",
       "      <td>0.047282</td>\n",
       "      <td>0.475309</td>\n",
       "      <td>0.241441</td>\n",
       "      <td>0.162900</td>\n",
       "    </tr>\n",
       "    <tr>\n",
       "      <th>3</th>\n",
       "      <td>0.892008</td>\n",
       "      <td>0.6</td>\n",
       "      <td>1.0</td>\n",
       "      <td>0.96</td>\n",
       "      <td>0.990699</td>\n",
       "      <td>0.799072</td>\n",
       "      <td>0.914587</td>\n",
       "      <td>0.988019</td>\n",
       "    </tr>\n",
       "    <tr>\n",
       "      <th>4</th>\n",
       "      <td>0.865728</td>\n",
       "      <td>0.6</td>\n",
       "      <td>1.0</td>\n",
       "      <td>0.87</td>\n",
       "      <td>0.885946</td>\n",
       "      <td>0.765477</td>\n",
       "      <td>0.888985</td>\n",
       "      <td>0.925597</td>\n",
       "    </tr>\n",
       "  </tbody>\n",
       "</table>\n",
       "</div>"
      ],
      "text/plain": [
       "         lr   kn   dt    rf       xgb     xgbrf       cat       lgb\n",
       "0  0.095083  0.8  0.0  0.09  0.010096  0.129829  0.185423  0.035953\n",
       "1  0.929630  0.8  1.0  0.91  0.882919  0.766278  0.850312  0.884967\n",
       "2  0.479495  0.4  0.0  0.30  0.047282  0.475309  0.241441  0.162900\n",
       "3  0.892008  0.6  1.0  0.96  0.990699  0.799072  0.914587  0.988019\n",
       "4  0.865728  0.6  1.0  0.87  0.885946  0.765477  0.888985  0.925597"
      ]
     },
     "execution_count": 477,
     "metadata": {},
     "output_type": "execute_result"
    }
   ],
   "source": [
    "final_probas.head()"
   ]
  },
  {
   "cell_type": "code",
   "execution_count": 478,
   "id": "205329c4",
   "metadata": {},
   "outputs": [],
   "source": [
    "fp = []\n",
    "for i in final_probas.index:\n",
    "    fp.append(final_probas.iloc[i].mean())"
   ]
  },
  {
   "cell_type": "code",
   "execution_count": 479,
   "id": "49191ec4",
   "metadata": {},
   "outputs": [],
   "source": [
    "final_probas['mean_final'] = fp"
   ]
  },
  {
   "cell_type": "code",
   "execution_count": 480,
   "id": "9e05b724",
   "metadata": {},
   "outputs": [
    {
     "data": {
      "text/html": [
       "<div>\n",
       "<style scoped>\n",
       "    .dataframe tbody tr th:only-of-type {\n",
       "        vertical-align: middle;\n",
       "    }\n",
       "\n",
       "    .dataframe tbody tr th {\n",
       "        vertical-align: top;\n",
       "    }\n",
       "\n",
       "    .dataframe thead th {\n",
       "        text-align: right;\n",
       "    }\n",
       "</style>\n",
       "<table border=\"1\" class=\"dataframe\">\n",
       "  <thead>\n",
       "    <tr style=\"text-align: right;\">\n",
       "      <th></th>\n",
       "      <th>lr</th>\n",
       "      <th>kn</th>\n",
       "      <th>dt</th>\n",
       "      <th>rf</th>\n",
       "      <th>xgb</th>\n",
       "      <th>xgbrf</th>\n",
       "      <th>cat</th>\n",
       "      <th>lgb</th>\n",
       "      <th>mean_final</th>\n",
       "    </tr>\n",
       "  </thead>\n",
       "  <tbody>\n",
       "    <tr>\n",
       "      <th>0</th>\n",
       "      <td>0.095083</td>\n",
       "      <td>0.8</td>\n",
       "      <td>0.0</td>\n",
       "      <td>0.09</td>\n",
       "      <td>0.010096</td>\n",
       "      <td>0.129829</td>\n",
       "      <td>0.185423</td>\n",
       "      <td>0.035953</td>\n",
       "      <td>0.168298</td>\n",
       "    </tr>\n",
       "    <tr>\n",
       "      <th>1</th>\n",
       "      <td>0.929630</td>\n",
       "      <td>0.8</td>\n",
       "      <td>1.0</td>\n",
       "      <td>0.91</td>\n",
       "      <td>0.882919</td>\n",
       "      <td>0.766278</td>\n",
       "      <td>0.850312</td>\n",
       "      <td>0.884967</td>\n",
       "      <td>0.878013</td>\n",
       "    </tr>\n",
       "    <tr>\n",
       "      <th>2</th>\n",
       "      <td>0.479495</td>\n",
       "      <td>0.4</td>\n",
       "      <td>0.0</td>\n",
       "      <td>0.30</td>\n",
       "      <td>0.047282</td>\n",
       "      <td>0.475309</td>\n",
       "      <td>0.241441</td>\n",
       "      <td>0.162900</td>\n",
       "      <td>0.263303</td>\n",
       "    </tr>\n",
       "    <tr>\n",
       "      <th>3</th>\n",
       "      <td>0.892008</td>\n",
       "      <td>0.6</td>\n",
       "      <td>1.0</td>\n",
       "      <td>0.96</td>\n",
       "      <td>0.990699</td>\n",
       "      <td>0.799072</td>\n",
       "      <td>0.914587</td>\n",
       "      <td>0.988019</td>\n",
       "      <td>0.893048</td>\n",
       "    </tr>\n",
       "    <tr>\n",
       "      <th>4</th>\n",
       "      <td>0.865728</td>\n",
       "      <td>0.6</td>\n",
       "      <td>1.0</td>\n",
       "      <td>0.87</td>\n",
       "      <td>0.885946</td>\n",
       "      <td>0.765477</td>\n",
       "      <td>0.888985</td>\n",
       "      <td>0.925597</td>\n",
       "      <td>0.850217</td>\n",
       "    </tr>\n",
       "  </tbody>\n",
       "</table>\n",
       "</div>"
      ],
      "text/plain": [
       "         lr   kn   dt    rf       xgb     xgbrf       cat       lgb  \\\n",
       "0  0.095083  0.8  0.0  0.09  0.010096  0.129829  0.185423  0.035953   \n",
       "1  0.929630  0.8  1.0  0.91  0.882919  0.766278  0.850312  0.884967   \n",
       "2  0.479495  0.4  0.0  0.30  0.047282  0.475309  0.241441  0.162900   \n",
       "3  0.892008  0.6  1.0  0.96  0.990699  0.799072  0.914587  0.988019   \n",
       "4  0.865728  0.6  1.0  0.87  0.885946  0.765477  0.888985  0.925597   \n",
       "\n",
       "   mean_final  \n",
       "0    0.168298  \n",
       "1    0.878013  \n",
       "2    0.263303  \n",
       "3    0.893048  \n",
       "4    0.850217  "
      ]
     },
     "execution_count": 480,
     "metadata": {},
     "output_type": "execute_result"
    }
   ],
   "source": [
    "final_probas.head()"
   ]
  },
  {
   "cell_type": "code",
   "execution_count": 482,
   "id": "36ea54ec",
   "metadata": {},
   "outputs": [],
   "source": [
    "final_predictiosn = []\n",
    "for i in final_probas.mean_final:\n",
    "    if i > final_threshold:\n",
    "        final_predictiosn.append(1)\n",
    "    else:\n",
    "        final_predictiosn.append(0)"
   ]
  },
  {
   "cell_type": "code",
   "execution_count": null,
   "id": "c5232cd3",
   "metadata": {},
   "outputs": [],
   "source": []
  },
  {
   "cell_type": "code",
   "execution_count": 483,
   "id": "ed26978b",
   "metadata": {},
   "outputs": [],
   "source": [
    "final_df = pd.DataFrame({'Loan_ID':ids,'Loan_Status':final_predictiosn})"
   ]
  },
  {
   "cell_type": "code",
   "execution_count": 485,
   "id": "607c2b86",
   "metadata": {},
   "outputs": [
    {
     "data": {
      "text/plain": [
       "1    385\n",
       "0    229\n",
       "Name: Loan_Status, dtype: int64"
      ]
     },
     "execution_count": 485,
     "metadata": {},
     "output_type": "execute_result"
    }
   ],
   "source": [
    "final_df.Loan_Status.value_counts()"
   ]
  },
  {
   "cell_type": "markdown",
   "id": "907c80eb",
   "metadata": {},
   "source": [
    "### Saving .csv"
   ]
  },
  {
   "cell_type": "code",
   "execution_count": 486,
   "id": "1fe01ce9",
   "metadata": {},
   "outputs": [],
   "source": [
    "final_df.to_csv('exp_02.csv',index=False)"
   ]
  },
  {
   "cell_type": "code",
   "execution_count": null,
   "id": "d4e6bef0",
   "metadata": {},
   "outputs": [],
   "source": []
  },
  {
   "cell_type": "code",
   "execution_count": null,
   "id": "9ead425e",
   "metadata": {},
   "outputs": [],
   "source": []
  }
 ],
 "metadata": {
  "kernelspec": {
   "display_name": "Python 3 (ipykernel)",
   "language": "python",
   "name": "python3"
  },
  "language_info": {
   "codemirror_mode": {
    "name": "ipython",
    "version": 3
   },
   "file_extension": ".py",
   "mimetype": "text/x-python",
   "name": "python",
   "nbconvert_exporter": "python",
   "pygments_lexer": "ipython3",
   "version": "3.8.12"
  }
 },
 "nbformat": 4,
 "nbformat_minor": 5
}
