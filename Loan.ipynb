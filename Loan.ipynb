{
 "cells": [
  {
   "cell_type": "code",
   "execution_count": null,
   "id": "dacd6433",
   "metadata": {},
   "outputs": [],
   "source": []
  },
  {
   "cell_type": "markdown",
   "id": "dc3b5547",
   "metadata": {},
   "source": [
    "## Importing libraries"
   ]
  },
  {
   "cell_type": "code",
   "execution_count": 26,
   "id": "f70de147",
   "metadata": {},
   "outputs": [],
   "source": [
    "import pandas as pd\n",
    "import numpy as np\n",
    "import seaborn as sns\n",
    "import matplotlib.pyplot as plt\n",
    "import warnings\n",
    "warnings.filterwarnings('ignore')"
   ]
  },
  {
   "cell_type": "code",
   "execution_count": null,
   "id": "4cc20b44",
   "metadata": {},
   "outputs": [],
   "source": []
  },
  {
   "cell_type": "markdown",
   "id": "b67be7cd",
   "metadata": {},
   "source": [
    "## Importing Data"
   ]
  },
  {
   "cell_type": "code",
   "execution_count": 185,
   "id": "f577b761",
   "metadata": {},
   "outputs": [],
   "source": [
    "df = pd.read_csv('train_ctrUa4K.csv')"
   ]
  },
  {
   "cell_type": "code",
   "execution_count": 186,
   "id": "fbc4c885",
   "metadata": {},
   "outputs": [
    {
     "data": {
      "text/html": [
       "<div>\n",
       "<style scoped>\n",
       "    .dataframe tbody tr th:only-of-type {\n",
       "        vertical-align: middle;\n",
       "    }\n",
       "\n",
       "    .dataframe tbody tr th {\n",
       "        vertical-align: top;\n",
       "    }\n",
       "\n",
       "    .dataframe thead th {\n",
       "        text-align: right;\n",
       "    }\n",
       "</style>\n",
       "<table border=\"1\" class=\"dataframe\">\n",
       "  <thead>\n",
       "    <tr style=\"text-align: right;\">\n",
       "      <th></th>\n",
       "      <th>Loan_ID</th>\n",
       "      <th>Gender</th>\n",
       "      <th>Married</th>\n",
       "      <th>Dependents</th>\n",
       "      <th>Education</th>\n",
       "      <th>Self_Employed</th>\n",
       "      <th>ApplicantIncome</th>\n",
       "      <th>CoapplicantIncome</th>\n",
       "      <th>LoanAmount</th>\n",
       "      <th>Loan_Amount_Term</th>\n",
       "      <th>Credit_History</th>\n",
       "      <th>Property_Area</th>\n",
       "      <th>Loan_Status</th>\n",
       "    </tr>\n",
       "  </thead>\n",
       "  <tbody>\n",
       "    <tr>\n",
       "      <th>0</th>\n",
       "      <td>LP001002</td>\n",
       "      <td>Male</td>\n",
       "      <td>No</td>\n",
       "      <td>0</td>\n",
       "      <td>Graduate</td>\n",
       "      <td>No</td>\n",
       "      <td>5849</td>\n",
       "      <td>0.0</td>\n",
       "      <td>NaN</td>\n",
       "      <td>360.0</td>\n",
       "      <td>1.0</td>\n",
       "      <td>Urban</td>\n",
       "      <td>Y</td>\n",
       "    </tr>\n",
       "    <tr>\n",
       "      <th>1</th>\n",
       "      <td>LP001003</td>\n",
       "      <td>Male</td>\n",
       "      <td>Yes</td>\n",
       "      <td>1</td>\n",
       "      <td>Graduate</td>\n",
       "      <td>No</td>\n",
       "      <td>4583</td>\n",
       "      <td>1508.0</td>\n",
       "      <td>128.0</td>\n",
       "      <td>360.0</td>\n",
       "      <td>1.0</td>\n",
       "      <td>Rural</td>\n",
       "      <td>N</td>\n",
       "    </tr>\n",
       "    <tr>\n",
       "      <th>2</th>\n",
       "      <td>LP001005</td>\n",
       "      <td>Male</td>\n",
       "      <td>Yes</td>\n",
       "      <td>0</td>\n",
       "      <td>Graduate</td>\n",
       "      <td>Yes</td>\n",
       "      <td>3000</td>\n",
       "      <td>0.0</td>\n",
       "      <td>66.0</td>\n",
       "      <td>360.0</td>\n",
       "      <td>1.0</td>\n",
       "      <td>Urban</td>\n",
       "      <td>Y</td>\n",
       "    </tr>\n",
       "    <tr>\n",
       "      <th>3</th>\n",
       "      <td>LP001006</td>\n",
       "      <td>Male</td>\n",
       "      <td>Yes</td>\n",
       "      <td>0</td>\n",
       "      <td>Not Graduate</td>\n",
       "      <td>No</td>\n",
       "      <td>2583</td>\n",
       "      <td>2358.0</td>\n",
       "      <td>120.0</td>\n",
       "      <td>360.0</td>\n",
       "      <td>1.0</td>\n",
       "      <td>Urban</td>\n",
       "      <td>Y</td>\n",
       "    </tr>\n",
       "    <tr>\n",
       "      <th>4</th>\n",
       "      <td>LP001008</td>\n",
       "      <td>Male</td>\n",
       "      <td>No</td>\n",
       "      <td>0</td>\n",
       "      <td>Graduate</td>\n",
       "      <td>No</td>\n",
       "      <td>6000</td>\n",
       "      <td>0.0</td>\n",
       "      <td>141.0</td>\n",
       "      <td>360.0</td>\n",
       "      <td>1.0</td>\n",
       "      <td>Urban</td>\n",
       "      <td>Y</td>\n",
       "    </tr>\n",
       "  </tbody>\n",
       "</table>\n",
       "</div>"
      ],
      "text/plain": [
       "    Loan_ID Gender Married Dependents     Education Self_Employed  \\\n",
       "0  LP001002   Male      No          0      Graduate            No   \n",
       "1  LP001003   Male     Yes          1      Graduate            No   \n",
       "2  LP001005   Male     Yes          0      Graduate           Yes   \n",
       "3  LP001006   Male     Yes          0  Not Graduate            No   \n",
       "4  LP001008   Male      No          0      Graduate            No   \n",
       "\n",
       "   ApplicantIncome  CoapplicantIncome  LoanAmount  Loan_Amount_Term  \\\n",
       "0             5849                0.0         NaN             360.0   \n",
       "1             4583             1508.0       128.0             360.0   \n",
       "2             3000                0.0        66.0             360.0   \n",
       "3             2583             2358.0       120.0             360.0   \n",
       "4             6000                0.0       141.0             360.0   \n",
       "\n",
       "   Credit_History Property_Area Loan_Status  \n",
       "0             1.0         Urban           Y  \n",
       "1             1.0         Rural           N  \n",
       "2             1.0         Urban           Y  \n",
       "3             1.0         Urban           Y  \n",
       "4             1.0         Urban           Y  "
      ]
     },
     "execution_count": 186,
     "metadata": {},
     "output_type": "execute_result"
    }
   ],
   "source": [
    "df.head()"
   ]
  },
  {
   "cell_type": "code",
   "execution_count": null,
   "id": "79054fca",
   "metadata": {},
   "outputs": [],
   "source": []
  },
  {
   "cell_type": "markdown",
   "id": "1e36378d",
   "metadata": {},
   "source": [
    "## Info on the data"
   ]
  },
  {
   "cell_type": "code",
   "execution_count": 187,
   "id": "1f3e223b",
   "metadata": {},
   "outputs": [
    {
     "name": "stdout",
     "output_type": "stream",
     "text": [
      "<class 'pandas.core.frame.DataFrame'>\n",
      "RangeIndex: 614 entries, 0 to 613\n",
      "Data columns (total 13 columns):\n",
      " #   Column             Non-Null Count  Dtype  \n",
      "---  ------             --------------  -----  \n",
      " 0   Loan_ID            614 non-null    object \n",
      " 1   Gender             601 non-null    object \n",
      " 2   Married            611 non-null    object \n",
      " 3   Dependents         599 non-null    object \n",
      " 4   Education          614 non-null    object \n",
      " 5   Self_Employed      582 non-null    object \n",
      " 6   ApplicantIncome    614 non-null    int64  \n",
      " 7   CoapplicantIncome  614 non-null    float64\n",
      " 8   LoanAmount         592 non-null    float64\n",
      " 9   Loan_Amount_Term   600 non-null    float64\n",
      " 10  Credit_History     564 non-null    float64\n",
      " 11  Property_Area      614 non-null    object \n",
      " 12  Loan_Status        614 non-null    object \n",
      "dtypes: float64(4), int64(1), object(8)\n",
      "memory usage: 62.5+ KB\n"
     ]
    }
   ],
   "source": [
    "df.info()"
   ]
  },
  {
   "cell_type": "code",
   "execution_count": 188,
   "id": "d2ea4fbd",
   "metadata": {},
   "outputs": [
    {
     "data": {
      "text/html": [
       "<div>\n",
       "<style scoped>\n",
       "    .dataframe tbody tr th:only-of-type {\n",
       "        vertical-align: middle;\n",
       "    }\n",
       "\n",
       "    .dataframe tbody tr th {\n",
       "        vertical-align: top;\n",
       "    }\n",
       "\n",
       "    .dataframe thead th {\n",
       "        text-align: right;\n",
       "    }\n",
       "</style>\n",
       "<table border=\"1\" class=\"dataframe\">\n",
       "  <thead>\n",
       "    <tr style=\"text-align: right;\">\n",
       "      <th></th>\n",
       "      <th>count</th>\n",
       "      <th>mean</th>\n",
       "      <th>std</th>\n",
       "      <th>min</th>\n",
       "      <th>25%</th>\n",
       "      <th>50%</th>\n",
       "      <th>75%</th>\n",
       "      <th>max</th>\n",
       "    </tr>\n",
       "  </thead>\n",
       "  <tbody>\n",
       "    <tr>\n",
       "      <th>ApplicantIncome</th>\n",
       "      <td>614.0</td>\n",
       "      <td>5403.459283</td>\n",
       "      <td>6109.041673</td>\n",
       "      <td>150.0</td>\n",
       "      <td>2877.5</td>\n",
       "      <td>3812.5</td>\n",
       "      <td>5795.00</td>\n",
       "      <td>81000.0</td>\n",
       "    </tr>\n",
       "    <tr>\n",
       "      <th>CoapplicantIncome</th>\n",
       "      <td>614.0</td>\n",
       "      <td>1621.245798</td>\n",
       "      <td>2926.248369</td>\n",
       "      <td>0.0</td>\n",
       "      <td>0.0</td>\n",
       "      <td>1188.5</td>\n",
       "      <td>2297.25</td>\n",
       "      <td>41667.0</td>\n",
       "    </tr>\n",
       "    <tr>\n",
       "      <th>LoanAmount</th>\n",
       "      <td>592.0</td>\n",
       "      <td>146.412162</td>\n",
       "      <td>85.587325</td>\n",
       "      <td>9.0</td>\n",
       "      <td>100.0</td>\n",
       "      <td>128.0</td>\n",
       "      <td>168.00</td>\n",
       "      <td>700.0</td>\n",
       "    </tr>\n",
       "    <tr>\n",
       "      <th>Loan_Amount_Term</th>\n",
       "      <td>600.0</td>\n",
       "      <td>342.000000</td>\n",
       "      <td>65.120410</td>\n",
       "      <td>12.0</td>\n",
       "      <td>360.0</td>\n",
       "      <td>360.0</td>\n",
       "      <td>360.00</td>\n",
       "      <td>480.0</td>\n",
       "    </tr>\n",
       "    <tr>\n",
       "      <th>Credit_History</th>\n",
       "      <td>564.0</td>\n",
       "      <td>0.842199</td>\n",
       "      <td>0.364878</td>\n",
       "      <td>0.0</td>\n",
       "      <td>1.0</td>\n",
       "      <td>1.0</td>\n",
       "      <td>1.00</td>\n",
       "      <td>1.0</td>\n",
       "    </tr>\n",
       "  </tbody>\n",
       "</table>\n",
       "</div>"
      ],
      "text/plain": [
       "                   count         mean          std    min     25%     50%  \\\n",
       "ApplicantIncome    614.0  5403.459283  6109.041673  150.0  2877.5  3812.5   \n",
       "CoapplicantIncome  614.0  1621.245798  2926.248369    0.0     0.0  1188.5   \n",
       "LoanAmount         592.0   146.412162    85.587325    9.0   100.0   128.0   \n",
       "Loan_Amount_Term   600.0   342.000000    65.120410   12.0   360.0   360.0   \n",
       "Credit_History     564.0     0.842199     0.364878    0.0     1.0     1.0   \n",
       "\n",
       "                       75%      max  \n",
       "ApplicantIncome    5795.00  81000.0  \n",
       "CoapplicantIncome  2297.25  41667.0  \n",
       "LoanAmount          168.00    700.0  \n",
       "Loan_Amount_Term    360.00    480.0  \n",
       "Credit_History        1.00      1.0  "
      ]
     },
     "execution_count": 188,
     "metadata": {},
     "output_type": "execute_result"
    }
   ],
   "source": [
    "df.describe().transpose()"
   ]
  },
  {
   "cell_type": "code",
   "execution_count": null,
   "id": "baa24417",
   "metadata": {},
   "outputs": [],
   "source": []
  },
  {
   "cell_type": "markdown",
   "id": "dc18d479",
   "metadata": {},
   "source": [
    "### Imputing Null values"
   ]
  },
  {
   "cell_type": "code",
   "execution_count": 189,
   "id": "9611f215",
   "metadata": {},
   "outputs": [
    {
     "data": {
      "text/plain": [
       "Loan_ID               0\n",
       "Gender               13\n",
       "Married               3\n",
       "Dependents           15\n",
       "Education             0\n",
       "Self_Employed        32\n",
       "ApplicantIncome       0\n",
       "CoapplicantIncome     0\n",
       "LoanAmount           22\n",
       "Loan_Amount_Term     14\n",
       "Credit_History       50\n",
       "Property_Area         0\n",
       "Loan_Status           0\n",
       "dtype: int64"
      ]
     },
     "execution_count": 189,
     "metadata": {},
     "output_type": "execute_result"
    }
   ],
   "source": [
    "df.isnull().sum()"
   ]
  },
  {
   "cell_type": "code",
   "execution_count": 190,
   "id": "f1cdcd2c",
   "metadata": {},
   "outputs": [],
   "source": [
    "gen = []\n",
    "for i,j in zip(df.Gender,df.ApplicantIncome):\n",
    "    if (i is np.nan) and (j>4643):\n",
    "        gen.append('Male')\n",
    "    elif (i is np.nan) and (j <= 4643):\n",
    "        gen.append('Female')\n",
    "    else:\n",
    "        gen.append(i)"
   ]
  },
  {
   "cell_type": "code",
   "execution_count": 191,
   "id": "4c9ce28c",
   "metadata": {},
   "outputs": [],
   "source": [
    "df['Gender'] = gen"
   ]
  },
  {
   "cell_type": "code",
   "execution_count": 192,
   "id": "bcfe6072",
   "metadata": {},
   "outputs": [],
   "source": [
    "# df.ApplicantIncome.groupby(df.Married).mean()"
   ]
  },
  {
   "cell_type": "code",
   "execution_count": 193,
   "id": "f17ca80a",
   "metadata": {},
   "outputs": [],
   "source": [
    "mar = []\n",
    "for i,j in zip(df.Married,df.ApplicantIncome):\n",
    "    if (i is np.nan) and (j>4970):\n",
    "        mar.append('Yes')\n",
    "    elif (i is np.nan) and (j <= 4970):\n",
    "        mar.append('No')\n",
    "    else:\n",
    "        mar.append(i)"
   ]
  },
  {
   "cell_type": "code",
   "execution_count": 194,
   "id": "8c979e37",
   "metadata": {},
   "outputs": [],
   "source": [
    "df['Married'] = mar"
   ]
  },
  {
   "cell_type": "code",
   "execution_count": 195,
   "id": "3206838a",
   "metadata": {},
   "outputs": [],
   "source": [
    "### Imputing dependants value as 1 if married, else with mode\n",
    "dep = []\n",
    "for i,j in zip(df.Dependents,df.Married):\n",
    "    if (i is np.nan) and (j == 'Yes'):\n",
    "        dep.append('1')\n",
    "    else:\n",
    "        dep.append(i)"
   ]
  },
  {
   "cell_type": "code",
   "execution_count": 196,
   "id": "33a64343",
   "metadata": {},
   "outputs": [],
   "source": [
    "df['Dependents'] = dep"
   ]
  },
  {
   "cell_type": "code",
   "execution_count": 197,
   "id": "371bf0dc",
   "metadata": {},
   "outputs": [
    {
     "data": {
      "text/plain": [
       "0     345\n",
       "1     111\n",
       "2     101\n",
       "3+     51\n",
       "Name: Dependents, dtype: int64"
      ]
     },
     "execution_count": 197,
     "metadata": {},
     "output_type": "execute_result"
    }
   ],
   "source": [
    "df.Dependents.value_counts()"
   ]
  },
  {
   "cell_type": "code",
   "execution_count": 198,
   "id": "8ab4fedd",
   "metadata": {},
   "outputs": [],
   "source": [
    "df['Dependents'].fillna('0',axis=0,inplace=True)"
   ]
  },
  {
   "cell_type": "code",
   "execution_count": 199,
   "id": "11a9ca55",
   "metadata": {},
   "outputs": [],
   "source": [
    "# df.ApplicantIncome.groupby(df.Self_Employed).mean()"
   ]
  },
  {
   "cell_type": "code",
   "execution_count": 200,
   "id": "c48f4bec",
   "metadata": {},
   "outputs": [],
   "source": [
    "se = []\n",
    "for i,j in zip(df.Self_Employed,df.ApplicantIncome):\n",
    "    if (i is np.nan) and (j > 5050):\n",
    "        se.append('Yes')\n",
    "    elif (i is np.nan) and (j <= 5050):\n",
    "        se.append('No')\n",
    "    else:\n",
    "        se.append(i)"
   ]
  },
  {
   "cell_type": "code",
   "execution_count": 201,
   "id": "69ffec23",
   "metadata": {},
   "outputs": [],
   "source": [
    "df['Self_Employed'] = se"
   ]
  },
  {
   "cell_type": "code",
   "execution_count": 202,
   "id": "bb38897f",
   "metadata": {},
   "outputs": [],
   "source": [
    "# df.LoanAmount.median()"
   ]
  },
  {
   "cell_type": "code",
   "execution_count": 203,
   "id": "58ac8d90",
   "metadata": {},
   "outputs": [],
   "source": [
    "df['LoanAmount'].fillna(128,axis=0,inplace=True)"
   ]
  },
  {
   "cell_type": "code",
   "execution_count": 204,
   "id": "9ec9d640",
   "metadata": {},
   "outputs": [],
   "source": [
    "# df.Loan_Amount_Term.value_counts()"
   ]
  },
  {
   "cell_type": "code",
   "execution_count": 205,
   "id": "c5096363",
   "metadata": {},
   "outputs": [],
   "source": [
    "df['Loan_Amount_Term'].fillna(360,axis=0,inplace=True)"
   ]
  },
  {
   "cell_type": "code",
   "execution_count": 206,
   "id": "5a76973d",
   "metadata": {},
   "outputs": [],
   "source": [
    "# df.Credit_History.value_counts()"
   ]
  },
  {
   "cell_type": "code",
   "execution_count": 207,
   "id": "86dc3db4",
   "metadata": {},
   "outputs": [],
   "source": [
    "df['Credit_History'].fillna(1,axis=0,inplace=True)"
   ]
  },
  {
   "cell_type": "code",
   "execution_count": 208,
   "id": "336fb400",
   "metadata": {},
   "outputs": [],
   "source": [
    "# df.isnull().sum()"
   ]
  },
  {
   "cell_type": "code",
   "execution_count": null,
   "id": "3999ea32",
   "metadata": {},
   "outputs": [],
   "source": []
  },
  {
   "cell_type": "markdown",
   "id": "a3c10c91",
   "metadata": {},
   "source": [
    "## Data Analysis & Feature Engineering "
   ]
  },
  {
   "cell_type": "markdown",
   "id": "b150cb02",
   "metadata": {},
   "source": [
    "### Adding new feature \"Total_family_income\""
   ]
  },
  {
   "cell_type": "code",
   "execution_count": 287,
   "id": "02b2a4b7",
   "metadata": {},
   "outputs": [
    {
     "data": {
      "text/html": [
       "<div>\n",
       "<style scoped>\n",
       "    .dataframe tbody tr th:only-of-type {\n",
       "        vertical-align: middle;\n",
       "    }\n",
       "\n",
       "    .dataframe tbody tr th {\n",
       "        vertical-align: top;\n",
       "    }\n",
       "\n",
       "    .dataframe thead th {\n",
       "        text-align: right;\n",
       "    }\n",
       "</style>\n",
       "<table border=\"1\" class=\"dataframe\">\n",
       "  <thead>\n",
       "    <tr style=\"text-align: right;\">\n",
       "      <th></th>\n",
       "      <th>Loan_ID</th>\n",
       "      <th>Gender</th>\n",
       "      <th>Married</th>\n",
       "      <th>Dependents</th>\n",
       "      <th>Education</th>\n",
       "      <th>Self_Employed</th>\n",
       "      <th>ApplicantIncome</th>\n",
       "      <th>CoapplicantIncome</th>\n",
       "      <th>LoanAmount</th>\n",
       "      <th>Loan_Amount_Term</th>\n",
       "      <th>Credit_History</th>\n",
       "      <th>Property_Area</th>\n",
       "      <th>Loan_Status</th>\n",
       "      <th>Total_family_income</th>\n",
       "      <th>ApplicantIncome_Category</th>\n",
       "    </tr>\n",
       "  </thead>\n",
       "  <tbody>\n",
       "    <tr>\n",
       "      <th>0</th>\n",
       "      <td>LP001002</td>\n",
       "      <td>Male</td>\n",
       "      <td>No</td>\n",
       "      <td>0</td>\n",
       "      <td>Graduate</td>\n",
       "      <td>No</td>\n",
       "      <td>5849</td>\n",
       "      <td>0.0</td>\n",
       "      <td>128.0</td>\n",
       "      <td>360.0</td>\n",
       "      <td>1.0</td>\n",
       "      <td>Urban</td>\n",
       "      <td>Y</td>\n",
       "      <td>5849.0</td>\n",
       "      <td>Rich</td>\n",
       "    </tr>\n",
       "    <tr>\n",
       "      <th>1</th>\n",
       "      <td>LP001003</td>\n",
       "      <td>Male</td>\n",
       "      <td>Yes</td>\n",
       "      <td>1</td>\n",
       "      <td>Graduate</td>\n",
       "      <td>No</td>\n",
       "      <td>4583</td>\n",
       "      <td>1508.0</td>\n",
       "      <td>128.0</td>\n",
       "      <td>360.0</td>\n",
       "      <td>1.0</td>\n",
       "      <td>Rural</td>\n",
       "      <td>N</td>\n",
       "      <td>6091.0</td>\n",
       "      <td>MiddleClass</td>\n",
       "    </tr>\n",
       "    <tr>\n",
       "      <th>2</th>\n",
       "      <td>LP001005</td>\n",
       "      <td>Male</td>\n",
       "      <td>Yes</td>\n",
       "      <td>0</td>\n",
       "      <td>Graduate</td>\n",
       "      <td>Yes</td>\n",
       "      <td>3000</td>\n",
       "      <td>0.0</td>\n",
       "      <td>66.0</td>\n",
       "      <td>360.0</td>\n",
       "      <td>1.0</td>\n",
       "      <td>Urban</td>\n",
       "      <td>Y</td>\n",
       "      <td>3000.0</td>\n",
       "      <td>Poor</td>\n",
       "    </tr>\n",
       "    <tr>\n",
       "      <th>3</th>\n",
       "      <td>LP001006</td>\n",
       "      <td>Male</td>\n",
       "      <td>Yes</td>\n",
       "      <td>0</td>\n",
       "      <td>Not Graduate</td>\n",
       "      <td>No</td>\n",
       "      <td>2583</td>\n",
       "      <td>2358.0</td>\n",
       "      <td>120.0</td>\n",
       "      <td>360.0</td>\n",
       "      <td>1.0</td>\n",
       "      <td>Urban</td>\n",
       "      <td>Y</td>\n",
       "      <td>4941.0</td>\n",
       "      <td>Poor</td>\n",
       "    </tr>\n",
       "    <tr>\n",
       "      <th>4</th>\n",
       "      <td>LP001008</td>\n",
       "      <td>Male</td>\n",
       "      <td>No</td>\n",
       "      <td>0</td>\n",
       "      <td>Graduate</td>\n",
       "      <td>No</td>\n",
       "      <td>6000</td>\n",
       "      <td>0.0</td>\n",
       "      <td>141.0</td>\n",
       "      <td>360.0</td>\n",
       "      <td>1.0</td>\n",
       "      <td>Urban</td>\n",
       "      <td>Y</td>\n",
       "      <td>6000.0</td>\n",
       "      <td>Rich</td>\n",
       "    </tr>\n",
       "  </tbody>\n",
       "</table>\n",
       "</div>"
      ],
      "text/plain": [
       "    Loan_ID Gender Married Dependents     Education Self_Employed  \\\n",
       "0  LP001002   Male      No          0      Graduate            No   \n",
       "1  LP001003   Male     Yes          1      Graduate            No   \n",
       "2  LP001005   Male     Yes          0      Graduate           Yes   \n",
       "3  LP001006   Male     Yes          0  Not Graduate            No   \n",
       "4  LP001008   Male      No          0      Graduate            No   \n",
       "\n",
       "   ApplicantIncome  CoapplicantIncome  LoanAmount  Loan_Amount_Term  \\\n",
       "0             5849                0.0       128.0             360.0   \n",
       "1             4583             1508.0       128.0             360.0   \n",
       "2             3000                0.0        66.0             360.0   \n",
       "3             2583             2358.0       120.0             360.0   \n",
       "4             6000                0.0       141.0             360.0   \n",
       "\n",
       "   Credit_History Property_Area Loan_Status  Total_family_income  \\\n",
       "0             1.0         Urban           Y               5849.0   \n",
       "1             1.0         Rural           N               6091.0   \n",
       "2             1.0         Urban           Y               3000.0   \n",
       "3             1.0         Urban           Y               4941.0   \n",
       "4             1.0         Urban           Y               6000.0   \n",
       "\n",
       "  ApplicantIncome_Category  \n",
       "0                     Rich  \n",
       "1              MiddleClass  \n",
       "2                     Poor  \n",
       "3                     Poor  \n",
       "4                     Rich  "
      ]
     },
     "execution_count": 287,
     "metadata": {},
     "output_type": "execute_result"
    }
   ],
   "source": [
    "df.head()"
   ]
  },
  {
   "cell_type": "code",
   "execution_count": 219,
   "id": "8eafd84f",
   "metadata": {},
   "outputs": [],
   "source": [
    "df['Total_family_income'] = df['ApplicantIncome']+df['CoapplicantIncome']"
   ]
  },
  {
   "cell_type": "markdown",
   "id": "265504e1",
   "metadata": {},
   "source": [
    "### Mean / median / max / min of the income "
   ]
  },
  {
   "cell_type": "code",
   "execution_count": 241,
   "id": "666c7500",
   "metadata": {},
   "outputs": [],
   "source": [
    "def mxmn(feature):\n",
    "    print('max    : ',df[feature].max())\n",
    "    print('mean   : ',df[feature].mean())\n",
    "    print('median : ',df[feature].median())\n",
    "    print('min    : ',df[feature].min())"
   ]
  },
  {
   "cell_type": "code",
   "execution_count": 250,
   "id": "3481bed5",
   "metadata": {},
   "outputs": [
    {
     "name": "stdout",
     "output_type": "stream",
     "text": [
      "max    :  41667.0\n",
      "mean   :  1621.2457980271008\n",
      "median :  1188.5\n",
      "min    :  0.0\n"
     ]
    }
   ],
   "source": [
    "mxmn('CoapplicantIncome')"
   ]
  },
  {
   "cell_type": "code",
   "execution_count": 251,
   "id": "c0ce74f5",
   "metadata": {},
   "outputs": [
    {
     "name": "stdout",
     "output_type": "stream",
     "text": [
      "max    :  81000\n",
      "mean   :  5403.459283387622\n",
      "median :  3812.5\n",
      "min    :  150\n"
     ]
    }
   ],
   "source": [
    "mxmn('ApplicantIncome')"
   ]
  },
  {
   "cell_type": "code",
   "execution_count": 252,
   "id": "b5998bbc",
   "metadata": {},
   "outputs": [
    {
     "name": "stdout",
     "output_type": "stream",
     "text": [
      "max    :  81000.0\n",
      "mean   :  7024.705081414722\n",
      "median :  5416.5\n",
      "min    :  1442.0\n"
     ]
    }
   ],
   "source": [
    "mxmn('Total_family_income')"
   ]
  },
  {
   "cell_type": "code",
   "execution_count": 257,
   "id": "d550a998",
   "metadata": {},
   "outputs": [],
   "source": [
    "ai = []\n",
    "for i in df['ApplicantIncome']:\n",
    "    if i < 3812:\n",
    "        ai.append('Poor')\n",
    "    elif 3812<=i<5403:\n",
    "        ai.append('MiddleClass')\n",
    "    elif i >= 5403:\n",
    "        ai.append('Rich')"
   ]
  },
  {
   "cell_type": "code",
   "execution_count": 258,
   "id": "db92fe08",
   "metadata": {},
   "outputs": [],
   "source": [
    "df['ApplicantIncome_Category'] = ai"
   ]
  },
  {
   "cell_type": "code",
   "execution_count": 259,
   "id": "b737d629",
   "metadata": {},
   "outputs": [
    {
     "data": {
      "text/plain": [
       "Poor           306\n",
       "Rich           176\n",
       "MiddleClass    132\n",
       "Name: ApplicantIncome_Category, dtype: int64"
      ]
     },
     "execution_count": 259,
     "metadata": {},
     "output_type": "execute_result"
    }
   ],
   "source": [
    "df['ApplicantIncome_Category'].value_counts()"
   ]
  },
  {
   "cell_type": "code",
   "execution_count": 288,
   "id": "68e08486",
   "metadata": {},
   "outputs": [],
   "source": [
    "fi = []\n",
    "for i in df['Total_family_income']:\n",
    "    if i < 5416:\n",
    "        fi.append('Poor')\n",
    "    elif 5416<=i<7024:\n",
    "        fi.append('MiddleClass')\n",
    "    elif i >= 7024:\n",
    "        fi.append('Rich')"
   ]
  },
  {
   "cell_type": "code",
   "execution_count": 289,
   "id": "1605d81b",
   "metadata": {},
   "outputs": [],
   "source": [
    "df['Total_family_income_Category'] = fi"
   ]
  },
  {
   "cell_type": "markdown",
   "id": "17f1a873",
   "metadata": {},
   "source": [
    "### Distributions and outliers"
   ]
  },
  {
   "cell_type": "code",
   "execution_count": 280,
   "id": "a7f11c11",
   "metadata": {},
   "outputs": [],
   "source": [
    "# plt.figure(figsize=(10,25))\n",
    "# sns.boxplot(y = df.ApplicantIncome)\n",
    "# plt.grid()\n",
    "# plt.yticks(np.arange(0,90000,1000))\n",
    "# plt.show()"
   ]
  },
  {
   "cell_type": "code",
   "execution_count": 457,
   "id": "1767f9a1",
   "metadata": {},
   "outputs": [],
   "source": [
    "appin_ls = pd.DataFrame(df.Loan_Status.groupby(df.ApplicantIncome_Category).value_counts(normalize=False))"
   ]
  },
  {
   "cell_type": "code",
   "execution_count": 456,
   "id": "70b0b4b7",
   "metadata": {},
   "outputs": [],
   "source": [
    "# pr = appin_ls['Loan_Status']"
   ]
  },
  {
   "cell_type": "code",
   "execution_count": 459,
   "id": "643c5fa0",
   "metadata": {},
   "outputs": [],
   "source": [
    "appin_ls['Percentage'] = pr"
   ]
  },
  {
   "cell_type": "code",
   "execution_count": 460,
   "id": "635e8d88",
   "metadata": {},
   "outputs": [
    {
     "name": "stdout",
     "output_type": "stream",
     "text": [
      "\n",
      "\n",
      "\n",
      "                                      Loan_Status  Percentage\n",
      "ApplicantIncome_Category Loan_Status                         \n",
      "MiddleClass              Y                     91    0.689394\n",
      "                         N                     41    0.310606\n",
      "Poor                     Y                    210    0.686275\n",
      "                         N                     96    0.313725\n",
      "Rich                     Y                    121    0.687500\n",
      "                         N                     55    0.312500\n"
     ]
    },
    {
     "data": {
      "image/png": "[encoded data removed]",
      "text/plain": [
       "<Figure size 720x360 with 1 Axes>"
      ]
     },
     "metadata": {
      "needs_background": "light"
     },
     "output_type": "display_data"
    }
   ],
   "source": [
    "## Applicant Income category and loan status\n",
    "plt.figure(figsize=(10,5))\n",
    "sns.countplot(df.ApplicantIncome_Category,hue=df.Loan_Status,saturation=0.95,palette='winter')\n",
    "print('\\n\\n')\n",
    "print(appin_ls)\n",
    "plt.grid()\n",
    "plt.show()"
   ]
  },
  {
   "cell_type": "code",
   "execution_count": null,
   "id": "9edddc71",
   "metadata": {},
   "outputs": [],
   "source": []
  },
  {
   "cell_type": "code",
   "execution_count": 467,
   "id": "5d51867a",
   "metadata": {},
   "outputs": [],
   "source": [
    "famin_ls = pd.DataFrame(df.Loan_Status.groupby(df.Total_family_income_Category).value_counts(normalize=False))"
   ]
  },
  {
   "cell_type": "code",
   "execution_count": 469,
   "id": "eb392d93",
   "metadata": {},
   "outputs": [],
   "source": [
    "# pr = famin_ls['Loan_Status']"
   ]
  },
  {
   "cell_type": "code",
   "execution_count": 471,
   "id": "7ec1750f",
   "metadata": {},
   "outputs": [],
   "source": [
    "famin_ls['Percentage'] = pr*100"
   ]
  },
  {
   "cell_type": "code",
   "execution_count": 472,
   "id": "bc1f1958",
   "metadata": {
    "scrolled": false
   },
   "outputs": [
    {
     "name": "stdout",
     "output_type": "stream",
     "text": [
      "\n",
      "\n",
      "\n",
      "                                          Loan_Status  Percentage\n",
      "Total_family_income_Category Loan_Status                         \n",
      "MiddleClass                  Y                     96   72.180451\n",
      "                             N                     37   27.819549\n",
      "Poor                         Y                    208   67.973856\n",
      "                             N                     98   32.026144\n",
      "Rich                         Y                    118   67.428571\n",
      "                             N                     57   32.571429\n"
     ]
    },
    {
     "data": {
      "image/png": "[encoded data removed]",
      "text/plain": [
       "<Figure size 432x288 with 1 Axes>"
      ]
     },
     "metadata": {
      "needs_background": "light"
     },
     "output_type": "display_data"
    }
   ],
   "source": [
    "## Total family Income category and loan status\n",
    "sns.countplot(df.Total_family_income_Category,hue=df.Loan_Status,saturation=0.9)\n",
    "print('\\n\\n')\n",
    "print(famin_ls)\n",
    "plt.grid()\n",
    "plt.show()"
   ]
  },
  {
   "cell_type": "markdown",
   "id": "241f65b2",
   "metadata": {},
   "source": [
    "### Inference : we can infer that only 27% of the middle class customer's (Total family income between 5416 and 7024) loan is being rejected. On the other hand, 32% of both rich ( Total Income > 7024) and Poor (total income < 5416) customer's loan have been rejected.\n",
    "###  Probability of a loan getting rejected for the rich and poor are higher than the Middle class! "
   ]
  },
  {
   "cell_type": "code",
   "execution_count": null,
   "id": "85f86a62",
   "metadata": {},
   "outputs": [],
   "source": []
  },
  {
   "cell_type": "code",
   "execution_count": 318,
   "id": "10b2d006",
   "metadata": {},
   "outputs": [
    {
     "name": "stdout",
     "output_type": "stream",
     "text": [
      "   ApplicantIncome Loan_Status\n",
      "0      5446.078125           N\n",
      "1      5384.068720           Y\n"
     ]
    },
    {
     "data": {
      "image/png": "[encoded data removed]",
      "text/plain": [
       "<Figure size 432x288 with 1 Axes>"
      ]
     },
     "metadata": {
      "needs_background": "light"
     },
     "output_type": "display_data"
    }
   ],
   "source": [
    "api_ls = pd.DataFrame(df.ApplicantIncome.groupby(df.Loan_Status).mean())\n",
    "api_ls['Loan_Status'] = api_ls.index\n",
    "api_ls.index = np.arange(0,len(api_ls))\n",
    "\n",
    "plt.bar(api_ls.Loan_Status,api_ls.ApplicantIncome,color = ['r','b'])\n",
    "plt.grid()\n",
    "print(api_ls)\n",
    "plt.show()"
   ]
  },
  {
   "cell_type": "markdown",
   "id": "d665a432",
   "metadata": {},
   "source": [
    "### Inference : Loan is not rejected based on the applicant's Income "
   ]
  },
  {
   "cell_type": "code",
   "execution_count": null,
   "id": "f4b18530",
   "metadata": {},
   "outputs": [],
   "source": []
  },
  {
   "cell_type": "code",
   "execution_count": 449,
   "id": "287c6d35",
   "metadata": {},
   "outputs": [
    {
     "data": {
      "text/plain": [
       "Property_Area\n",
       "Rural        7199.620782\n",
       "Semiurban    6812.394850\n",
       "Urban        7114.598020\n",
       "Name: Total_family_income, dtype: float64"
      ]
     },
     "execution_count": 449,
     "metadata": {},
     "output_type": "execute_result"
    }
   ],
   "source": [
    "df.Total_family_income.groupby(df.Property_Area).mean()"
   ]
  },
  {
   "cell_type": "code",
   "execution_count": 404,
   "id": "47ac35ad",
   "metadata": {},
   "outputs": [],
   "source": [
    "prop_status = pd.DataFrame(df.Loan_Status.groupby(df.Property_Area).value_counts(normalize=False))"
   ]
  },
  {
   "cell_type": "code",
   "execution_count": 408,
   "id": "a0667a01",
   "metadata": {},
   "outputs": [],
   "source": [
    "# pr = prop_status['Loan_Status']"
   ]
  },
  {
   "cell_type": "code",
   "execution_count": 406,
   "id": "83bb291c",
   "metadata": {},
   "outputs": [],
   "source": [
    "prop_status['Percentage'] = pr"
   ]
  },
  {
   "cell_type": "code",
   "execution_count": 407,
   "id": "19f692a6",
   "metadata": {},
   "outputs": [
    {
     "data": {
      "text/html": [
       "<div>\n",
       "<style scoped>\n",
       "    .dataframe tbody tr th:only-of-type {\n",
       "        vertical-align: middle;\n",
       "    }\n",
       "\n",
       "    .dataframe tbody tr th {\n",
       "        vertical-align: top;\n",
       "    }\n",
       "\n",
       "    .dataframe thead th {\n",
       "        text-align: right;\n",
       "    }\n",
       "</style>\n",
       "<table border=\"1\" class=\"dataframe\">\n",
       "  <thead>\n",
       "    <tr style=\"text-align: right;\">\n",
       "      <th></th>\n",
       "      <th></th>\n",
       "      <th>Loan_Status</th>\n",
       "      <th>Percentage</th>\n",
       "    </tr>\n",
       "    <tr>\n",
       "      <th>Property_Area</th>\n",
       "      <th>Loan_Status</th>\n",
       "      <th></th>\n",
       "      <th></th>\n",
       "    </tr>\n",
       "  </thead>\n",
       "  <tbody>\n",
       "    <tr>\n",
       "      <th rowspan=\"2\" valign=\"top\">Rural</th>\n",
       "      <th>Y</th>\n",
       "      <td>110</td>\n",
       "      <td>0.614525</td>\n",
       "    </tr>\n",
       "    <tr>\n",
       "      <th>N</th>\n",
       "      <td>69</td>\n",
       "      <td>0.385475</td>\n",
       "    </tr>\n",
       "    <tr>\n",
       "      <th rowspan=\"2\" valign=\"top\">Semiurban</th>\n",
       "      <th>Y</th>\n",
       "      <td>179</td>\n",
       "      <td>0.768240</td>\n",
       "    </tr>\n",
       "    <tr>\n",
       "      <th>N</th>\n",
       "      <td>54</td>\n",
       "      <td>0.231760</td>\n",
       "    </tr>\n",
       "    <tr>\n",
       "      <th rowspan=\"2\" valign=\"top\">Urban</th>\n",
       "      <th>Y</th>\n",
       "      <td>133</td>\n",
       "      <td>0.658416</td>\n",
       "    </tr>\n",
       "    <tr>\n",
       "      <th>N</th>\n",
       "      <td>69</td>\n",
       "      <td>0.341584</td>\n",
       "    </tr>\n",
       "  </tbody>\n",
       "</table>\n",
       "</div>"
      ],
      "text/plain": [
       "                           Loan_Status  Percentage\n",
       "Property_Area Loan_Status                         \n",
       "Rural         Y                    110    0.614525\n",
       "              N                     69    0.385475\n",
       "Semiurban     Y                    179    0.768240\n",
       "              N                     54    0.231760\n",
       "Urban         Y                    133    0.658416\n",
       "              N                     69    0.341584"
      ]
     },
     "execution_count": 407,
     "metadata": {},
     "output_type": "execute_result"
    }
   ],
   "source": [
    "prop_status"
   ]
  },
  {
   "cell_type": "markdown",
   "id": "3ff82a8b",
   "metadata": {},
   "source": [
    "### Inference :  We can infer that only 23% of loans from semi urban customers are being rejected and 38% of rural customers are being rejected "
   ]
  },
  {
   "cell_type": "code",
   "execution_count": null,
   "id": "733771d1",
   "metadata": {},
   "outputs": [],
   "source": []
  },
  {
   "cell_type": "code",
   "execution_count": 412,
   "id": "17050d9e",
   "metadata": {},
   "outputs": [],
   "source": [
    "gen_ls = pd.DataFrame(df.Loan_Status.groupby(df.Gender).value_counts(normalize=False)).sort_index()"
   ]
  },
  {
   "cell_type": "code",
   "execution_count": 416,
   "id": "fe569dfb",
   "metadata": {},
   "outputs": [],
   "source": [
    "# pr = gen_ls['Loan_Status']"
   ]
  },
  {
   "cell_type": "code",
   "execution_count": 418,
   "id": "38bcdd0c",
   "metadata": {},
   "outputs": [],
   "source": [
    "gen_ls['Percentage'] = pr*100"
   ]
  },
  {
   "cell_type": "code",
   "execution_count": 479,
   "id": "411e6596",
   "metadata": {},
   "outputs": [
    {
     "name": "stdout",
     "output_type": "stream",
     "text": [
      "\n",
      "\n",
      "\n",
      "                    Loan_Status  Percentage\n",
      "Gender Loan_Status                         \n",
      "Female N                     42   35.294118\n",
      "       Y                     77   64.705882\n",
      "Male   N                    150   30.303030\n",
      "       Y                    345   69.696970\n"
     ]
    },
    {
     "data": {
      "image/png": "[encoded data removed]",
      "text/plain": [
       "<Figure size 432x288 with 1 Axes>"
      ]
     },
     "metadata": {
      "needs_background": "light"
     },
     "output_type": "display_data"
    }
   ],
   "source": [
    "## count of loan status with hue gender\n",
    "sns.countplot(df.Gender,palette='winter',hue=df.Loan_Status)\n",
    "plt.grid()\n",
    "print('\\n\\n')\n",
    "print(gen_ls)\n",
    "# print(df.Loan_Status.value_counts(),'\\n')\n",
    "plt.show()"
   ]
  },
  {
   "cell_type": "markdown",
   "id": "88c0cb27",
   "metadata": {},
   "source": [
    "### Inference : we can infer that 35% of loans are being rejected for females and only 30% of loans are rejected for male"
   ]
  },
  {
   "cell_type": "code",
   "execution_count": null,
   "id": "86aad2cc",
   "metadata": {},
   "outputs": [],
   "source": []
  },
  {
   "cell_type": "code",
   "execution_count": 490,
   "id": "02644bd3",
   "metadata": {},
   "outputs": [],
   "source": [
    "edu_ls = pd.DataFrame(df.Loan_Status.groupby(df.Education).value_counts(normalize=False))"
   ]
  },
  {
   "cell_type": "code",
   "execution_count": 489,
   "id": "3e9a32c4",
   "metadata": {},
   "outputs": [],
   "source": [
    "pr = edu_ls['Loan_Status']"
   ]
  },
  {
   "cell_type": "code",
   "execution_count": 491,
   "id": "684f8918",
   "metadata": {},
   "outputs": [],
   "source": [
    "edu_ls['Percentage'] = pr*100"
   ]
  },
  {
   "cell_type": "code",
   "execution_count": 492,
   "id": "b69345ca",
   "metadata": {},
   "outputs": [
    {
     "name": "stdout",
     "output_type": "stream",
     "text": [
      "\n",
      "\n",
      "\n",
      "                          Loan_Status  Percentage\n",
      "Education    Loan_Status                         \n",
      "Graduate     Y                    340   70.833333\n",
      "             N                    140   29.166667\n",
      "Not Graduate Y                     82   61.194030\n",
      "             N                     52   38.805970 \n",
      "\n"
     ]
    },
    {
     "data": {
      "image/png": "[encoded data removed]",
      "text/plain": [
       "<Figure size 432x288 with 1 Axes>"
      ]
     },
     "metadata": {
      "needs_background": "light"
     },
     "output_type": "display_data"
    }
   ],
   "source": [
    "## count of loan status with hue Education\n",
    "sns.countplot(df.Education,palette='winter',hue=df.Loan_Status)\n",
    "plt.grid()\n",
    "print('\\n\\n')\n",
    "print(edu_ls,'\\n')\n",
    "plt.show()"
   ]
  },
  {
   "cell_type": "markdown",
   "id": "76e93e63",
   "metadata": {},
   "source": [
    "### Inference : almost 39% of loans for Non Graduates are being rejected but only 29% of the loans for Graduates are Rejected."
   ]
  },
  {
   "cell_type": "code",
   "execution_count": 499,
   "id": "8dcdafb7",
   "metadata": {},
   "outputs": [],
   "source": [
    "self_ls = pd.DataFrame(df.Loan_Status.groupby(df.Self_Employed).value_counts(normalize=False))"
   ]
  },
  {
   "cell_type": "code",
   "execution_count": 498,
   "id": "10f3c084",
   "metadata": {},
   "outputs": [],
   "source": [
    "pr = self_ls['Loan_Status']"
   ]
  },
  {
   "cell_type": "code",
   "execution_count": 500,
   "id": "b961af0b",
   "metadata": {},
   "outputs": [],
   "source": [
    "self_ls['Percentage'] = pr*100"
   ]
  },
  {
   "cell_type": "code",
   "execution_count": 501,
   "id": "146b41cf",
   "metadata": {},
   "outputs": [
    {
     "data": {
      "text/html": [
       "<div>\n",
       "<style scoped>\n",
       "    .dataframe tbody tr th:only-of-type {\n",
       "        vertical-align: middle;\n",
       "    }\n",
       "\n",
       "    .dataframe tbody tr th {\n",
       "        vertical-align: top;\n",
       "    }\n",
       "\n",
       "    .dataframe thead th {\n",
       "        text-align: right;\n",
       "    }\n",
       "</style>\n",
       "<table border=\"1\" class=\"dataframe\">\n",
       "  <thead>\n",
       "    <tr style=\"text-align: right;\">\n",
       "      <th></th>\n",
       "      <th></th>\n",
       "      <th>Loan_Status</th>\n",
       "      <th>Percentage</th>\n",
       "    </tr>\n",
       "    <tr>\n",
       "      <th>Self_Employed</th>\n",
       "      <th>Loan_Status</th>\n",
       "      <th></th>\n",
       "      <th></th>\n",
       "    </tr>\n",
       "  </thead>\n",
       "  <tbody>\n",
       "    <tr>\n",
       "      <th rowspan=\"2\" valign=\"top\">No</th>\n",
       "      <th>Y</th>\n",
       "      <td>361</td>\n",
       "      <td>68.893130</td>\n",
       "    </tr>\n",
       "    <tr>\n",
       "      <th>N</th>\n",
       "      <td>163</td>\n",
       "      <td>31.106870</td>\n",
       "    </tr>\n",
       "    <tr>\n",
       "      <th rowspan=\"2\" valign=\"top\">Yes</th>\n",
       "      <th>Y</th>\n",
       "      <td>61</td>\n",
       "      <td>67.777778</td>\n",
       "    </tr>\n",
       "    <tr>\n",
       "      <th>N</th>\n",
       "      <td>29</td>\n",
       "      <td>32.222222</td>\n",
       "    </tr>\n",
       "  </tbody>\n",
       "</table>\n",
       "</div>"
      ],
      "text/plain": [
       "                           Loan_Status  Percentage\n",
       "Self_Employed Loan_Status                         \n",
       "No            Y                    361   68.893130\n",
       "              N                    163   31.106870\n",
       "Yes           Y                     61   67.777778\n",
       "              N                     29   32.222222"
      ]
     },
     "execution_count": 501,
     "metadata": {},
     "output_type": "execute_result"
    }
   ],
   "source": [
    "self_ls"
   ]
  },
  {
   "cell_type": "code",
   "execution_count": 502,
   "id": "669e4939",
   "metadata": {},
   "outputs": [
    {
     "name": "stdout",
     "output_type": "stream",
     "text": [
      "\n",
      "\n",
      "\n",
      "                           Loan_Status  Percentage\n",
      "Self_Employed Loan_Status                         \n",
      "No            Y                    361   68.893130\n",
      "              N                    163   31.106870\n",
      "Yes           Y                     61   67.777778\n",
      "              N                     29   32.222222 \n",
      "\n"
     ]
    },
    {
     "data": {
      "image/png": "[encoded data removed]",
      "text/plain": [
       "<Figure size 432x288 with 1 Axes>"
      ]
     },
     "metadata": {
      "needs_background": "light"
     },
     "output_type": "display_data"
    }
   ],
   "source": [
    "## count of loan status with hue Self_Employed\n",
    "sns.countplot(df.Self_Employed,palette='winter',hue=df.Loan_Status)\n",
    "plt.grid()\n",
    "print('\\n\\n')\n",
    "print(self_ls,'\\n')\n",
    "plt.show()"
   ]
  },
  {
   "cell_type": "code",
   "execution_count": null,
   "id": "50c7d435",
   "metadata": {},
   "outputs": [],
   "source": []
  },
  {
   "cell_type": "code",
   "execution_count": null,
   "id": "8c2c6dc9",
   "metadata": {},
   "outputs": [],
   "source": []
  },
  {
   "cell_type": "code",
   "execution_count": null,
   "id": "a381b27e",
   "metadata": {},
   "outputs": [],
   "source": [
    "## count of loan status with hue dependents\n",
    "sns.countplot(df.Loan_Status,palette='winter',hue=df.Dependents)\n",
    "plt.grid()\n",
    "print('\\n')\n",
    "print(df.Loan_Status.value_counts(),'\\n')\n",
    "plt.show()"
   ]
  },
  {
   "cell_type": "code",
   "execution_count": 8,
   "id": "6937d469",
   "metadata": {},
   "outputs": [
    {
     "name": "stdout",
     "output_type": "stream",
     "text": [
      "Male      489\n",
      "Female    112\n",
      "Name: Gender, dtype: int64\n"
     ]
    },
    {
     "data": {
      "image/png": "[encoded data removed]",
      "text/plain": [
       "<Figure size 432x288 with 1 Axes>"
      ]
     },
     "metadata": {
      "needs_background": "light"
     },
     "output_type": "display_data"
    }
   ],
   "source": [
    "sns.countplot(df.Gender,hue=df.Loan_Status)\n",
    "plt.grid()\n",
    "print(df.Gender.value_counts())\n",
    "plt.show()"
   ]
  },
  {
   "cell_type": "code",
   "execution_count": 9,
   "id": "5c5d3d2b",
   "metadata": {},
   "outputs": [
    {
     "name": "stdout",
     "output_type": "stream",
     "text": [
      "No     500\n",
      "Yes     82\n",
      "Name: Self_Employed, dtype: int64\n"
     ]
    },
    {
     "data": {
      "image/png": "[encoded data removed]",
      "text/plain": [
       "<Figure size 432x288 with 1 Axes>"
      ]
     },
     "metadata": {
      "needs_background": "light"
     },
     "output_type": "display_data"
    }
   ],
   "source": [
    "sns.countplot(df.Self_Employed,hue=df.Loan_Status)\n",
    "plt.grid()\n",
    "print(df.Self_Employed.value_counts())\n",
    "plt.show()"
   ]
  },
  {
   "cell_type": "code",
   "execution_count": 12,
   "id": "f8f4df59",
   "metadata": {},
   "outputs": [
    {
     "data": {
      "text/plain": [
       "146.41"
      ]
     },
     "execution_count": 12,
     "metadata": {},
     "output_type": "execute_result"
    }
   ],
   "source": [
    "round(df.LoanAmount.mean(),2)"
   ]
  },
  {
   "cell_type": "code",
   "execution_count": 13,
   "id": "9663d592",
   "metadata": {},
   "outputs": [
    {
     "data": {
      "text/plain": [
       "342.0"
      ]
     },
     "execution_count": 13,
     "metadata": {},
     "output_type": "execute_result"
    }
   ],
   "source": [
    "round(df.Loan_Amount_Term.mean(),2)"
   ]
  },
  {
   "cell_type": "code",
   "execution_count": 14,
   "id": "84fd919e",
   "metadata": {},
   "outputs": [
    {
     "data": {
      "text/plain": [
       "1621.25"
      ]
     },
     "execution_count": 14,
     "metadata": {},
     "output_type": "execute_result"
    }
   ],
   "source": [
    "round(df.CoapplicantIncome.mean(),2)"
   ]
  },
  {
   "cell_type": "code",
   "execution_count": 15,
   "id": "e0c9c06e",
   "metadata": {},
   "outputs": [
    {
     "data": {
      "text/plain": [
       "5403.46"
      ]
     },
     "execution_count": 15,
     "metadata": {},
     "output_type": "execute_result"
    }
   ],
   "source": [
    "round(df.ApplicantIncome.mean(),2)"
   ]
  },
  {
   "cell_type": "code",
   "execution_count": 17,
   "id": "650ccc11",
   "metadata": {},
   "outputs": [
    {
     "data": {
      "text/plain": [
       "Gender\n",
       "Female    4643.473214\n",
       "Male      5446.460123\n",
       "Name: ApplicantIncome, dtype: float64"
      ]
     },
     "execution_count": 17,
     "metadata": {},
     "output_type": "execute_result"
    }
   ],
   "source": [
    "df.ApplicantIncome.groupby(df.Gender).mean()"
   ]
  },
  {
   "cell_type": "code",
   "execution_count": 18,
   "id": "e1286ef6",
   "metadata": {},
   "outputs": [
    {
     "data": {
      "text/plain": [
       "Gender\n",
       "Female    126.697248\n",
       "Male      149.265957\n",
       "Name: LoanAmount, dtype: float64"
      ]
     },
     "execution_count": 18,
     "metadata": {},
     "output_type": "execute_result"
    }
   ],
   "source": [
    "df.LoanAmount.groupby(df.Gender).mean()"
   ]
  },
  {
   "cell_type": "code",
   "execution_count": 21,
   "id": "fa9f3bc6",
   "metadata": {},
   "outputs": [
    {
     "data": {
      "text/plain": [
       "1.0    475\n",
       "0.0     89\n",
       "Name: Credit_History, dtype: int64"
      ]
     },
     "execution_count": 21,
     "metadata": {},
     "output_type": "execute_result"
    }
   ],
   "source": [
    "df.Credit_History.value_counts()"
   ]
  },
  {
   "cell_type": "code",
   "execution_count": 20,
   "id": "4550b809",
   "metadata": {},
   "outputs": [
    {
     "data": {
      "image/png": "[encoded data removed]",
      "text/plain": [
       "<Figure size 432x288 with 1 Axes>"
      ]
     },
     "metadata": {
      "needs_background": "light"
     },
     "output_type": "display_data"
    }
   ],
   "source": [
    "sns.countplot(df.Loan_Status,hue=df.Credit_History)\n",
    "plt.grid()\n",
    "plt.show()"
   ]
  },
  {
   "cell_type": "code",
   "execution_count": 52,
   "id": "d900bf67",
   "metadata": {},
   "outputs": [
    {
     "name": "stdout",
     "output_type": "stream",
     "text": [
      "Semiurban    233\n",
      "Urban        202\n",
      "Rural        179\n",
      "Name: Property_Area, dtype: int64\n"
     ]
    },
    {
     "data": {
      "image/png": "[encoded data removed]",
      "text/plain": [
       "<Figure size 432x288 with 1 Axes>"
      ]
     },
     "metadata": {
      "needs_background": "light"
     },
     "output_type": "display_data"
    }
   ],
   "source": [
    "sns.countplot(df.Property_Area,hue=df.Loan_Status)\n",
    "print(df.Property_Area.value_counts())\n",
    "plt.show()"
   ]
  },
  {
   "cell_type": "code",
   "execution_count": 54,
   "id": "965de136",
   "metadata": {},
   "outputs": [
    {
     "data": {
      "text/plain": [
       "Loan_Amount_Term\n",
       "12.0     111.000000\n",
       "36.0     117.500000\n",
       "60.0     140.000000\n",
       "84.0     132.250000\n",
       "120.0     22.333333\n",
       "180.0    147.523810\n",
       "240.0    118.333333\n",
       "300.0    185.153846\n",
       "360.0    147.245436\n",
       "480.0    151.800000\n",
       "Name: LoanAmount, dtype: float64"
      ]
     },
     "execution_count": 54,
     "metadata": {},
     "output_type": "execute_result"
    }
   ],
   "source": [
    "df.LoanAmount.groupby(df.Loan_Amount_Term).mean()"
   ]
  },
  {
   "cell_type": "code",
   "execution_count": 55,
   "id": "39961a31",
   "metadata": {},
   "outputs": [
    {
     "data": {
      "text/plain": [
       "<AxesSubplot:>"
      ]
     },
     "execution_count": 55,
     "metadata": {},
     "output_type": "execute_result"
    },
    {
     "data": {
      "image/png": "[encoded data removed]",
      "text/plain": [
       "<Figure size 432x288 with 2 Axes>"
      ]
     },
     "metadata": {
      "needs_background": "light"
     },
     "output_type": "display_data"
    }
   ],
   "source": [
    "sns.heatmap(df.corr(),annot=True)"
   ]
  },
  {
   "cell_type": "code",
   "execution_count": 48,
   "id": "174f8685",
   "metadata": {},
   "outputs": [
    {
     "data": {
      "text/html": [
       "<div>\n",
       "<style scoped>\n",
       "    .dataframe tbody tr th:only-of-type {\n",
       "        vertical-align: middle;\n",
       "    }\n",
       "\n",
       "    .dataframe tbody tr th {\n",
       "        vertical-align: top;\n",
       "    }\n",
       "\n",
       "    .dataframe thead th {\n",
       "        text-align: right;\n",
       "    }\n",
       "</style>\n",
       "<table border=\"1\" class=\"dataframe\">\n",
       "  <thead>\n",
       "    <tr style=\"text-align: right;\">\n",
       "      <th></th>\n",
       "      <th>Loan_ID</th>\n",
       "      <th>Gender</th>\n",
       "      <th>Married</th>\n",
       "      <th>Dependents</th>\n",
       "      <th>Education</th>\n",
       "      <th>Self_Employed</th>\n",
       "      <th>ApplicantIncome</th>\n",
       "      <th>CoapplicantIncome</th>\n",
       "      <th>LoanAmount</th>\n",
       "      <th>Loan_Amount_Term</th>\n",
       "      <th>Credit_History</th>\n",
       "      <th>Property_Area</th>\n",
       "      <th>Loan_Status</th>\n",
       "    </tr>\n",
       "  </thead>\n",
       "  <tbody>\n",
       "    <tr>\n",
       "      <th>0</th>\n",
       "      <td>LP001002</td>\n",
       "      <td>Male</td>\n",
       "      <td>No</td>\n",
       "      <td>0</td>\n",
       "      <td>Graduate</td>\n",
       "      <td>No</td>\n",
       "      <td>5849</td>\n",
       "      <td>0.0</td>\n",
       "      <td>NaN</td>\n",
       "      <td>360.0</td>\n",
       "      <td>1.0</td>\n",
       "      <td>Urban</td>\n",
       "      <td>Y</td>\n",
       "    </tr>\n",
       "    <tr>\n",
       "      <th>1</th>\n",
       "      <td>LP001003</td>\n",
       "      <td>Male</td>\n",
       "      <td>Yes</td>\n",
       "      <td>1</td>\n",
       "      <td>Graduate</td>\n",
       "      <td>No</td>\n",
       "      <td>4583</td>\n",
       "      <td>1508.0</td>\n",
       "      <td>128.0</td>\n",
       "      <td>360.0</td>\n",
       "      <td>1.0</td>\n",
       "      <td>Rural</td>\n",
       "      <td>N</td>\n",
       "    </tr>\n",
       "    <tr>\n",
       "      <th>2</th>\n",
       "      <td>LP001005</td>\n",
       "      <td>Male</td>\n",
       "      <td>Yes</td>\n",
       "      <td>0</td>\n",
       "      <td>Graduate</td>\n",
       "      <td>Yes</td>\n",
       "      <td>3000</td>\n",
       "      <td>0.0</td>\n",
       "      <td>66.0</td>\n",
       "      <td>360.0</td>\n",
       "      <td>1.0</td>\n",
       "      <td>Urban</td>\n",
       "      <td>Y</td>\n",
       "    </tr>\n",
       "    <tr>\n",
       "      <th>3</th>\n",
       "      <td>LP001006</td>\n",
       "      <td>Male</td>\n",
       "      <td>Yes</td>\n",
       "      <td>0</td>\n",
       "      <td>Not Graduate</td>\n",
       "      <td>No</td>\n",
       "      <td>2583</td>\n",
       "      <td>2358.0</td>\n",
       "      <td>120.0</td>\n",
       "      <td>360.0</td>\n",
       "      <td>1.0</td>\n",
       "      <td>Urban</td>\n",
       "      <td>Y</td>\n",
       "    </tr>\n",
       "    <tr>\n",
       "      <th>4</th>\n",
       "      <td>LP001008</td>\n",
       "      <td>Male</td>\n",
       "      <td>No</td>\n",
       "      <td>0</td>\n",
       "      <td>Graduate</td>\n",
       "      <td>No</td>\n",
       "      <td>6000</td>\n",
       "      <td>0.0</td>\n",
       "      <td>141.0</td>\n",
       "      <td>360.0</td>\n",
       "      <td>1.0</td>\n",
       "      <td>Urban</td>\n",
       "      <td>Y</td>\n",
       "    </tr>\n",
       "  </tbody>\n",
       "</table>\n",
       "</div>"
      ],
      "text/plain": [
       "    Loan_ID Gender Married Dependents     Education Self_Employed  \\\n",
       "0  LP001002   Male      No          0      Graduate            No   \n",
       "1  LP001003   Male     Yes          1      Graduate            No   \n",
       "2  LP001005   Male     Yes          0      Graduate           Yes   \n",
       "3  LP001006   Male     Yes          0  Not Graduate            No   \n",
       "4  LP001008   Male      No          0      Graduate            No   \n",
       "\n",
       "   ApplicantIncome  CoapplicantIncome  LoanAmount  Loan_Amount_Term  \\\n",
       "0             5849                0.0         NaN             360.0   \n",
       "1             4583             1508.0       128.0             360.0   \n",
       "2             3000                0.0        66.0             360.0   \n",
       "3             2583             2358.0       120.0             360.0   \n",
       "4             6000                0.0       141.0             360.0   \n",
       "\n",
       "   Credit_History Property_Area Loan_Status  \n",
       "0             1.0         Urban           Y  \n",
       "1             1.0         Rural           N  \n",
       "2             1.0         Urban           Y  \n",
       "3             1.0         Urban           Y  \n",
       "4             1.0         Urban           Y  "
      ]
     },
     "execution_count": 48,
     "metadata": {},
     "output_type": "execute_result"
    }
   ],
   "source": [
    "df.head()"
   ]
  },
  {
   "cell_type": "code",
   "execution_count": null,
   "id": "e6d24049",
   "metadata": {},
   "outputs": [],
   "source": []
  },
  {
   "cell_type": "code",
   "execution_count": 22,
   "id": "9e21783d",
   "metadata": {},
   "outputs": [],
   "source": [
    "ml = df.copy()"
   ]
  },
  {
   "cell_type": "code",
   "execution_count": 35,
   "id": "bbeb41f5",
   "metadata": {},
   "outputs": [
    {
     "data": {
      "text/html": [
       "<div>\n",
       "<style scoped>\n",
       "    .dataframe tbody tr th:only-of-type {\n",
       "        vertical-align: middle;\n",
       "    }\n",
       "\n",
       "    .dataframe tbody tr th {\n",
       "        vertical-align: top;\n",
       "    }\n",
       "\n",
       "    .dataframe thead th {\n",
       "        text-align: right;\n",
       "    }\n",
       "</style>\n",
       "<table border=\"1\" class=\"dataframe\">\n",
       "  <thead>\n",
       "    <tr style=\"text-align: right;\">\n",
       "      <th></th>\n",
       "      <th>Loan_ID</th>\n",
       "      <th>Gender</th>\n",
       "      <th>Married</th>\n",
       "      <th>Dependents</th>\n",
       "      <th>Education</th>\n",
       "      <th>Self_Employed</th>\n",
       "      <th>ApplicantIncome</th>\n",
       "      <th>CoapplicantIncome</th>\n",
       "      <th>LoanAmount</th>\n",
       "      <th>Loan_Amount_Term</th>\n",
       "      <th>Credit_History</th>\n",
       "      <th>Property_Area</th>\n",
       "      <th>Loan_Status</th>\n",
       "    </tr>\n",
       "  </thead>\n",
       "  <tbody>\n",
       "    <tr>\n",
       "      <th>0</th>\n",
       "      <td>LP001002</td>\n",
       "      <td>1</td>\n",
       "      <td>0</td>\n",
       "      <td>0</td>\n",
       "      <td>1</td>\n",
       "      <td>0</td>\n",
       "      <td>5849</td>\n",
       "      <td>0.0</td>\n",
       "      <td>NaN</td>\n",
       "      <td>360.0</td>\n",
       "      <td>1.0</td>\n",
       "      <td>Urban</td>\n",
       "      <td>Y</td>\n",
       "    </tr>\n",
       "    <tr>\n",
       "      <th>1</th>\n",
       "      <td>LP001003</td>\n",
       "      <td>1</td>\n",
       "      <td>1</td>\n",
       "      <td>1</td>\n",
       "      <td>1</td>\n",
       "      <td>0</td>\n",
       "      <td>4583</td>\n",
       "      <td>1508.0</td>\n",
       "      <td>128.0</td>\n",
       "      <td>360.0</td>\n",
       "      <td>1.0</td>\n",
       "      <td>Rural</td>\n",
       "      <td>N</td>\n",
       "    </tr>\n",
       "    <tr>\n",
       "      <th>2</th>\n",
       "      <td>LP001005</td>\n",
       "      <td>1</td>\n",
       "      <td>1</td>\n",
       "      <td>0</td>\n",
       "      <td>1</td>\n",
       "      <td>0</td>\n",
       "      <td>3000</td>\n",
       "      <td>0.0</td>\n",
       "      <td>66.0</td>\n",
       "      <td>360.0</td>\n",
       "      <td>1.0</td>\n",
       "      <td>Urban</td>\n",
       "      <td>Y</td>\n",
       "    </tr>\n",
       "    <tr>\n",
       "      <th>3</th>\n",
       "      <td>LP001006</td>\n",
       "      <td>1</td>\n",
       "      <td>1</td>\n",
       "      <td>0</td>\n",
       "      <td>0</td>\n",
       "      <td>0</td>\n",
       "      <td>2583</td>\n",
       "      <td>2358.0</td>\n",
       "      <td>120.0</td>\n",
       "      <td>360.0</td>\n",
       "      <td>1.0</td>\n",
       "      <td>Urban</td>\n",
       "      <td>Y</td>\n",
       "    </tr>\n",
       "    <tr>\n",
       "      <th>4</th>\n",
       "      <td>LP001008</td>\n",
       "      <td>1</td>\n",
       "      <td>0</td>\n",
       "      <td>0</td>\n",
       "      <td>1</td>\n",
       "      <td>0</td>\n",
       "      <td>6000</td>\n",
       "      <td>0.0</td>\n",
       "      <td>141.0</td>\n",
       "      <td>360.0</td>\n",
       "      <td>1.0</td>\n",
       "      <td>Urban</td>\n",
       "      <td>Y</td>\n",
       "    </tr>\n",
       "  </tbody>\n",
       "</table>\n",
       "</div>"
      ],
      "text/plain": [
       "    Loan_ID  Gender  Married Dependents  Education  Self_Employed  \\\n",
       "0  LP001002       1        0          0          1              0   \n",
       "1  LP001003       1        1          1          1              0   \n",
       "2  LP001005       1        1          0          1              0   \n",
       "3  LP001006       1        1          0          0              0   \n",
       "4  LP001008       1        0          0          1              0   \n",
       "\n",
       "   ApplicantIncome  CoapplicantIncome  LoanAmount  Loan_Amount_Term  \\\n",
       "0             5849                0.0         NaN             360.0   \n",
       "1             4583             1508.0       128.0             360.0   \n",
       "2             3000                0.0        66.0             360.0   \n",
       "3             2583             2358.0       120.0             360.0   \n",
       "4             6000                0.0       141.0             360.0   \n",
       "\n",
       "   Credit_History Property_Area Loan_Status  \n",
       "0             1.0         Urban           Y  \n",
       "1             1.0         Rural           N  \n",
       "2             1.0         Urban           Y  \n",
       "3             1.0         Urban           Y  \n",
       "4             1.0         Urban           Y  "
      ]
     },
     "execution_count": 35,
     "metadata": {},
     "output_type": "execute_result"
    }
   ],
   "source": [
    "ml.head()"
   ]
  },
  {
   "cell_type": "code",
   "execution_count": 31,
   "id": "1684e9bd",
   "metadata": {},
   "outputs": [
    {
     "data": {
      "text/plain": [
       "Graduate        480\n",
       "Not Graduate    134\n",
       "Name: Education, dtype: int64"
      ]
     },
     "execution_count": 31,
     "metadata": {},
     "output_type": "execute_result"
    }
   ],
   "source": [
    "ml.Education.value_counts()"
   ]
  },
  {
   "cell_type": "code",
   "execution_count": 27,
   "id": "17f26732",
   "metadata": {},
   "outputs": [],
   "source": [
    "gen = []\n",
    "for i in ml.Gender:\n",
    "    if i == 'Male':\n",
    "        gen.append(1)\n",
    "    else:\n",
    "        gen.append(0)\n",
    "ml['Gender'] = gen"
   ]
  },
  {
   "cell_type": "code",
   "execution_count": 29,
   "id": "caac960c",
   "metadata": {},
   "outputs": [],
   "source": [
    "mar = []\n",
    "for i in ml.Married:\n",
    "    if i == 'Yes':\n",
    "        mar.append(1)\n",
    "    else:\n",
    "        mar.append(0)\n",
    "ml['Married'] = mar"
   ]
  },
  {
   "cell_type": "code",
   "execution_count": 32,
   "id": "a123015f",
   "metadata": {},
   "outputs": [],
   "source": [
    "edu = []\n",
    "for i in ml.Education:\n",
    "    if i == 'Graduate':\n",
    "        edu.append(1)\n",
    "    else:\n",
    "        edu.append(0)\n",
    "ml['Education'] = edu"
   ]
  },
  {
   "cell_type": "code",
   "execution_count": 34,
   "id": "1d95ffeb",
   "metadata": {},
   "outputs": [],
   "source": [
    "se = []\n",
    "for i in ml.Self_Employed:\n",
    "    if i == 'Graduate':\n",
    "        se.append(1)\n",
    "    else:\n",
    "        se.append(0)\n",
    "ml['Self_Employed'] = se"
   ]
  },
  {
   "cell_type": "code",
   "execution_count": null,
   "id": "79dc49c9",
   "metadata": {},
   "outputs": [],
   "source": []
  },
  {
   "cell_type": "code",
   "execution_count": null,
   "id": "fd6532dd",
   "metadata": {},
   "outputs": [],
   "source": []
  },
  {
   "cell_type": "code",
   "execution_count": 23,
   "id": "9aebab2b",
   "metadata": {},
   "outputs": [],
   "source": [
    "from sklearn.model_selection import train_test_split\n",
    "from sklearn.preprocessing import LabelEncoder\n",
    "from sklearn.linear_model import LogisticRegression\n",
    "from sklearn.neighbors import KNeighborsClassifier\n",
    "from sklearn.tree import DecisionTreeClassifier\n",
    "from sklearn.ensemble import RandomForestClassifier\n",
    "from xgboost import XGBClassifier, XGBRFClassifier\n",
    "from catboost import CatBoostClassifier\n",
    "from lightgbm import LGBMClassifier"
   ]
  },
  {
   "cell_type": "code",
   "execution_count": null,
   "id": "b54720aa",
   "metadata": {},
   "outputs": [],
   "source": []
  }
 ],
 "metadata": {
  "kernelspec": {
   "display_name": "Python 3 (ipykernel)",
   "language": "python",
   "name": "python3"
  },
  "language_info": {
   "codemirror_mode": {
    "name": "ipython",
    "version": 3
   },
   "file_extension": ".py",
   "mimetype": "text/x-python",
   "name": "python",
   "nbconvert_exporter": "python",
   "pygments_lexer": "ipython3",
   "version": "3.8.12"
  }
 },
 "nbformat": 4,
 "nbformat_minor": 5
}
